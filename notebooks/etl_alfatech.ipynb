{
 "cells": [
  {
   "cell_type": "markdown",
   "metadata": {},
   "source": [
    "# **Projeto de Web Scraping e Integração com E-commerce**\n",
    "\n",
    "## **Objetivo do Projeto**\n",
    "\n",
    "O principal objetivo deste projeto é automatizar o processo de **coleta de informações de produtos** de um site e **inserir esses dados em uma plataforma de e-commerce** como Shopify, WordPress (WooCommerce) ou Wix. A ideia é garantir que os produtos sejam constantemente atualizados e sincronizados no e-commerce de maneira eficiente e automatizada.\n",
    "\n",
    "## **Tecnologias Utilizadas**\n",
    "\n",
    "Neste projeto, utilizamos diversas tecnologias e ferramentas para garantir a execução eficiente do processo. As principais são:\n",
    "\n",
    "- **Python**: Linguagem principal usada no projeto para desenvolvimento do web scraping e automação.\n",
    "- **BeautifulSoup**: Biblioteca Python para **web scraping**, utilizada para extrair dados do HTML de páginas web.\n",
    "- **Requests**: Utilizada para fazer as **requisições HTTP** e obter o conteúdo das páginas.\n",
    "- **Regex (re)**: Usada para **manipulação de strings** e garantir a formatação correta dos dados, como remover múltiplos hífens.\n",
    "- **APIs de E-commerce**: Integração com plataformas como **Shopify**, **WooCommerce** e **Wix**, através de suas respectivas APIs.\n",
    "\n",
    "---\n",
    "\n",
    "## **Fluxo do Projeto**\n",
    "\n",
    "1. **Coleta de Dados**: Fazemos o scraping das páginas do site, extraindo informações essenciais como nome, preço e descrição do produto.\n",
    "2. **Formatação dos Dados**: Os dados coletados são processados para garantir a correta padronização, como a remoção de espaços e múltiplos hífens.\n",
    "3. **Inserção no E-commerce**: Usamos APIs específicas das plataformas de e-commerce para enviar os dados formatados e criar/atualizar produtos automaticamente.\n",
    "4. **Automatização**: O processo é agendado para rodar periodicamente, garantindo que as informações dos produtos estejam sempre atualizadas.\n",
    "\n",
    "---\n",
    "\n",
    "## **Estrutura do Código**\n",
    "\n",
    "O código está estruturado da seguinte maneira:\n",
    "\n",
    "- **Web Scraping**: Scripts responsáveis por acessar as páginas de produtos e extrair as informações relevantes.\n",
    "- **Formatação**: Funções que formatam e limpam os dados extraídos.\n",
    "- **Integração com APIs**: Funções que conectam com as APIs das plataformas de e-commerce.\n",
    "- **Automatização**: Scripts que agendam e automatizam o processo de scraping e envio de produtos.\n",
    "\n",
    "---\n",
    "\n",
    "## **Conclusão**\n",
    "\n",
    "Este projeto é uma solução eficiente para **automatizar a gestão de produtos em plataformas de e-commerce**, utilizando **Python** e **web scraping** como base. A integração com APIs e o agendamento de tarefas garantem que o sistema esteja sempre atualizado, facilitando o trabalho e reduzindo erros manuais.\n",
    "\n"
   ]
  },
  {
   "cell_type": "markdown",
   "metadata": {},
   "source": [
    "## **Código**\n",
    "\n",
    "# Extração Alfatech\n",
    "\n",
    "### 1.0 - Bibliotecas"
   ]
  },
  {
   "cell_type": "code",
   "execution_count": 1,
   "metadata": {},
   "outputs": [],
   "source": [
    "# requisições para o html\n",
    "import requests\n",
    "from bs4 import BeautifulSoup\n",
    "# manipulação do sistema\n",
    "import os\n",
    "# manipulação de Dados\n",
    "import re\n",
    "import pandas as pd\n",
    "import datetime as dt"
   ]
  },
  {
   "cell_type": "code",
   "execution_count": 12,
   "metadata": {},
   "outputs": [
    {
     "data": {
      "text/html": [
       "<div>\n",
       "<style scoped>\n",
       "    .dataframe tbody tr th:only-of-type {\n",
       "        vertical-align: middle;\n",
       "    }\n",
       "\n",
       "    .dataframe tbody tr th {\n",
       "        vertical-align: top;\n",
       "    }\n",
       "\n",
       "    .dataframe thead th {\n",
       "        text-align: right;\n",
       "    }\n",
       "</style>\n",
       "<table border=\"1\" class=\"dataframe\">\n",
       "  <thead>\n",
       "    <tr style=\"text-align: right;\">\n",
       "      <th></th>\n",
       "    </tr>\n",
       "  </thead>\n",
       "  <tbody>\n",
       "  </tbody>\n",
       "</table>\n",
       "</div>"
      ],
      "text/plain": [
       "Empty DataFrame\n",
       "Columns: []\n",
       "Index: []"
      ]
     },
     "execution_count": 12,
     "metadata": {},
     "output_type": "execute_result"
    }
   ],
   "source": [
    "pd.read_parquet(r\"todos_produtos (7).parquet\")"
   ]
  },
  {
   "cell_type": "markdown",
   "metadata": {},
   "source": [
    "### 2.0 - Extração"
   ]
  },
  {
   "cell_type": "code",
   "execution_count": 43,
   "metadata": {},
   "outputs": [],
   "source": [
    "categorias = pd.read_pickle(r'../data/alfatech/files/categorys_alfatech.pickle')"
   ]
  },
  {
   "cell_type": "code",
   "execution_count": 44,
   "metadata": {},
   "outputs": [],
   "source": [
    "# categorias de produtos dentro do Site da ALfatech\n",
    "\n",
    "categorys = [\n",
    "    'https://www.grupoalfatec.com.py/category/aro-led',\n",
    "    'https://www.grupoalfatec.com.py/category/bastao-led',\n",
    "    'https://www.grupoalfatec.com.py/category/flash',\n",
    "    'https://www.grupoalfatec.com.py/category/kit-de-iluminacao',\n",
    "    'https://www.grupoalfatec.com.py/category/lampada-suporte',\n",
    "    \n",
    "]"
   ]
  },
  {
   "cell_type": "code",
   "execution_count": 45,
   "metadata": {},
   "outputs": [],
   "source": [
    "t = 'https://www.grupoalfatec.com.py/product/aro-led-rl-14'"
   ]
  },
  {
   "cell_type": "code",
   "execution_count": 83,
   "metadata": {},
   "outputs": [
    {
     "data": {
      "text/plain": [
       "'Aro Led RL-14'"
      ]
     },
     "execution_count": 83,
     "metadata": {},
     "output_type": "execute_result"
    }
   ],
   "source": [
    "soup.find_all('h1')[1].text.strip()"
   ]
  },
  {
   "cell_type": "code",
   "execution_count": 90,
   "metadata": {},
   "outputs": [],
   "source": [
    "url_ = 'https://www.grupoalfatec.com.py/product/aro-led-yongnuo-yn508-s'"
   ]
  },
  {
   "cell_type": "code",
   "execution_count": 97,
   "metadata": {},
   "outputs": [],
   "source": [
    "response = requests.get(t)\n",
    "soup = BeautifulSoup(response.content, 'html.parser')"
   ]
  },
  {
   "cell_type": "code",
   "execution_count": 98,
   "metadata": {},
   "outputs": [
    {
     "name": "stdout",
     "output_type": "stream",
     "text": [
      "\n",
      " Indisponivel\n"
     ]
    }
   ],
   "source": [
    "if soup.find_all('div', attrs={'class':'unavailable'}) != []:\n",
    "    print('\\n Indisponivel')\n",
    "    inds = 'indisponivel'\n",
    "    \n",
    "else:\n",
    "    print('\\n Produto em Estoque')\n",
    "    inds = 'Produto em Estoque' "
   ]
  },
  {
   "cell_type": "code",
   "execution_count": 46,
   "metadata": {},
   "outputs": [
    {
     "name": "stdout",
     "output_type": "stream",
     "text": [
      "\n",
      " Encontrando os valores do produto\n"
     ]
    }
   ],
   "source": [
    "url = t\n",
    "response = requests.get(url)\n",
    "soup = BeautifulSoup(response.content, 'html.parser')\n",
    "\n",
    "print('\\n Encontrando os valores do produto')\n",
    "# Extrair o título (h1)\n",
    "title = soup.find_all('h1')[1].text.strip()"
   ]
  },
  {
   "cell_type": "code",
   "execution_count": 47,
   "metadata": {},
   "outputs": [
    {
     "data": {
      "text/plain": [
       "'Aro Led RL-14'"
      ]
     },
     "execution_count": 47,
     "metadata": {},
     "output_type": "execute_result"
    }
   ],
   "source": [
    "soup.find_all('h1')[1].text.strip()"
   ]
  },
  {
   "cell_type": "code",
   "execution_count": 48,
   "metadata": {},
   "outputs": [],
   "source": [
    "descricao = soup.find_all(\n",
    "    'p'\n",
    ")[0].text.strip()"
   ]
  },
  {
   "cell_type": "code",
   "execution_count": 128,
   "metadata": {},
   "outputs": [
    {
     "name": "stdout",
     "output_type": "stream",
     "text": [
      "\n",
      " Produto não encontrado\n"
     ]
    }
   ],
   "source": [
    "url = 'https://www.grupoalfatec.com.py/product/mini-rebotador-plata-blanca-para-flash'\n",
    "response = requests.get(url)\n",
    "soup = BeautifulSoup(response.content, 'html.parser')\n",
    "if soup.find_all('h1')[1].text.strip() == '¡Atención! No entregamos productos en Brasil.':\n",
    "    print('\\n Produto não encontrado')"
   ]
  },
  {
   "cell_type": "code",
   "execution_count": 137,
   "metadata": {},
   "outputs": [],
   "source": [
    "def scrape_product(url, produto):\n",
    "    response = requests.get(url)\n",
    "    soup = BeautifulSoup(response.content, 'html.parser')\n",
    "\n",
    "    print('\\n Encontrando os valores do produto')\n",
    "    # Extrair o título (h1)\n",
    "    title = soup.find_all('h1')[1].text.strip()\n",
    "\n",
    "    # Extrair o preço em diferentes moedas\n",
    "    price_div = soup.find('div', class_='price')\n",
    "    usd_price = price_div.contents[0].strip().replace('U$ ','')  # Preço em USD\n",
    "    brl_price = price_div.find('span').text.strip().replace('R$ ','').replace('/','')  # Preço em BRL\n",
    "    gs_price = price_div.find_all('span')[1].text.strip().replace('Gs ','')  # Preço em Gs\n",
    "    descricao = soup.find_all('p')[0].text.strip() # Descricao do Produto\n",
    "\n",
    "    # Retornar os dados extraídos como dicionário\n",
    "    print({\n",
    "        'Nome do Produto': title,\n",
    "        'Descricao Do Produto': descricao,\n",
    "        'Valor Em Dólar': usd_price,\n",
    "        'Valor Em Real': brl_price,\n",
    "        'Valor Em Peso': gs_price\n",
    "    })\n",
    "    data = pd.DataFrame({\n",
    "        'nome_produto':[title],\n",
    "        'valor_dolar':[usd_price],\n",
    "        'descricao': [descricao],\n",
    "        'valor_real':[brl_price],\n",
    "        'valor_em_guaranis':[gs_price],\n",
    "        'landing_date': [dt.date.today()]\n",
    "    })\n",
    "    dt_ = dt.date.today()\n",
    "    #data.to_parquet(fr'../data/alfatech_{produto}_{dt_}.parquet')\n",
    "    return data\n"
   ]
  },
  {
   "cell_type": "code",
   "execution_count": 66,
   "metadata": {},
   "outputs": [
    {
     "name": "stdout",
     "output_type": "stream",
     "text": [
      "\n",
      " Encontrando os valores do produto\n",
      "{'Nome do Produto': 'Aro Led RL-14', 'Descricao Do Produto': 'La luz del anillo es muy adecuada para maquillaje, selfie, fotografía, transmisión en vivo, conferencias, esteticista, YouTube, tatuador, blogger de video, peluquería/salón, Facebook en vivo, transmisión en vivo de Instagram, Snapchat, iluminación.', 'Valor Em Dólar': '17.00', 'Valor Em Real': '100,30 ', 'Valor Em Peso': '133.450'}\n"
     ]
    },
    {
     "data": {
      "text/html": [
       "<div>\n",
       "<style scoped>\n",
       "    .dataframe tbody tr th:only-of-type {\n",
       "        vertical-align: middle;\n",
       "    }\n",
       "\n",
       "    .dataframe tbody tr th {\n",
       "        vertical-align: top;\n",
       "    }\n",
       "\n",
       "    .dataframe thead th {\n",
       "        text-align: right;\n",
       "    }\n",
       "</style>\n",
       "<table border=\"1\" class=\"dataframe\">\n",
       "  <thead>\n",
       "    <tr style=\"text-align: right;\">\n",
       "      <th></th>\n",
       "      <th>nome_produto</th>\n",
       "      <th>valor_dolar</th>\n",
       "      <th>descricao</th>\n",
       "      <th>valor_real</th>\n",
       "      <th>valor_em_guaranis</th>\n",
       "      <th>landing_date</th>\n",
       "    </tr>\n",
       "  </thead>\n",
       "  <tbody>\n",
       "    <tr>\n",
       "      <th>0</th>\n",
       "      <td>Aro Led RL-14</td>\n",
       "      <td>17.00</td>\n",
       "      <td>La luz del anillo es muy adecuada para maquill...</td>\n",
       "      <td>100,30</td>\n",
       "      <td>133.450</td>\n",
       "      <td>2024-11-11</td>\n",
       "    </tr>\n",
       "  </tbody>\n",
       "</table>\n",
       "</div>"
      ],
      "text/plain": [
       "    nome_produto valor_dolar  \\\n",
       "0  Aro Led RL-14       17.00   \n",
       "\n",
       "                                           descricao valor_real  \\\n",
       "0  La luz del anillo es muy adecuada para maquill...    100,30    \n",
       "\n",
       "  valor_em_guaranis landing_date  \n",
       "0           133.450   2024-11-11  "
      ]
     },
     "execution_count": 66,
     "metadata": {},
     "output_type": "execute_result"
    }
   ],
   "source": [
    "scrape_product(t,'aro-led-rl-14')"
   ]
  },
  {
   "cell_type": "code",
   "execution_count": null,
   "metadata": {},
   "outputs": [],
   "source": [
    "def find_all_categorys_products(category):\n",
    "    ''' Find all categorys products from the Alfatec site'''\n",
    "    # set the url_\n",
    "    url_ = fr'{category}'\n",
    "    response = requests.get(url_)\n",
    "    soup = BeautifulSoup(response.content, 'html.parser')\n",
    "    titles = soup.find_all('h1')\n",
    "    processed_titles = [\n",
    "        re.sub(r'-+', '-', title.text.strip().lower().replace(' ', '-').replace('/', '-'))  # minusculo e substituindo espaços por hifens\n",
    "        for title in titles\n",
    "            if title.text.strip().lower() != 'menu'  # removendo o 'menu'\n",
    "    ]\n",
    "    menus_ = ['páginas', 'categorías', 'categorias', 'hable-con-nosotros', 'sobre-nosotros', 'fale-conosco', 'marcas']\n",
    "    # Filtrando os títulos\n",
    "    processed_titles = [\n",
    "        title for title in processed_titles if title not in menus_\n",
    "    ]\n",
    "    dfs = []\n",
    "\n",
    "    for produto in processed_titles:\n",
    "        print(produto)\n",
    "        dfs.append(scrape_product(fr'https://www.grupoalfatec.com.py/product/{produto}',produto))\n"
   ]
  },
  {
   "cell_type": "code",
   "execution_count": 142,
   "metadata": {},
   "outputs": [
    {
     "data": {
      "text/html": [
       "<div>\n",
       "<style scoped>\n",
       "    .dataframe tbody tr th:only-of-type {\n",
       "        vertical-align: middle;\n",
       "    }\n",
       "\n",
       "    .dataframe tbody tr th {\n",
       "        vertical-align: top;\n",
       "    }\n",
       "\n",
       "    .dataframe thead th {\n",
       "        text-align: right;\n",
       "    }\n",
       "</style>\n",
       "<table border=\"1\" class=\"dataframe\">\n",
       "  <thead>\n",
       "    <tr style=\"text-align: right;\">\n",
       "      <th></th>\n",
       "      <th>nome_produto</th>\n",
       "      <th>valor_dolar</th>\n",
       "      <th>descricao</th>\n",
       "      <th>valor_real</th>\n",
       "      <th>valor_em_guaranis</th>\n",
       "      <th>estoque</th>\n",
       "      <th>landing_date</th>\n",
       "      <th>url</th>\n",
       "    </tr>\n",
       "  </thead>\n",
       "  <tbody>\n",
       "    <tr>\n",
       "      <th>0</th>\n",
       "      <td>Kit Flash Studio Nicefoto KT-TB605 (400W/220V)</td>\n",
       "      <td>0</td>\n",
       "      <td>Tem se concentrado na pesquisa e desenvolvimen...</td>\n",
       "      <td>0</td>\n",
       "      <td>0</td>\n",
       "      <td>Indisponível</td>\n",
       "      <td>2024-11-12</td>\n",
       "      <td>https://www.grupoalfatec.com.py/product/kit-fl...</td>\n",
       "    </tr>\n",
       "    <tr>\n",
       "      <th>1</th>\n",
       "      <td>Kit Led Nicefoto KT-503</td>\n",
       "      <td>0</td>\n",
       "      <td>Tem se concentrado na pesquisa e desenvolvimen...</td>\n",
       "      <td>0</td>\n",
       "      <td>0</td>\n",
       "      <td>Indisponível</td>\n",
       "      <td>2024-11-12</td>\n",
       "      <td>https://www.grupoalfatec.com.py/product/kit-le...</td>\n",
       "    </tr>\n",
       "    <tr>\n",
       "      <th>2</th>\n",
       "      <td>Kit Flash Studio Nicefoto KT-GE250</td>\n",
       "      <td>0</td>\n",
       "      <td>Tem se concentrado na pesquisa e desenvolvimen...</td>\n",
       "      <td>0</td>\n",
       "      <td>0</td>\n",
       "      <td>Indisponível</td>\n",
       "      <td>2024-11-12</td>\n",
       "      <td>https://www.grupoalfatec.com.py/product/kit-fl...</td>\n",
       "    </tr>\n",
       "    <tr>\n",
       "      <th>3</th>\n",
       "      <td>Kit Flash De Estudio Godox MS300-F (220V)</td>\n",
       "      <td>0</td>\n",
       "      <td></td>\n",
       "      <td>0</td>\n",
       "      <td>0</td>\n",
       "      <td>Indisponível</td>\n",
       "      <td>2024-11-12</td>\n",
       "      <td>https://www.grupoalfatec.com.py/product/kit-fl...</td>\n",
       "    </tr>\n",
       "    <tr>\n",
       "      <th>4</th>\n",
       "      <td>Kit Studio E-Reise ER-BSU01</td>\n",
       "      <td>0</td>\n",
       "      <td>Este Kit de Iluminación es perfecto para aquel...</td>\n",
       "      <td>0</td>\n",
       "      <td>0</td>\n",
       "      <td>Indisponível</td>\n",
       "      <td>2024-11-12</td>\n",
       "      <td>https://www.grupoalfatec.com.py/product/kit-st...</td>\n",
       "    </tr>\n",
       "  </tbody>\n",
       "</table>\n",
       "</div>"
      ],
      "text/plain": [
       "                                     nome_produto  valor_dolar  \\\n",
       "0  Kit Flash Studio Nicefoto KT-TB605 (400W/220V)            0   \n",
       "1                         Kit Led Nicefoto KT-503            0   \n",
       "2              Kit Flash Studio Nicefoto KT-GE250            0   \n",
       "3       Kit Flash De Estudio Godox MS300-F (220V)            0   \n",
       "4                     Kit Studio E-Reise ER-BSU01            0   \n",
       "\n",
       "                                           descricao  valor_real  \\\n",
       "0  Tem se concentrado na pesquisa e desenvolvimen...           0   \n",
       "1  Tem se concentrado na pesquisa e desenvolvimen...           0   \n",
       "2  Tem se concentrado na pesquisa e desenvolvimen...           0   \n",
       "3                                                              0   \n",
       "4  Este Kit de Iluminación es perfecto para aquel...           0   \n",
       "\n",
       "   valor_em_guaranis       estoque landing_date  \\\n",
       "0                  0  Indisponível   2024-11-12   \n",
       "1                  0  Indisponível   2024-11-12   \n",
       "2                  0  Indisponível   2024-11-12   \n",
       "3                  0  Indisponível   2024-11-12   \n",
       "4                  0  Indisponível   2024-11-12   \n",
       "\n",
       "                                                 url  \n",
       "0  https://www.grupoalfatec.com.py/product/kit-fl...  \n",
       "1  https://www.grupoalfatec.com.py/product/kit-le...  \n",
       "2  https://www.grupoalfatec.com.py/product/kit-fl...  \n",
       "3  https://www.grupoalfatec.com.py/product/kit-fl...  \n",
       "4  https://www.grupoalfatec.com.py/product/kit-st...  "
      ]
     },
     "execution_count": 142,
     "metadata": {},
     "output_type": "execute_result"
    }
   ],
   "source": [
    "pd.read_parquet(r'part.parquet')"
   ]
  },
  {
   "cell_type": "code",
   "execution_count": 67,
   "metadata": {},
   "outputs": [],
   "source": [
    "import awswrangler as awr"
   ]
  },
  {
   "cell_type": "code",
   "execution_count": 135,
   "metadata": {},
   "outputs": [],
   "source": [
    "'''awr.s3.read_parquet(\n",
    "    's3://behe-ecommerce/data/alfatech/parquet/todos_produtos_2024-11-11.parquet'\n",
    ")'''\n",
    "url = pd.read_parquet(\n",
    "    'todos_produtos (2).parquet'\n",
    ")"
   ]
  },
  {
   "cell_type": "code",
   "execution_count": 136,
   "metadata": {},
   "outputs": [
    {
     "data": {
      "text/html": [
       "<div>\n",
       "<style scoped>\n",
       "    .dataframe tbody tr th:only-of-type {\n",
       "        vertical-align: middle;\n",
       "    }\n",
       "\n",
       "    .dataframe tbody tr th {\n",
       "        vertical-align: top;\n",
       "    }\n",
       "\n",
       "    .dataframe thead th {\n",
       "        text-align: right;\n",
       "    }\n",
       "</style>\n",
       "<table border=\"1\" class=\"dataframe\">\n",
       "  <thead>\n",
       "    <tr style=\"text-align: right;\">\n",
       "      <th></th>\n",
       "    </tr>\n",
       "  </thead>\n",
       "  <tbody>\n",
       "  </tbody>\n",
       "</table>\n",
       "</div>"
      ],
      "text/plain": [
       "Empty DataFrame\n",
       "Columns: []\n",
       "Index: []"
      ]
     },
     "execution_count": 136,
     "metadata": {},
     "output_type": "execute_result"
    }
   ],
   "source": [
    "url"
   ]
  },
  {
   "cell_type": "code",
   "execution_count": 82,
   "metadata": {},
   "outputs": [
    {
     "data": {
      "text/plain": [
       "'https://www.grupoalfatec.com.py/product/tampas'"
      ]
     },
     "execution_count": 82,
     "metadata": {},
     "output_type": "execute_result"
    }
   ],
   "source": [
    "url['url'][0]"
   ]
  },
  {
   "cell_type": "code",
   "execution_count": 40,
   "metadata": {},
   "outputs": [
    {
     "name": "stdout",
     "output_type": "stream",
     "text": [
      "https://www.grupoalfatec.com.py/\n",
      "¡atención!-no-entregamos-productos-en-brasil.\n",
      "\n",
      " Encontrando os valores do produto\n",
      "{'Nome do Produto': '¡Atención! No entregamos productos en Brasil.', 'Valor Em Dólar': 'U$ 369.00', 'Valor Em Real': 'R$ 2.136,51 /', 'Valor Em Peso': 'Gs 2.933.550'}\n",
      "novidades\n",
      "\n",
      " Encontrando os valores do produto\n",
      "{'Nome do Produto': '¡Atención! No entregamos productos en Brasil.', 'Valor Em Dólar': 'U$ 369.00', 'Valor Em Real': 'R$ 2.136,51 /', 'Valor Em Peso': 'Gs 2.933.550'}\n",
      "switch-live-streaming-yololiv-yolobox-pro\n",
      "\n",
      " Encontrando os valores do produto\n",
      "{'Nome do Produto': 'Switch Live Streaming Yololiv Yolobox Pro', 'Valor Em Dólar': 'U$ 1225.00', 'Valor Em Real': 'R$ 7.092,75 /', 'Valor Em Peso': 'Gs 9.738.750'}\n",
      "tilta-mirage-vnd-kite-box-mb-t16-a\n",
      "\n",
      " Encontrando os valores do produto\n",
      "{'Nome do Produto': 'Tilta Mirage VND Kite Box MB-T16-A', 'Valor Em Dólar': 'U$ 369.00', 'Valor Em Real': 'R$ 2.136,51 /', 'Valor Em Peso': 'Gs 2.933.550'}\n",
      "dron-dji-mini-4k\n",
      "\n",
      " Encontrando os valores do produto\n",
      "{'Nome do Produto': '¡Atención! No entregamos productos en Brasil.', 'Valor Em Dólar': 'U$ 399.00', 'Valor Em Real': 'R$ 2.310,21 /', 'Valor Em Peso': 'Gs 3.172.050'}\n",
      "cámara-de-acción-gopro-hero-13-black-(chdhx-131-rw)\n",
      "\n",
      " Encontrando os valores do produto\n",
      "{'Nome do Produto': '¡Atención! No entregamos productos en Brasil.', 'Valor Em Dólar': 'U$ 369.00', 'Valor Em Real': 'R$ 2.136,51 /', 'Valor Em Peso': 'Gs 2.933.550'}\n",
      "destaques\n",
      "\n",
      " Encontrando os valores do produto\n",
      "{'Nome do Produto': '¡Atención! No entregamos productos en Brasil.', 'Valor Em Dólar': 'U$ 369.00', 'Valor Em Real': 'R$ 2.136,51 /', 'Valor Em Peso': 'Gs 2.933.550'}\n",
      "flash-de-estudio-godox-ms300v-220v\n",
      "\n",
      " Encontrando os valores do produto\n",
      "{'Nome do Produto': 'Flash De Estudio Godox MS300V  220V', 'Valor Em Dólar': 'U$ 205.00', 'Valor Em Real': 'R$ 1.186,95 /', 'Valor Em Peso': 'Gs 1.629.750'}\n",
      "lente-tamron-28-200mm-f-2.8-5.6-di-iii-rxd-para-sony\n"
     ]
    },
    {
     "ename": "KeyboardInterrupt",
     "evalue": "",
     "output_type": "error",
     "traceback": [
      "\u001b[1;31m---------------------------------------------------------------------------\u001b[0m",
      "\u001b[1;31mKeyboardInterrupt\u001b[0m                         Traceback (most recent call last)",
      "Cell \u001b[1;32mIn[40], line 3\u001b[0m\n\u001b[0;32m      1\u001b[0m \u001b[38;5;28;01mfor\u001b[39;00m category \u001b[38;5;129;01min\u001b[39;00m categorias:\n\u001b[0;32m      2\u001b[0m     \u001b[38;5;28mprint\u001b[39m(\u001b[38;5;124mf\u001b[39m\u001b[38;5;124m'\u001b[39m\u001b[38;5;124mhttps://www.grupoalfatec.com.py/\u001b[39m\u001b[38;5;132;01m{\u001b[39;00mcategory\u001b[38;5;132;01m}\u001b[39;00m\u001b[38;5;124m'\u001b[39m)\n\u001b[1;32m----> 3\u001b[0m     \u001b[43mfind_all_categorys_products\u001b[49m\u001b[43m(\u001b[49m\u001b[38;5;124;43mf\u001b[39;49m\u001b[38;5;124;43m'\u001b[39;49m\u001b[38;5;124;43mhttps://www.grupoalfatec.com.py/\u001b[39;49m\u001b[38;5;132;43;01m{\u001b[39;49;00m\u001b[43mcategory\u001b[49m\u001b[38;5;132;43;01m}\u001b[39;49;00m\u001b[38;5;124;43m'\u001b[39;49m\u001b[43m)\u001b[49m\n",
      "Cell \u001b[1;32mIn[39], line 22\u001b[0m, in \u001b[0;36mfind_all_categorys_products\u001b[1;34m(category)\u001b[0m\n\u001b[0;32m     20\u001b[0m \u001b[38;5;28;01mfor\u001b[39;00m produto \u001b[38;5;129;01min\u001b[39;00m processed_titles:\n\u001b[0;32m     21\u001b[0m     \u001b[38;5;28mprint\u001b[39m(produto)\n\u001b[1;32m---> 22\u001b[0m     dfs\u001b[38;5;241m.\u001b[39mappend(\u001b[43mscrape_product\u001b[49m\u001b[43m(\u001b[49m\u001b[38;5;124;43mfr\u001b[39;49m\u001b[38;5;124;43m'\u001b[39;49m\u001b[38;5;124;43mhttps://www.grupoalfatec.com.py/product/\u001b[39;49m\u001b[38;5;132;43;01m{\u001b[39;49;00m\u001b[43mproduto\u001b[49m\u001b[38;5;132;43;01m}\u001b[39;49;00m\u001b[38;5;124;43m'\u001b[39;49m\u001b[43m,\u001b[49m\u001b[43mproduto\u001b[49m\u001b[43m)\u001b[49m)\n",
      "Cell \u001b[1;32mIn[26], line 2\u001b[0m, in \u001b[0;36mscrape_product\u001b[1;34m(url, produto)\u001b[0m\n\u001b[0;32m      1\u001b[0m \u001b[38;5;28;01mdef\u001b[39;00m \u001b[38;5;21mscrape_product\u001b[39m(url, produto):\n\u001b[1;32m----> 2\u001b[0m     response \u001b[38;5;241m=\u001b[39m \u001b[43mrequests\u001b[49m\u001b[38;5;241;43m.\u001b[39;49m\u001b[43mget\u001b[49m\u001b[43m(\u001b[49m\u001b[43murl\u001b[49m\u001b[43m)\u001b[49m\n\u001b[0;32m      3\u001b[0m     soup \u001b[38;5;241m=\u001b[39m BeautifulSoup(response\u001b[38;5;241m.\u001b[39mcontent, \u001b[38;5;124m'\u001b[39m\u001b[38;5;124mhtml.parser\u001b[39m\u001b[38;5;124m'\u001b[39m)\n\u001b[0;32m      5\u001b[0m     \u001b[38;5;28mprint\u001b[39m(\u001b[38;5;124m'\u001b[39m\u001b[38;5;130;01m\\n\u001b[39;00m\u001b[38;5;124m Encontrando os valores do produto\u001b[39m\u001b[38;5;124m'\u001b[39m)\n",
      "File \u001b[1;32mc:\\Users\\guilherme.dias\\Documents\\guilherme\\personal_data_projects\\ecommerce_scrapy\\eco-venv\\Lib\\site-packages\\requests\\api.py:73\u001b[0m, in \u001b[0;36mget\u001b[1;34m(url, params, **kwargs)\u001b[0m\n\u001b[0;32m     62\u001b[0m \u001b[38;5;28;01mdef\u001b[39;00m \u001b[38;5;21mget\u001b[39m(url, params\u001b[38;5;241m=\u001b[39m\u001b[38;5;28;01mNone\u001b[39;00m, \u001b[38;5;241m*\u001b[39m\u001b[38;5;241m*\u001b[39mkwargs):\n\u001b[0;32m     63\u001b[0m \u001b[38;5;250m    \u001b[39m\u001b[38;5;124mr\u001b[39m\u001b[38;5;124;03m\"\"\"Sends a GET request.\u001b[39;00m\n\u001b[0;32m     64\u001b[0m \n\u001b[0;32m     65\u001b[0m \u001b[38;5;124;03m    :param url: URL for the new :class:`Request` object.\u001b[39;00m\n\u001b[1;32m   (...)\u001b[0m\n\u001b[0;32m     70\u001b[0m \u001b[38;5;124;03m    :rtype: requests.Response\u001b[39;00m\n\u001b[0;32m     71\u001b[0m \u001b[38;5;124;03m    \"\"\"\u001b[39;00m\n\u001b[1;32m---> 73\u001b[0m     \u001b[38;5;28;01mreturn\u001b[39;00m \u001b[43mrequest\u001b[49m\u001b[43m(\u001b[49m\u001b[38;5;124;43m\"\u001b[39;49m\u001b[38;5;124;43mget\u001b[39;49m\u001b[38;5;124;43m\"\u001b[39;49m\u001b[43m,\u001b[49m\u001b[43m \u001b[49m\u001b[43murl\u001b[49m\u001b[43m,\u001b[49m\u001b[43m \u001b[49m\u001b[43mparams\u001b[49m\u001b[38;5;241;43m=\u001b[39;49m\u001b[43mparams\u001b[49m\u001b[43m,\u001b[49m\u001b[43m \u001b[49m\u001b[38;5;241;43m*\u001b[39;49m\u001b[38;5;241;43m*\u001b[39;49m\u001b[43mkwargs\u001b[49m\u001b[43m)\u001b[49m\n",
      "File \u001b[1;32mc:\\Users\\guilherme.dias\\Documents\\guilherme\\personal_data_projects\\ecommerce_scrapy\\eco-venv\\Lib\\site-packages\\requests\\api.py:59\u001b[0m, in \u001b[0;36mrequest\u001b[1;34m(method, url, **kwargs)\u001b[0m\n\u001b[0;32m     55\u001b[0m \u001b[38;5;66;03m# By using the 'with' statement we are sure the session is closed, thus we\u001b[39;00m\n\u001b[0;32m     56\u001b[0m \u001b[38;5;66;03m# avoid leaving sockets open which can trigger a ResourceWarning in some\u001b[39;00m\n\u001b[0;32m     57\u001b[0m \u001b[38;5;66;03m# cases, and look like a memory leak in others.\u001b[39;00m\n\u001b[0;32m     58\u001b[0m \u001b[38;5;28;01mwith\u001b[39;00m sessions\u001b[38;5;241m.\u001b[39mSession() \u001b[38;5;28;01mas\u001b[39;00m session:\n\u001b[1;32m---> 59\u001b[0m     \u001b[38;5;28;01mreturn\u001b[39;00m \u001b[43msession\u001b[49m\u001b[38;5;241;43m.\u001b[39;49m\u001b[43mrequest\u001b[49m\u001b[43m(\u001b[49m\u001b[43mmethod\u001b[49m\u001b[38;5;241;43m=\u001b[39;49m\u001b[43mmethod\u001b[49m\u001b[43m,\u001b[49m\u001b[43m \u001b[49m\u001b[43murl\u001b[49m\u001b[38;5;241;43m=\u001b[39;49m\u001b[43murl\u001b[49m\u001b[43m,\u001b[49m\u001b[43m \u001b[49m\u001b[38;5;241;43m*\u001b[39;49m\u001b[38;5;241;43m*\u001b[39;49m\u001b[43mkwargs\u001b[49m\u001b[43m)\u001b[49m\n",
      "File \u001b[1;32mc:\\Users\\guilherme.dias\\Documents\\guilherme\\personal_data_projects\\ecommerce_scrapy\\eco-venv\\Lib\\site-packages\\requests\\sessions.py:589\u001b[0m, in \u001b[0;36mSession.request\u001b[1;34m(self, method, url, params, data, headers, cookies, files, auth, timeout, allow_redirects, proxies, hooks, stream, verify, cert, json)\u001b[0m\n\u001b[0;32m    584\u001b[0m send_kwargs \u001b[38;5;241m=\u001b[39m {\n\u001b[0;32m    585\u001b[0m     \u001b[38;5;124m\"\u001b[39m\u001b[38;5;124mtimeout\u001b[39m\u001b[38;5;124m\"\u001b[39m: timeout,\n\u001b[0;32m    586\u001b[0m     \u001b[38;5;124m\"\u001b[39m\u001b[38;5;124mallow_redirects\u001b[39m\u001b[38;5;124m\"\u001b[39m: allow_redirects,\n\u001b[0;32m    587\u001b[0m }\n\u001b[0;32m    588\u001b[0m send_kwargs\u001b[38;5;241m.\u001b[39mupdate(settings)\n\u001b[1;32m--> 589\u001b[0m resp \u001b[38;5;241m=\u001b[39m \u001b[38;5;28;43mself\u001b[39;49m\u001b[38;5;241;43m.\u001b[39;49m\u001b[43msend\u001b[49m\u001b[43m(\u001b[49m\u001b[43mprep\u001b[49m\u001b[43m,\u001b[49m\u001b[43m \u001b[49m\u001b[38;5;241;43m*\u001b[39;49m\u001b[38;5;241;43m*\u001b[39;49m\u001b[43msend_kwargs\u001b[49m\u001b[43m)\u001b[49m\n\u001b[0;32m    591\u001b[0m \u001b[38;5;28;01mreturn\u001b[39;00m resp\n",
      "File \u001b[1;32mc:\\Users\\guilherme.dias\\Documents\\guilherme\\personal_data_projects\\ecommerce_scrapy\\eco-venv\\Lib\\site-packages\\requests\\sessions.py:724\u001b[0m, in \u001b[0;36mSession.send\u001b[1;34m(self, request, **kwargs)\u001b[0m\n\u001b[0;32m    721\u001b[0m \u001b[38;5;28;01mif\u001b[39;00m allow_redirects:\n\u001b[0;32m    722\u001b[0m     \u001b[38;5;66;03m# Redirect resolving generator.\u001b[39;00m\n\u001b[0;32m    723\u001b[0m     gen \u001b[38;5;241m=\u001b[39m \u001b[38;5;28mself\u001b[39m\u001b[38;5;241m.\u001b[39mresolve_redirects(r, request, \u001b[38;5;241m*\u001b[39m\u001b[38;5;241m*\u001b[39mkwargs)\n\u001b[1;32m--> 724\u001b[0m     history \u001b[38;5;241m=\u001b[39m \u001b[43m[\u001b[49m\u001b[43mresp\u001b[49m\u001b[43m \u001b[49m\u001b[38;5;28;43;01mfor\u001b[39;49;00m\u001b[43m \u001b[49m\u001b[43mresp\u001b[49m\u001b[43m \u001b[49m\u001b[38;5;129;43;01min\u001b[39;49;00m\u001b[43m \u001b[49m\u001b[43mgen\u001b[49m\u001b[43m]\u001b[49m\n\u001b[0;32m    725\u001b[0m \u001b[38;5;28;01melse\u001b[39;00m:\n\u001b[0;32m    726\u001b[0m     history \u001b[38;5;241m=\u001b[39m []\n",
      "File \u001b[1;32mc:\\Users\\guilherme.dias\\Documents\\guilherme\\personal_data_projects\\ecommerce_scrapy\\eco-venv\\Lib\\site-packages\\requests\\sessions.py:265\u001b[0m, in \u001b[0;36mSessionRedirectMixin.resolve_redirects\u001b[1;34m(self, resp, req, stream, timeout, verify, cert, proxies, yield_requests, **adapter_kwargs)\u001b[0m\n\u001b[0;32m    263\u001b[0m     \u001b[38;5;28;01myield\u001b[39;00m req\n\u001b[0;32m    264\u001b[0m \u001b[38;5;28;01melse\u001b[39;00m:\n\u001b[1;32m--> 265\u001b[0m     resp \u001b[38;5;241m=\u001b[39m \u001b[38;5;28;43mself\u001b[39;49m\u001b[38;5;241;43m.\u001b[39;49m\u001b[43msend\u001b[49m\u001b[43m(\u001b[49m\n\u001b[0;32m    266\u001b[0m \u001b[43m        \u001b[49m\u001b[43mreq\u001b[49m\u001b[43m,\u001b[49m\n\u001b[0;32m    267\u001b[0m \u001b[43m        \u001b[49m\u001b[43mstream\u001b[49m\u001b[38;5;241;43m=\u001b[39;49m\u001b[43mstream\u001b[49m\u001b[43m,\u001b[49m\n\u001b[0;32m    268\u001b[0m \u001b[43m        \u001b[49m\u001b[43mtimeout\u001b[49m\u001b[38;5;241;43m=\u001b[39;49m\u001b[43mtimeout\u001b[49m\u001b[43m,\u001b[49m\n\u001b[0;32m    269\u001b[0m \u001b[43m        \u001b[49m\u001b[43mverify\u001b[49m\u001b[38;5;241;43m=\u001b[39;49m\u001b[43mverify\u001b[49m\u001b[43m,\u001b[49m\n\u001b[0;32m    270\u001b[0m \u001b[43m        \u001b[49m\u001b[43mcert\u001b[49m\u001b[38;5;241;43m=\u001b[39;49m\u001b[43mcert\u001b[49m\u001b[43m,\u001b[49m\n\u001b[0;32m    271\u001b[0m \u001b[43m        \u001b[49m\u001b[43mproxies\u001b[49m\u001b[38;5;241;43m=\u001b[39;49m\u001b[43mproxies\u001b[49m\u001b[43m,\u001b[49m\n\u001b[0;32m    272\u001b[0m \u001b[43m        \u001b[49m\u001b[43mallow_redirects\u001b[49m\u001b[38;5;241;43m=\u001b[39;49m\u001b[38;5;28;43;01mFalse\u001b[39;49;00m\u001b[43m,\u001b[49m\n\u001b[0;32m    273\u001b[0m \u001b[43m        \u001b[49m\u001b[38;5;241;43m*\u001b[39;49m\u001b[38;5;241;43m*\u001b[39;49m\u001b[43madapter_kwargs\u001b[49m\u001b[43m,\u001b[49m\n\u001b[0;32m    274\u001b[0m \u001b[43m    \u001b[49m\u001b[43m)\u001b[49m\n\u001b[0;32m    276\u001b[0m     extract_cookies_to_jar(\u001b[38;5;28mself\u001b[39m\u001b[38;5;241m.\u001b[39mcookies, prepared_request, resp\u001b[38;5;241m.\u001b[39mraw)\n\u001b[0;32m    278\u001b[0m     \u001b[38;5;66;03m# extract redirect url, if any, for the next loop\u001b[39;00m\n",
      "File \u001b[1;32mc:\\Users\\guilherme.dias\\Documents\\guilherme\\personal_data_projects\\ecommerce_scrapy\\eco-venv\\Lib\\site-packages\\requests\\sessions.py:703\u001b[0m, in \u001b[0;36mSession.send\u001b[1;34m(self, request, **kwargs)\u001b[0m\n\u001b[0;32m    700\u001b[0m start \u001b[38;5;241m=\u001b[39m preferred_clock()\n\u001b[0;32m    702\u001b[0m \u001b[38;5;66;03m# Send the request\u001b[39;00m\n\u001b[1;32m--> 703\u001b[0m r \u001b[38;5;241m=\u001b[39m \u001b[43madapter\u001b[49m\u001b[38;5;241;43m.\u001b[39;49m\u001b[43msend\u001b[49m\u001b[43m(\u001b[49m\u001b[43mrequest\u001b[49m\u001b[43m,\u001b[49m\u001b[43m \u001b[49m\u001b[38;5;241;43m*\u001b[39;49m\u001b[38;5;241;43m*\u001b[39;49m\u001b[43mkwargs\u001b[49m\u001b[43m)\u001b[49m\n\u001b[0;32m    705\u001b[0m \u001b[38;5;66;03m# Total elapsed time of the request (approximately)\u001b[39;00m\n\u001b[0;32m    706\u001b[0m elapsed \u001b[38;5;241m=\u001b[39m preferred_clock() \u001b[38;5;241m-\u001b[39m start\n",
      "File \u001b[1;32mc:\\Users\\guilherme.dias\\Documents\\guilherme\\personal_data_projects\\ecommerce_scrapy\\eco-venv\\Lib\\site-packages\\requests\\adapters.py:667\u001b[0m, in \u001b[0;36mHTTPAdapter.send\u001b[1;34m(self, request, stream, timeout, verify, cert, proxies)\u001b[0m\n\u001b[0;32m    664\u001b[0m     timeout \u001b[38;5;241m=\u001b[39m TimeoutSauce(connect\u001b[38;5;241m=\u001b[39mtimeout, read\u001b[38;5;241m=\u001b[39mtimeout)\n\u001b[0;32m    666\u001b[0m \u001b[38;5;28;01mtry\u001b[39;00m:\n\u001b[1;32m--> 667\u001b[0m     resp \u001b[38;5;241m=\u001b[39m \u001b[43mconn\u001b[49m\u001b[38;5;241;43m.\u001b[39;49m\u001b[43murlopen\u001b[49m\u001b[43m(\u001b[49m\n\u001b[0;32m    668\u001b[0m \u001b[43m        \u001b[49m\u001b[43mmethod\u001b[49m\u001b[38;5;241;43m=\u001b[39;49m\u001b[43mrequest\u001b[49m\u001b[38;5;241;43m.\u001b[39;49m\u001b[43mmethod\u001b[49m\u001b[43m,\u001b[49m\n\u001b[0;32m    669\u001b[0m \u001b[43m        \u001b[49m\u001b[43murl\u001b[49m\u001b[38;5;241;43m=\u001b[39;49m\u001b[43murl\u001b[49m\u001b[43m,\u001b[49m\n\u001b[0;32m    670\u001b[0m \u001b[43m        \u001b[49m\u001b[43mbody\u001b[49m\u001b[38;5;241;43m=\u001b[39;49m\u001b[43mrequest\u001b[49m\u001b[38;5;241;43m.\u001b[39;49m\u001b[43mbody\u001b[49m\u001b[43m,\u001b[49m\n\u001b[0;32m    671\u001b[0m \u001b[43m        \u001b[49m\u001b[43mheaders\u001b[49m\u001b[38;5;241;43m=\u001b[39;49m\u001b[43mrequest\u001b[49m\u001b[38;5;241;43m.\u001b[39;49m\u001b[43mheaders\u001b[49m\u001b[43m,\u001b[49m\n\u001b[0;32m    672\u001b[0m \u001b[43m        \u001b[49m\u001b[43mredirect\u001b[49m\u001b[38;5;241;43m=\u001b[39;49m\u001b[38;5;28;43;01mFalse\u001b[39;49;00m\u001b[43m,\u001b[49m\n\u001b[0;32m    673\u001b[0m \u001b[43m        \u001b[49m\u001b[43massert_same_host\u001b[49m\u001b[38;5;241;43m=\u001b[39;49m\u001b[38;5;28;43;01mFalse\u001b[39;49;00m\u001b[43m,\u001b[49m\n\u001b[0;32m    674\u001b[0m \u001b[43m        \u001b[49m\u001b[43mpreload_content\u001b[49m\u001b[38;5;241;43m=\u001b[39;49m\u001b[38;5;28;43;01mFalse\u001b[39;49;00m\u001b[43m,\u001b[49m\n\u001b[0;32m    675\u001b[0m \u001b[43m        \u001b[49m\u001b[43mdecode_content\u001b[49m\u001b[38;5;241;43m=\u001b[39;49m\u001b[38;5;28;43;01mFalse\u001b[39;49;00m\u001b[43m,\u001b[49m\n\u001b[0;32m    676\u001b[0m \u001b[43m        \u001b[49m\u001b[43mretries\u001b[49m\u001b[38;5;241;43m=\u001b[39;49m\u001b[38;5;28;43mself\u001b[39;49m\u001b[38;5;241;43m.\u001b[39;49m\u001b[43mmax_retries\u001b[49m\u001b[43m,\u001b[49m\n\u001b[0;32m    677\u001b[0m \u001b[43m        \u001b[49m\u001b[43mtimeout\u001b[49m\u001b[38;5;241;43m=\u001b[39;49m\u001b[43mtimeout\u001b[49m\u001b[43m,\u001b[49m\n\u001b[0;32m    678\u001b[0m \u001b[43m        \u001b[49m\u001b[43mchunked\u001b[49m\u001b[38;5;241;43m=\u001b[39;49m\u001b[43mchunked\u001b[49m\u001b[43m,\u001b[49m\n\u001b[0;32m    679\u001b[0m \u001b[43m    \u001b[49m\u001b[43m)\u001b[49m\n\u001b[0;32m    681\u001b[0m \u001b[38;5;28;01mexcept\u001b[39;00m (ProtocolError, \u001b[38;5;167;01mOSError\u001b[39;00m) \u001b[38;5;28;01mas\u001b[39;00m err:\n\u001b[0;32m    682\u001b[0m     \u001b[38;5;28;01mraise\u001b[39;00m \u001b[38;5;167;01mConnectionError\u001b[39;00m(err, request\u001b[38;5;241m=\u001b[39mrequest)\n",
      "File \u001b[1;32mc:\\Users\\guilherme.dias\\Documents\\guilherme\\personal_data_projects\\ecommerce_scrapy\\eco-venv\\Lib\\site-packages\\urllib3\\connectionpool.py:789\u001b[0m, in \u001b[0;36mHTTPConnectionPool.urlopen\u001b[1;34m(self, method, url, body, headers, retries, redirect, assert_same_host, timeout, pool_timeout, release_conn, chunked, body_pos, preload_content, decode_content, **response_kw)\u001b[0m\n\u001b[0;32m    786\u001b[0m response_conn \u001b[38;5;241m=\u001b[39m conn \u001b[38;5;28;01mif\u001b[39;00m \u001b[38;5;129;01mnot\u001b[39;00m release_conn \u001b[38;5;28;01melse\u001b[39;00m \u001b[38;5;28;01mNone\u001b[39;00m\n\u001b[0;32m    788\u001b[0m \u001b[38;5;66;03m# Make the request on the HTTPConnection object\u001b[39;00m\n\u001b[1;32m--> 789\u001b[0m response \u001b[38;5;241m=\u001b[39m \u001b[38;5;28;43mself\u001b[39;49m\u001b[38;5;241;43m.\u001b[39;49m\u001b[43m_make_request\u001b[49m\u001b[43m(\u001b[49m\n\u001b[0;32m    790\u001b[0m \u001b[43m    \u001b[49m\u001b[43mconn\u001b[49m\u001b[43m,\u001b[49m\n\u001b[0;32m    791\u001b[0m \u001b[43m    \u001b[49m\u001b[43mmethod\u001b[49m\u001b[43m,\u001b[49m\n\u001b[0;32m    792\u001b[0m \u001b[43m    \u001b[49m\u001b[43murl\u001b[49m\u001b[43m,\u001b[49m\n\u001b[0;32m    793\u001b[0m \u001b[43m    \u001b[49m\u001b[43mtimeout\u001b[49m\u001b[38;5;241;43m=\u001b[39;49m\u001b[43mtimeout_obj\u001b[49m\u001b[43m,\u001b[49m\n\u001b[0;32m    794\u001b[0m \u001b[43m    \u001b[49m\u001b[43mbody\u001b[49m\u001b[38;5;241;43m=\u001b[39;49m\u001b[43mbody\u001b[49m\u001b[43m,\u001b[49m\n\u001b[0;32m    795\u001b[0m \u001b[43m    \u001b[49m\u001b[43mheaders\u001b[49m\u001b[38;5;241;43m=\u001b[39;49m\u001b[43mheaders\u001b[49m\u001b[43m,\u001b[49m\n\u001b[0;32m    796\u001b[0m \u001b[43m    \u001b[49m\u001b[43mchunked\u001b[49m\u001b[38;5;241;43m=\u001b[39;49m\u001b[43mchunked\u001b[49m\u001b[43m,\u001b[49m\n\u001b[0;32m    797\u001b[0m \u001b[43m    \u001b[49m\u001b[43mretries\u001b[49m\u001b[38;5;241;43m=\u001b[39;49m\u001b[43mretries\u001b[49m\u001b[43m,\u001b[49m\n\u001b[0;32m    798\u001b[0m \u001b[43m    \u001b[49m\u001b[43mresponse_conn\u001b[49m\u001b[38;5;241;43m=\u001b[39;49m\u001b[43mresponse_conn\u001b[49m\u001b[43m,\u001b[49m\n\u001b[0;32m    799\u001b[0m \u001b[43m    \u001b[49m\u001b[43mpreload_content\u001b[49m\u001b[38;5;241;43m=\u001b[39;49m\u001b[43mpreload_content\u001b[49m\u001b[43m,\u001b[49m\n\u001b[0;32m    800\u001b[0m \u001b[43m    \u001b[49m\u001b[43mdecode_content\u001b[49m\u001b[38;5;241;43m=\u001b[39;49m\u001b[43mdecode_content\u001b[49m\u001b[43m,\u001b[49m\n\u001b[0;32m    801\u001b[0m \u001b[43m    \u001b[49m\u001b[38;5;241;43m*\u001b[39;49m\u001b[38;5;241;43m*\u001b[39;49m\u001b[43mresponse_kw\u001b[49m\u001b[43m,\u001b[49m\n\u001b[0;32m    802\u001b[0m \u001b[43m\u001b[49m\u001b[43m)\u001b[49m\n\u001b[0;32m    804\u001b[0m \u001b[38;5;66;03m# Everything went great!\u001b[39;00m\n\u001b[0;32m    805\u001b[0m clean_exit \u001b[38;5;241m=\u001b[39m \u001b[38;5;28;01mTrue\u001b[39;00m\n",
      "File \u001b[1;32mc:\\Users\\guilherme.dias\\Documents\\guilherme\\personal_data_projects\\ecommerce_scrapy\\eco-venv\\Lib\\site-packages\\urllib3\\connectionpool.py:536\u001b[0m, in \u001b[0;36mHTTPConnectionPool._make_request\u001b[1;34m(self, conn, method, url, body, headers, retries, timeout, chunked, response_conn, preload_content, decode_content, enforce_content_length)\u001b[0m\n\u001b[0;32m    534\u001b[0m \u001b[38;5;66;03m# Receive the response from the server\u001b[39;00m\n\u001b[0;32m    535\u001b[0m \u001b[38;5;28;01mtry\u001b[39;00m:\n\u001b[1;32m--> 536\u001b[0m     response \u001b[38;5;241m=\u001b[39m \u001b[43mconn\u001b[49m\u001b[38;5;241;43m.\u001b[39;49m\u001b[43mgetresponse\u001b[49m\u001b[43m(\u001b[49m\u001b[43m)\u001b[49m\n\u001b[0;32m    537\u001b[0m \u001b[38;5;28;01mexcept\u001b[39;00m (BaseSSLError, \u001b[38;5;167;01mOSError\u001b[39;00m) \u001b[38;5;28;01mas\u001b[39;00m e:\n\u001b[0;32m    538\u001b[0m     \u001b[38;5;28mself\u001b[39m\u001b[38;5;241m.\u001b[39m_raise_timeout(err\u001b[38;5;241m=\u001b[39me, url\u001b[38;5;241m=\u001b[39murl, timeout_value\u001b[38;5;241m=\u001b[39mread_timeout)\n",
      "File \u001b[1;32mc:\\Users\\guilherme.dias\\Documents\\guilherme\\personal_data_projects\\ecommerce_scrapy\\eco-venv\\Lib\\site-packages\\urllib3\\connection.py:507\u001b[0m, in \u001b[0;36mHTTPConnection.getresponse\u001b[1;34m(self)\u001b[0m\n\u001b[0;32m    504\u001b[0m \u001b[38;5;28;01mfrom\u001b[39;00m \u001b[38;5;21;01m.\u001b[39;00m\u001b[38;5;21;01mresponse\u001b[39;00m \u001b[38;5;28;01mimport\u001b[39;00m HTTPResponse\n\u001b[0;32m    506\u001b[0m \u001b[38;5;66;03m# Get the response from http.client.HTTPConnection\u001b[39;00m\n\u001b[1;32m--> 507\u001b[0m httplib_response \u001b[38;5;241m=\u001b[39m \u001b[38;5;28;43msuper\u001b[39;49m\u001b[43m(\u001b[49m\u001b[43m)\u001b[49m\u001b[38;5;241;43m.\u001b[39;49m\u001b[43mgetresponse\u001b[49m\u001b[43m(\u001b[49m\u001b[43m)\u001b[49m\n\u001b[0;32m    509\u001b[0m \u001b[38;5;28;01mtry\u001b[39;00m:\n\u001b[0;32m    510\u001b[0m     assert_header_parsing(httplib_response\u001b[38;5;241m.\u001b[39mmsg)\n",
      "File \u001b[1;32m~\\AppData\\Local\\Programs\\Python\\Python312\\Lib\\http\\client.py:1428\u001b[0m, in \u001b[0;36mHTTPConnection.getresponse\u001b[1;34m(self)\u001b[0m\n\u001b[0;32m   1426\u001b[0m \u001b[38;5;28;01mtry\u001b[39;00m:\n\u001b[0;32m   1427\u001b[0m     \u001b[38;5;28;01mtry\u001b[39;00m:\n\u001b[1;32m-> 1428\u001b[0m         \u001b[43mresponse\u001b[49m\u001b[38;5;241;43m.\u001b[39;49m\u001b[43mbegin\u001b[49m\u001b[43m(\u001b[49m\u001b[43m)\u001b[49m\n\u001b[0;32m   1429\u001b[0m     \u001b[38;5;28;01mexcept\u001b[39;00m \u001b[38;5;167;01mConnectionError\u001b[39;00m:\n\u001b[0;32m   1430\u001b[0m         \u001b[38;5;28mself\u001b[39m\u001b[38;5;241m.\u001b[39mclose()\n",
      "File \u001b[1;32m~\\AppData\\Local\\Programs\\Python\\Python312\\Lib\\http\\client.py:331\u001b[0m, in \u001b[0;36mHTTPResponse.begin\u001b[1;34m(self)\u001b[0m\n\u001b[0;32m    329\u001b[0m \u001b[38;5;66;03m# read until we get a non-100 response\u001b[39;00m\n\u001b[0;32m    330\u001b[0m \u001b[38;5;28;01mwhile\u001b[39;00m \u001b[38;5;28;01mTrue\u001b[39;00m:\n\u001b[1;32m--> 331\u001b[0m     version, status, reason \u001b[38;5;241m=\u001b[39m \u001b[38;5;28;43mself\u001b[39;49m\u001b[38;5;241;43m.\u001b[39;49m\u001b[43m_read_status\u001b[49m\u001b[43m(\u001b[49m\u001b[43m)\u001b[49m\n\u001b[0;32m    332\u001b[0m     \u001b[38;5;28;01mif\u001b[39;00m status \u001b[38;5;241m!=\u001b[39m CONTINUE:\n\u001b[0;32m    333\u001b[0m         \u001b[38;5;28;01mbreak\u001b[39;00m\n",
      "File \u001b[1;32m~\\AppData\\Local\\Programs\\Python\\Python312\\Lib\\http\\client.py:292\u001b[0m, in \u001b[0;36mHTTPResponse._read_status\u001b[1;34m(self)\u001b[0m\n\u001b[0;32m    291\u001b[0m \u001b[38;5;28;01mdef\u001b[39;00m \u001b[38;5;21m_read_status\u001b[39m(\u001b[38;5;28mself\u001b[39m):\n\u001b[1;32m--> 292\u001b[0m     line \u001b[38;5;241m=\u001b[39m \u001b[38;5;28mstr\u001b[39m(\u001b[38;5;28;43mself\u001b[39;49m\u001b[38;5;241;43m.\u001b[39;49m\u001b[43mfp\u001b[49m\u001b[38;5;241;43m.\u001b[39;49m\u001b[43mreadline\u001b[49m\u001b[43m(\u001b[49m\u001b[43m_MAXLINE\u001b[49m\u001b[43m \u001b[49m\u001b[38;5;241;43m+\u001b[39;49m\u001b[43m \u001b[49m\u001b[38;5;241;43m1\u001b[39;49m\u001b[43m)\u001b[49m, \u001b[38;5;124m\"\u001b[39m\u001b[38;5;124miso-8859-1\u001b[39m\u001b[38;5;124m\"\u001b[39m)\n\u001b[0;32m    293\u001b[0m     \u001b[38;5;28;01mif\u001b[39;00m \u001b[38;5;28mlen\u001b[39m(line) \u001b[38;5;241m>\u001b[39m _MAXLINE:\n\u001b[0;32m    294\u001b[0m         \u001b[38;5;28;01mraise\u001b[39;00m LineTooLong(\u001b[38;5;124m\"\u001b[39m\u001b[38;5;124mstatus line\u001b[39m\u001b[38;5;124m\"\u001b[39m)\n",
      "File \u001b[1;32m~\\AppData\\Local\\Programs\\Python\\Python312\\Lib\\socket.py:720\u001b[0m, in \u001b[0;36mSocketIO.readinto\u001b[1;34m(self, b)\u001b[0m\n\u001b[0;32m    718\u001b[0m \u001b[38;5;28;01mwhile\u001b[39;00m \u001b[38;5;28;01mTrue\u001b[39;00m:\n\u001b[0;32m    719\u001b[0m     \u001b[38;5;28;01mtry\u001b[39;00m:\n\u001b[1;32m--> 720\u001b[0m         \u001b[38;5;28;01mreturn\u001b[39;00m \u001b[38;5;28;43mself\u001b[39;49m\u001b[38;5;241;43m.\u001b[39;49m\u001b[43m_sock\u001b[49m\u001b[38;5;241;43m.\u001b[39;49m\u001b[43mrecv_into\u001b[49m\u001b[43m(\u001b[49m\u001b[43mb\u001b[49m\u001b[43m)\u001b[49m\n\u001b[0;32m    721\u001b[0m     \u001b[38;5;28;01mexcept\u001b[39;00m timeout:\n\u001b[0;32m    722\u001b[0m         \u001b[38;5;28mself\u001b[39m\u001b[38;5;241m.\u001b[39m_timeout_occurred \u001b[38;5;241m=\u001b[39m \u001b[38;5;28;01mTrue\u001b[39;00m\n",
      "File \u001b[1;32m~\\AppData\\Local\\Programs\\Python\\Python312\\Lib\\ssl.py:1252\u001b[0m, in \u001b[0;36mSSLSocket.recv_into\u001b[1;34m(self, buffer, nbytes, flags)\u001b[0m\n\u001b[0;32m   1248\u001b[0m     \u001b[38;5;28;01mif\u001b[39;00m flags \u001b[38;5;241m!=\u001b[39m \u001b[38;5;241m0\u001b[39m:\n\u001b[0;32m   1249\u001b[0m         \u001b[38;5;28;01mraise\u001b[39;00m \u001b[38;5;167;01mValueError\u001b[39;00m(\n\u001b[0;32m   1250\u001b[0m           \u001b[38;5;124m\"\u001b[39m\u001b[38;5;124mnon-zero flags not allowed in calls to recv_into() on \u001b[39m\u001b[38;5;132;01m%s\u001b[39;00m\u001b[38;5;124m\"\u001b[39m \u001b[38;5;241m%\u001b[39m\n\u001b[0;32m   1251\u001b[0m           \u001b[38;5;28mself\u001b[39m\u001b[38;5;241m.\u001b[39m\u001b[38;5;18m__class__\u001b[39m)\n\u001b[1;32m-> 1252\u001b[0m     \u001b[38;5;28;01mreturn\u001b[39;00m \u001b[38;5;28;43mself\u001b[39;49m\u001b[38;5;241;43m.\u001b[39;49m\u001b[43mread\u001b[49m\u001b[43m(\u001b[49m\u001b[43mnbytes\u001b[49m\u001b[43m,\u001b[49m\u001b[43m \u001b[49m\u001b[43mbuffer\u001b[49m\u001b[43m)\u001b[49m\n\u001b[0;32m   1253\u001b[0m \u001b[38;5;28;01melse\u001b[39;00m:\n\u001b[0;32m   1254\u001b[0m     \u001b[38;5;28;01mreturn\u001b[39;00m \u001b[38;5;28msuper\u001b[39m()\u001b[38;5;241m.\u001b[39mrecv_into(buffer, nbytes, flags)\n",
      "File \u001b[1;32m~\\AppData\\Local\\Programs\\Python\\Python312\\Lib\\ssl.py:1104\u001b[0m, in \u001b[0;36mSSLSocket.read\u001b[1;34m(self, len, buffer)\u001b[0m\n\u001b[0;32m   1102\u001b[0m \u001b[38;5;28;01mtry\u001b[39;00m:\n\u001b[0;32m   1103\u001b[0m     \u001b[38;5;28;01mif\u001b[39;00m buffer \u001b[38;5;129;01mis\u001b[39;00m \u001b[38;5;129;01mnot\u001b[39;00m \u001b[38;5;28;01mNone\u001b[39;00m:\n\u001b[1;32m-> 1104\u001b[0m         \u001b[38;5;28;01mreturn\u001b[39;00m \u001b[38;5;28;43mself\u001b[39;49m\u001b[38;5;241;43m.\u001b[39;49m\u001b[43m_sslobj\u001b[49m\u001b[38;5;241;43m.\u001b[39;49m\u001b[43mread\u001b[49m\u001b[43m(\u001b[49m\u001b[38;5;28;43mlen\u001b[39;49m\u001b[43m,\u001b[49m\u001b[43m \u001b[49m\u001b[43mbuffer\u001b[49m\u001b[43m)\u001b[49m\n\u001b[0;32m   1105\u001b[0m     \u001b[38;5;28;01melse\u001b[39;00m:\n\u001b[0;32m   1106\u001b[0m         \u001b[38;5;28;01mreturn\u001b[39;00m \u001b[38;5;28mself\u001b[39m\u001b[38;5;241m.\u001b[39m_sslobj\u001b[38;5;241m.\u001b[39mread(\u001b[38;5;28mlen\u001b[39m)\n",
      "\u001b[1;31mKeyboardInterrupt\u001b[0m: "
     ]
    }
   ],
   "source": [
    "for category in categorias:\n",
    "    print(f'https://www.grupoalfatec.com.py/{category}')\n",
    "    find_all_categorys_products(f'https://www.grupoalfatec.com.py/{category}')"
   ]
  },
  {
   "cell_type": "code",
   "execution_count": 30,
   "metadata": {},
   "outputs": [
    {
     "name": "stdout",
     "output_type": "stream",
     "text": [
      "https://www.grupoalfatec.com.py/category/aro-led\n",
      "\n",
      " Encontrando os valores do produto\n",
      "{'Nome do Produto': '¡Atención! No entregamos productos en Brasil.', 'Valor Em Dólar': 'U$ 1225.00', 'Valor Em Real': 'R$ 7.092,75 /', 'Valor Em Peso': 'Gs 9.738.750'}\n",
      "\n",
      " Encontrando os valores do produto\n",
      "{'Nome do Produto': 'Mini Aro Led Yongnuo YN08', 'Valor Em Dólar': 'U$ 17.00', 'Valor Em Real': 'R$ 98,43 /', 'Valor Em Peso': 'Gs 135.150'}\n",
      "\n",
      " Encontrando os valores do produto\n",
      "{'Nome do Produto': 'Aro Led Yongnuo YN308 Bicolor', 'Valor Em Dólar': 'U$ 90.00', 'Valor Em Real': 'R$ 521,10 /', 'Valor Em Peso': 'Gs 715.500'}\n",
      "\n",
      " Encontrando os valores do produto\n",
      "{'Nome do Produto': 'Aro Led 16 / AFI R16', 'Valor Em Dólar': 'U$ 50.00', 'Valor Em Real': 'R$ 289,50 /', 'Valor Em Peso': 'Gs 397.500'}\n",
      "\n",
      " Encontrando os valores do produto\n",
      "{'Nome do Produto': '¡Atención! No entregamos productos en Brasil.', 'Valor Em Dólar': 'U$ 369.00', 'Valor Em Real': 'R$ 2.136,51 /', 'Valor Em Peso': 'Gs 2.933.550'}\n",
      "\n",
      " Encontrando os valores do produto\n",
      "{'Nome do Produto': 'Aro Led Falconeyes DVD-300 DVC', 'Valor Em Dólar': 'U$ 125.00', 'Valor Em Real': 'R$ 723,75 /', 'Valor Em Peso': 'Gs 993.750'}\n",
      "\n",
      " Encontrando os valores do produto\n",
      "{'Nome do Produto': 'Aro Led RL12-240', 'Valor Em Dólar': 'U$ 45.00', 'Valor Em Real': 'R$ 260,55 /', 'Valor Em Peso': 'Gs 357.750'}\n",
      "\n",
      " Encontrando os valores do produto\n",
      "{'Nome do Produto': 'Aro Led Yongnuo YN508 S', 'Valor Em Dólar': 'U$ 75.00', 'Valor Em Real': 'R$ 434,25 /', 'Valor Em Peso': 'Gs 596.250'}\n",
      "\n",
      " Encontrando os valores do produto\n",
      "{'Nome do Produto': 'Aro Led RK-45', 'Valor Em Dólar': 'U$ 50.00', 'Valor Em Real': 'R$ 289,50 /', 'Valor Em Peso': 'Gs 397.500'}\n",
      "\n",
      " Encontrando os valores do produto\n",
      "{'Nome do Produto': '¡Atención! No entregamos productos en Brasil.', 'Valor Em Dólar': 'U$ 1225.00', 'Valor Em Real': 'R$ 7.092,75 /', 'Valor Em Peso': 'Gs 9.738.750'}\n"
     ]
    },
    {
     "ename": "KeyboardInterrupt",
     "evalue": "",
     "output_type": "error",
     "traceback": [
      "\u001b[1;31m---------------------------------------------------------------------------\u001b[0m",
      "\u001b[1;31mKeyboardInterrupt\u001b[0m                         Traceback (most recent call last)",
      "Cell \u001b[1;32mIn[30], line 4\u001b[0m\n\u001b[0;32m      2\u001b[0m \u001b[38;5;28;01mfor\u001b[39;00m category \u001b[38;5;129;01min\u001b[39;00m categorys:\n\u001b[0;32m      3\u001b[0m     \u001b[38;5;28mprint\u001b[39m(category)\n\u001b[1;32m----> 4\u001b[0m     dfs\u001b[38;5;241m.\u001b[39mappend(\u001b[43mfind_all_categorys_products\u001b[49m\u001b[43m(\u001b[49m\u001b[43mcategory\u001b[49m\u001b[43m)\u001b[49m)\n",
      "Cell \u001b[1;32mIn[27], line 21\u001b[0m, in \u001b[0;36mfind_all_categorys_products\u001b[1;34m(category)\u001b[0m\n\u001b[0;32m     18\u001b[0m dfs \u001b[38;5;241m=\u001b[39m []\n\u001b[0;32m     20\u001b[0m \u001b[38;5;28;01mfor\u001b[39;00m produto \u001b[38;5;129;01min\u001b[39;00m processed_titles:\n\u001b[1;32m---> 21\u001b[0m     dfs\u001b[38;5;241m.\u001b[39mappend(\u001b[43mscrape_product\u001b[49m\u001b[43m(\u001b[49m\u001b[38;5;124;43mfr\u001b[39;49m\u001b[38;5;124;43m'\u001b[39;49m\u001b[38;5;124;43mhttps://www.grupoalfatec.com.py/product/\u001b[39;49m\u001b[38;5;132;43;01m{\u001b[39;49;00m\u001b[43mproduto\u001b[49m\u001b[38;5;132;43;01m}\u001b[39;49;00m\u001b[38;5;124;43m'\u001b[39;49m\u001b[43m,\u001b[49m\u001b[43mproduto\u001b[49m\u001b[43m)\u001b[49m)\n",
      "Cell \u001b[1;32mIn[26], line 2\u001b[0m, in \u001b[0;36mscrape_product\u001b[1;34m(url, produto)\u001b[0m\n\u001b[0;32m      1\u001b[0m \u001b[38;5;28;01mdef\u001b[39;00m \u001b[38;5;21mscrape_product\u001b[39m(url, produto):\n\u001b[1;32m----> 2\u001b[0m     response \u001b[38;5;241m=\u001b[39m \u001b[43mrequests\u001b[49m\u001b[38;5;241;43m.\u001b[39;49m\u001b[43mget\u001b[49m\u001b[43m(\u001b[49m\u001b[43murl\u001b[49m\u001b[43m)\u001b[49m\n\u001b[0;32m      3\u001b[0m     soup \u001b[38;5;241m=\u001b[39m BeautifulSoup(response\u001b[38;5;241m.\u001b[39mcontent, \u001b[38;5;124m'\u001b[39m\u001b[38;5;124mhtml.parser\u001b[39m\u001b[38;5;124m'\u001b[39m)\n\u001b[0;32m      5\u001b[0m     \u001b[38;5;28mprint\u001b[39m(\u001b[38;5;124m'\u001b[39m\u001b[38;5;130;01m\\n\u001b[39;00m\u001b[38;5;124m Encontrando os valores do produto\u001b[39m\u001b[38;5;124m'\u001b[39m)\n",
      "File \u001b[1;32mc:\\Users\\guilherme.dias\\Documents\\guilherme\\personal_data_projects\\ecommerce_scrapy\\eco-venv\\Lib\\site-packages\\requests\\api.py:73\u001b[0m, in \u001b[0;36mget\u001b[1;34m(url, params, **kwargs)\u001b[0m\n\u001b[0;32m     62\u001b[0m \u001b[38;5;28;01mdef\u001b[39;00m \u001b[38;5;21mget\u001b[39m(url, params\u001b[38;5;241m=\u001b[39m\u001b[38;5;28;01mNone\u001b[39;00m, \u001b[38;5;241m*\u001b[39m\u001b[38;5;241m*\u001b[39mkwargs):\n\u001b[0;32m     63\u001b[0m \u001b[38;5;250m    \u001b[39m\u001b[38;5;124mr\u001b[39m\u001b[38;5;124;03m\"\"\"Sends a GET request.\u001b[39;00m\n\u001b[0;32m     64\u001b[0m \n\u001b[0;32m     65\u001b[0m \u001b[38;5;124;03m    :param url: URL for the new :class:`Request` object.\u001b[39;00m\n\u001b[1;32m   (...)\u001b[0m\n\u001b[0;32m     70\u001b[0m \u001b[38;5;124;03m    :rtype: requests.Response\u001b[39;00m\n\u001b[0;32m     71\u001b[0m \u001b[38;5;124;03m    \"\"\"\u001b[39;00m\n\u001b[1;32m---> 73\u001b[0m     \u001b[38;5;28;01mreturn\u001b[39;00m \u001b[43mrequest\u001b[49m\u001b[43m(\u001b[49m\u001b[38;5;124;43m\"\u001b[39;49m\u001b[38;5;124;43mget\u001b[39;49m\u001b[38;5;124;43m\"\u001b[39;49m\u001b[43m,\u001b[49m\u001b[43m \u001b[49m\u001b[43murl\u001b[49m\u001b[43m,\u001b[49m\u001b[43m \u001b[49m\u001b[43mparams\u001b[49m\u001b[38;5;241;43m=\u001b[39;49m\u001b[43mparams\u001b[49m\u001b[43m,\u001b[49m\u001b[43m \u001b[49m\u001b[38;5;241;43m*\u001b[39;49m\u001b[38;5;241;43m*\u001b[39;49m\u001b[43mkwargs\u001b[49m\u001b[43m)\u001b[49m\n",
      "File \u001b[1;32mc:\\Users\\guilherme.dias\\Documents\\guilherme\\personal_data_projects\\ecommerce_scrapy\\eco-venv\\Lib\\site-packages\\requests\\api.py:59\u001b[0m, in \u001b[0;36mrequest\u001b[1;34m(method, url, **kwargs)\u001b[0m\n\u001b[0;32m     55\u001b[0m \u001b[38;5;66;03m# By using the 'with' statement we are sure the session is closed, thus we\u001b[39;00m\n\u001b[0;32m     56\u001b[0m \u001b[38;5;66;03m# avoid leaving sockets open which can trigger a ResourceWarning in some\u001b[39;00m\n\u001b[0;32m     57\u001b[0m \u001b[38;5;66;03m# cases, and look like a memory leak in others.\u001b[39;00m\n\u001b[0;32m     58\u001b[0m \u001b[38;5;28;01mwith\u001b[39;00m sessions\u001b[38;5;241m.\u001b[39mSession() \u001b[38;5;28;01mas\u001b[39;00m session:\n\u001b[1;32m---> 59\u001b[0m     \u001b[38;5;28;01mreturn\u001b[39;00m \u001b[43msession\u001b[49m\u001b[38;5;241;43m.\u001b[39;49m\u001b[43mrequest\u001b[49m\u001b[43m(\u001b[49m\u001b[43mmethod\u001b[49m\u001b[38;5;241;43m=\u001b[39;49m\u001b[43mmethod\u001b[49m\u001b[43m,\u001b[49m\u001b[43m \u001b[49m\u001b[43murl\u001b[49m\u001b[38;5;241;43m=\u001b[39;49m\u001b[43murl\u001b[49m\u001b[43m,\u001b[49m\u001b[43m \u001b[49m\u001b[38;5;241;43m*\u001b[39;49m\u001b[38;5;241;43m*\u001b[39;49m\u001b[43mkwargs\u001b[49m\u001b[43m)\u001b[49m\n",
      "File \u001b[1;32mc:\\Users\\guilherme.dias\\Documents\\guilherme\\personal_data_projects\\ecommerce_scrapy\\eco-venv\\Lib\\site-packages\\requests\\sessions.py:589\u001b[0m, in \u001b[0;36mSession.request\u001b[1;34m(self, method, url, params, data, headers, cookies, files, auth, timeout, allow_redirects, proxies, hooks, stream, verify, cert, json)\u001b[0m\n\u001b[0;32m    584\u001b[0m send_kwargs \u001b[38;5;241m=\u001b[39m {\n\u001b[0;32m    585\u001b[0m     \u001b[38;5;124m\"\u001b[39m\u001b[38;5;124mtimeout\u001b[39m\u001b[38;5;124m\"\u001b[39m: timeout,\n\u001b[0;32m    586\u001b[0m     \u001b[38;5;124m\"\u001b[39m\u001b[38;5;124mallow_redirects\u001b[39m\u001b[38;5;124m\"\u001b[39m: allow_redirects,\n\u001b[0;32m    587\u001b[0m }\n\u001b[0;32m    588\u001b[0m send_kwargs\u001b[38;5;241m.\u001b[39mupdate(settings)\n\u001b[1;32m--> 589\u001b[0m resp \u001b[38;5;241m=\u001b[39m \u001b[38;5;28;43mself\u001b[39;49m\u001b[38;5;241;43m.\u001b[39;49m\u001b[43msend\u001b[49m\u001b[43m(\u001b[49m\u001b[43mprep\u001b[49m\u001b[43m,\u001b[49m\u001b[43m \u001b[49m\u001b[38;5;241;43m*\u001b[39;49m\u001b[38;5;241;43m*\u001b[39;49m\u001b[43msend_kwargs\u001b[49m\u001b[43m)\u001b[49m\n\u001b[0;32m    591\u001b[0m \u001b[38;5;28;01mreturn\u001b[39;00m resp\n",
      "File \u001b[1;32mc:\\Users\\guilherme.dias\\Documents\\guilherme\\personal_data_projects\\ecommerce_scrapy\\eco-venv\\Lib\\site-packages\\requests\\sessions.py:703\u001b[0m, in \u001b[0;36mSession.send\u001b[1;34m(self, request, **kwargs)\u001b[0m\n\u001b[0;32m    700\u001b[0m start \u001b[38;5;241m=\u001b[39m preferred_clock()\n\u001b[0;32m    702\u001b[0m \u001b[38;5;66;03m# Send the request\u001b[39;00m\n\u001b[1;32m--> 703\u001b[0m r \u001b[38;5;241m=\u001b[39m \u001b[43madapter\u001b[49m\u001b[38;5;241;43m.\u001b[39;49m\u001b[43msend\u001b[49m\u001b[43m(\u001b[49m\u001b[43mrequest\u001b[49m\u001b[43m,\u001b[49m\u001b[43m \u001b[49m\u001b[38;5;241;43m*\u001b[39;49m\u001b[38;5;241;43m*\u001b[39;49m\u001b[43mkwargs\u001b[49m\u001b[43m)\u001b[49m\n\u001b[0;32m    705\u001b[0m \u001b[38;5;66;03m# Total elapsed time of the request (approximately)\u001b[39;00m\n\u001b[0;32m    706\u001b[0m elapsed \u001b[38;5;241m=\u001b[39m preferred_clock() \u001b[38;5;241m-\u001b[39m start\n",
      "File \u001b[1;32mc:\\Users\\guilherme.dias\\Documents\\guilherme\\personal_data_projects\\ecommerce_scrapy\\eco-venv\\Lib\\site-packages\\requests\\adapters.py:667\u001b[0m, in \u001b[0;36mHTTPAdapter.send\u001b[1;34m(self, request, stream, timeout, verify, cert, proxies)\u001b[0m\n\u001b[0;32m    664\u001b[0m     timeout \u001b[38;5;241m=\u001b[39m TimeoutSauce(connect\u001b[38;5;241m=\u001b[39mtimeout, read\u001b[38;5;241m=\u001b[39mtimeout)\n\u001b[0;32m    666\u001b[0m \u001b[38;5;28;01mtry\u001b[39;00m:\n\u001b[1;32m--> 667\u001b[0m     resp \u001b[38;5;241m=\u001b[39m \u001b[43mconn\u001b[49m\u001b[38;5;241;43m.\u001b[39;49m\u001b[43murlopen\u001b[49m\u001b[43m(\u001b[49m\n\u001b[0;32m    668\u001b[0m \u001b[43m        \u001b[49m\u001b[43mmethod\u001b[49m\u001b[38;5;241;43m=\u001b[39;49m\u001b[43mrequest\u001b[49m\u001b[38;5;241;43m.\u001b[39;49m\u001b[43mmethod\u001b[49m\u001b[43m,\u001b[49m\n\u001b[0;32m    669\u001b[0m \u001b[43m        \u001b[49m\u001b[43murl\u001b[49m\u001b[38;5;241;43m=\u001b[39;49m\u001b[43murl\u001b[49m\u001b[43m,\u001b[49m\n\u001b[0;32m    670\u001b[0m \u001b[43m        \u001b[49m\u001b[43mbody\u001b[49m\u001b[38;5;241;43m=\u001b[39;49m\u001b[43mrequest\u001b[49m\u001b[38;5;241;43m.\u001b[39;49m\u001b[43mbody\u001b[49m\u001b[43m,\u001b[49m\n\u001b[0;32m    671\u001b[0m \u001b[43m        \u001b[49m\u001b[43mheaders\u001b[49m\u001b[38;5;241;43m=\u001b[39;49m\u001b[43mrequest\u001b[49m\u001b[38;5;241;43m.\u001b[39;49m\u001b[43mheaders\u001b[49m\u001b[43m,\u001b[49m\n\u001b[0;32m    672\u001b[0m \u001b[43m        \u001b[49m\u001b[43mredirect\u001b[49m\u001b[38;5;241;43m=\u001b[39;49m\u001b[38;5;28;43;01mFalse\u001b[39;49;00m\u001b[43m,\u001b[49m\n\u001b[0;32m    673\u001b[0m \u001b[43m        \u001b[49m\u001b[43massert_same_host\u001b[49m\u001b[38;5;241;43m=\u001b[39;49m\u001b[38;5;28;43;01mFalse\u001b[39;49;00m\u001b[43m,\u001b[49m\n\u001b[0;32m    674\u001b[0m \u001b[43m        \u001b[49m\u001b[43mpreload_content\u001b[49m\u001b[38;5;241;43m=\u001b[39;49m\u001b[38;5;28;43;01mFalse\u001b[39;49;00m\u001b[43m,\u001b[49m\n\u001b[0;32m    675\u001b[0m \u001b[43m        \u001b[49m\u001b[43mdecode_content\u001b[49m\u001b[38;5;241;43m=\u001b[39;49m\u001b[38;5;28;43;01mFalse\u001b[39;49;00m\u001b[43m,\u001b[49m\n\u001b[0;32m    676\u001b[0m \u001b[43m        \u001b[49m\u001b[43mretries\u001b[49m\u001b[38;5;241;43m=\u001b[39;49m\u001b[38;5;28;43mself\u001b[39;49m\u001b[38;5;241;43m.\u001b[39;49m\u001b[43mmax_retries\u001b[49m\u001b[43m,\u001b[49m\n\u001b[0;32m    677\u001b[0m \u001b[43m        \u001b[49m\u001b[43mtimeout\u001b[49m\u001b[38;5;241;43m=\u001b[39;49m\u001b[43mtimeout\u001b[49m\u001b[43m,\u001b[49m\n\u001b[0;32m    678\u001b[0m \u001b[43m        \u001b[49m\u001b[43mchunked\u001b[49m\u001b[38;5;241;43m=\u001b[39;49m\u001b[43mchunked\u001b[49m\u001b[43m,\u001b[49m\n\u001b[0;32m    679\u001b[0m \u001b[43m    \u001b[49m\u001b[43m)\u001b[49m\n\u001b[0;32m    681\u001b[0m \u001b[38;5;28;01mexcept\u001b[39;00m (ProtocolError, \u001b[38;5;167;01mOSError\u001b[39;00m) \u001b[38;5;28;01mas\u001b[39;00m err:\n\u001b[0;32m    682\u001b[0m     \u001b[38;5;28;01mraise\u001b[39;00m \u001b[38;5;167;01mConnectionError\u001b[39;00m(err, request\u001b[38;5;241m=\u001b[39mrequest)\n",
      "File \u001b[1;32mc:\\Users\\guilherme.dias\\Documents\\guilherme\\personal_data_projects\\ecommerce_scrapy\\eco-venv\\Lib\\site-packages\\urllib3\\connectionpool.py:789\u001b[0m, in \u001b[0;36mHTTPConnectionPool.urlopen\u001b[1;34m(self, method, url, body, headers, retries, redirect, assert_same_host, timeout, pool_timeout, release_conn, chunked, body_pos, preload_content, decode_content, **response_kw)\u001b[0m\n\u001b[0;32m    786\u001b[0m response_conn \u001b[38;5;241m=\u001b[39m conn \u001b[38;5;28;01mif\u001b[39;00m \u001b[38;5;129;01mnot\u001b[39;00m release_conn \u001b[38;5;28;01melse\u001b[39;00m \u001b[38;5;28;01mNone\u001b[39;00m\n\u001b[0;32m    788\u001b[0m \u001b[38;5;66;03m# Make the request on the HTTPConnection object\u001b[39;00m\n\u001b[1;32m--> 789\u001b[0m response \u001b[38;5;241m=\u001b[39m \u001b[38;5;28;43mself\u001b[39;49m\u001b[38;5;241;43m.\u001b[39;49m\u001b[43m_make_request\u001b[49m\u001b[43m(\u001b[49m\n\u001b[0;32m    790\u001b[0m \u001b[43m    \u001b[49m\u001b[43mconn\u001b[49m\u001b[43m,\u001b[49m\n\u001b[0;32m    791\u001b[0m \u001b[43m    \u001b[49m\u001b[43mmethod\u001b[49m\u001b[43m,\u001b[49m\n\u001b[0;32m    792\u001b[0m \u001b[43m    \u001b[49m\u001b[43murl\u001b[49m\u001b[43m,\u001b[49m\n\u001b[0;32m    793\u001b[0m \u001b[43m    \u001b[49m\u001b[43mtimeout\u001b[49m\u001b[38;5;241;43m=\u001b[39;49m\u001b[43mtimeout_obj\u001b[49m\u001b[43m,\u001b[49m\n\u001b[0;32m    794\u001b[0m \u001b[43m    \u001b[49m\u001b[43mbody\u001b[49m\u001b[38;5;241;43m=\u001b[39;49m\u001b[43mbody\u001b[49m\u001b[43m,\u001b[49m\n\u001b[0;32m    795\u001b[0m \u001b[43m    \u001b[49m\u001b[43mheaders\u001b[49m\u001b[38;5;241;43m=\u001b[39;49m\u001b[43mheaders\u001b[49m\u001b[43m,\u001b[49m\n\u001b[0;32m    796\u001b[0m \u001b[43m    \u001b[49m\u001b[43mchunked\u001b[49m\u001b[38;5;241;43m=\u001b[39;49m\u001b[43mchunked\u001b[49m\u001b[43m,\u001b[49m\n\u001b[0;32m    797\u001b[0m \u001b[43m    \u001b[49m\u001b[43mretries\u001b[49m\u001b[38;5;241;43m=\u001b[39;49m\u001b[43mretries\u001b[49m\u001b[43m,\u001b[49m\n\u001b[0;32m    798\u001b[0m \u001b[43m    \u001b[49m\u001b[43mresponse_conn\u001b[49m\u001b[38;5;241;43m=\u001b[39;49m\u001b[43mresponse_conn\u001b[49m\u001b[43m,\u001b[49m\n\u001b[0;32m    799\u001b[0m \u001b[43m    \u001b[49m\u001b[43mpreload_content\u001b[49m\u001b[38;5;241;43m=\u001b[39;49m\u001b[43mpreload_content\u001b[49m\u001b[43m,\u001b[49m\n\u001b[0;32m    800\u001b[0m \u001b[43m    \u001b[49m\u001b[43mdecode_content\u001b[49m\u001b[38;5;241;43m=\u001b[39;49m\u001b[43mdecode_content\u001b[49m\u001b[43m,\u001b[49m\n\u001b[0;32m    801\u001b[0m \u001b[43m    \u001b[49m\u001b[38;5;241;43m*\u001b[39;49m\u001b[38;5;241;43m*\u001b[39;49m\u001b[43mresponse_kw\u001b[49m\u001b[43m,\u001b[49m\n\u001b[0;32m    802\u001b[0m \u001b[43m\u001b[49m\u001b[43m)\u001b[49m\n\u001b[0;32m    804\u001b[0m \u001b[38;5;66;03m# Everything went great!\u001b[39;00m\n\u001b[0;32m    805\u001b[0m clean_exit \u001b[38;5;241m=\u001b[39m \u001b[38;5;28;01mTrue\u001b[39;00m\n",
      "File \u001b[1;32mc:\\Users\\guilherme.dias\\Documents\\guilherme\\personal_data_projects\\ecommerce_scrapy\\eco-venv\\Lib\\site-packages\\urllib3\\connectionpool.py:536\u001b[0m, in \u001b[0;36mHTTPConnectionPool._make_request\u001b[1;34m(self, conn, method, url, body, headers, retries, timeout, chunked, response_conn, preload_content, decode_content, enforce_content_length)\u001b[0m\n\u001b[0;32m    534\u001b[0m \u001b[38;5;66;03m# Receive the response from the server\u001b[39;00m\n\u001b[0;32m    535\u001b[0m \u001b[38;5;28;01mtry\u001b[39;00m:\n\u001b[1;32m--> 536\u001b[0m     response \u001b[38;5;241m=\u001b[39m \u001b[43mconn\u001b[49m\u001b[38;5;241;43m.\u001b[39;49m\u001b[43mgetresponse\u001b[49m\u001b[43m(\u001b[49m\u001b[43m)\u001b[49m\n\u001b[0;32m    537\u001b[0m \u001b[38;5;28;01mexcept\u001b[39;00m (BaseSSLError, \u001b[38;5;167;01mOSError\u001b[39;00m) \u001b[38;5;28;01mas\u001b[39;00m e:\n\u001b[0;32m    538\u001b[0m     \u001b[38;5;28mself\u001b[39m\u001b[38;5;241m.\u001b[39m_raise_timeout(err\u001b[38;5;241m=\u001b[39me, url\u001b[38;5;241m=\u001b[39murl, timeout_value\u001b[38;5;241m=\u001b[39mread_timeout)\n",
      "File \u001b[1;32mc:\\Users\\guilherme.dias\\Documents\\guilherme\\personal_data_projects\\ecommerce_scrapy\\eco-venv\\Lib\\site-packages\\urllib3\\connection.py:507\u001b[0m, in \u001b[0;36mHTTPConnection.getresponse\u001b[1;34m(self)\u001b[0m\n\u001b[0;32m    504\u001b[0m \u001b[38;5;28;01mfrom\u001b[39;00m \u001b[38;5;21;01m.\u001b[39;00m\u001b[38;5;21;01mresponse\u001b[39;00m \u001b[38;5;28;01mimport\u001b[39;00m HTTPResponse\n\u001b[0;32m    506\u001b[0m \u001b[38;5;66;03m# Get the response from http.client.HTTPConnection\u001b[39;00m\n\u001b[1;32m--> 507\u001b[0m httplib_response \u001b[38;5;241m=\u001b[39m \u001b[38;5;28;43msuper\u001b[39;49m\u001b[43m(\u001b[49m\u001b[43m)\u001b[49m\u001b[38;5;241;43m.\u001b[39;49m\u001b[43mgetresponse\u001b[49m\u001b[43m(\u001b[49m\u001b[43m)\u001b[49m\n\u001b[0;32m    509\u001b[0m \u001b[38;5;28;01mtry\u001b[39;00m:\n\u001b[0;32m    510\u001b[0m     assert_header_parsing(httplib_response\u001b[38;5;241m.\u001b[39mmsg)\n",
      "File \u001b[1;32m~\\AppData\\Local\\Programs\\Python\\Python312\\Lib\\http\\client.py:1428\u001b[0m, in \u001b[0;36mHTTPConnection.getresponse\u001b[1;34m(self)\u001b[0m\n\u001b[0;32m   1426\u001b[0m \u001b[38;5;28;01mtry\u001b[39;00m:\n\u001b[0;32m   1427\u001b[0m     \u001b[38;5;28;01mtry\u001b[39;00m:\n\u001b[1;32m-> 1428\u001b[0m         \u001b[43mresponse\u001b[49m\u001b[38;5;241;43m.\u001b[39;49m\u001b[43mbegin\u001b[49m\u001b[43m(\u001b[49m\u001b[43m)\u001b[49m\n\u001b[0;32m   1429\u001b[0m     \u001b[38;5;28;01mexcept\u001b[39;00m \u001b[38;5;167;01mConnectionError\u001b[39;00m:\n\u001b[0;32m   1430\u001b[0m         \u001b[38;5;28mself\u001b[39m\u001b[38;5;241m.\u001b[39mclose()\n",
      "File \u001b[1;32m~\\AppData\\Local\\Programs\\Python\\Python312\\Lib\\http\\client.py:331\u001b[0m, in \u001b[0;36mHTTPResponse.begin\u001b[1;34m(self)\u001b[0m\n\u001b[0;32m    329\u001b[0m \u001b[38;5;66;03m# read until we get a non-100 response\u001b[39;00m\n\u001b[0;32m    330\u001b[0m \u001b[38;5;28;01mwhile\u001b[39;00m \u001b[38;5;28;01mTrue\u001b[39;00m:\n\u001b[1;32m--> 331\u001b[0m     version, status, reason \u001b[38;5;241m=\u001b[39m \u001b[38;5;28;43mself\u001b[39;49m\u001b[38;5;241;43m.\u001b[39;49m\u001b[43m_read_status\u001b[49m\u001b[43m(\u001b[49m\u001b[43m)\u001b[49m\n\u001b[0;32m    332\u001b[0m     \u001b[38;5;28;01mif\u001b[39;00m status \u001b[38;5;241m!=\u001b[39m CONTINUE:\n\u001b[0;32m    333\u001b[0m         \u001b[38;5;28;01mbreak\u001b[39;00m\n",
      "File \u001b[1;32m~\\AppData\\Local\\Programs\\Python\\Python312\\Lib\\http\\client.py:292\u001b[0m, in \u001b[0;36mHTTPResponse._read_status\u001b[1;34m(self)\u001b[0m\n\u001b[0;32m    291\u001b[0m \u001b[38;5;28;01mdef\u001b[39;00m \u001b[38;5;21m_read_status\u001b[39m(\u001b[38;5;28mself\u001b[39m):\n\u001b[1;32m--> 292\u001b[0m     line \u001b[38;5;241m=\u001b[39m \u001b[38;5;28mstr\u001b[39m(\u001b[38;5;28;43mself\u001b[39;49m\u001b[38;5;241;43m.\u001b[39;49m\u001b[43mfp\u001b[49m\u001b[38;5;241;43m.\u001b[39;49m\u001b[43mreadline\u001b[49m\u001b[43m(\u001b[49m\u001b[43m_MAXLINE\u001b[49m\u001b[43m \u001b[49m\u001b[38;5;241;43m+\u001b[39;49m\u001b[43m \u001b[49m\u001b[38;5;241;43m1\u001b[39;49m\u001b[43m)\u001b[49m, \u001b[38;5;124m\"\u001b[39m\u001b[38;5;124miso-8859-1\u001b[39m\u001b[38;5;124m\"\u001b[39m)\n\u001b[0;32m    293\u001b[0m     \u001b[38;5;28;01mif\u001b[39;00m \u001b[38;5;28mlen\u001b[39m(line) \u001b[38;5;241m>\u001b[39m _MAXLINE:\n\u001b[0;32m    294\u001b[0m         \u001b[38;5;28;01mraise\u001b[39;00m LineTooLong(\u001b[38;5;124m\"\u001b[39m\u001b[38;5;124mstatus line\u001b[39m\u001b[38;5;124m\"\u001b[39m)\n",
      "File \u001b[1;32m~\\AppData\\Local\\Programs\\Python\\Python312\\Lib\\socket.py:720\u001b[0m, in \u001b[0;36mSocketIO.readinto\u001b[1;34m(self, b)\u001b[0m\n\u001b[0;32m    718\u001b[0m \u001b[38;5;28;01mwhile\u001b[39;00m \u001b[38;5;28;01mTrue\u001b[39;00m:\n\u001b[0;32m    719\u001b[0m     \u001b[38;5;28;01mtry\u001b[39;00m:\n\u001b[1;32m--> 720\u001b[0m         \u001b[38;5;28;01mreturn\u001b[39;00m \u001b[38;5;28;43mself\u001b[39;49m\u001b[38;5;241;43m.\u001b[39;49m\u001b[43m_sock\u001b[49m\u001b[38;5;241;43m.\u001b[39;49m\u001b[43mrecv_into\u001b[49m\u001b[43m(\u001b[49m\u001b[43mb\u001b[49m\u001b[43m)\u001b[49m\n\u001b[0;32m    721\u001b[0m     \u001b[38;5;28;01mexcept\u001b[39;00m timeout:\n\u001b[0;32m    722\u001b[0m         \u001b[38;5;28mself\u001b[39m\u001b[38;5;241m.\u001b[39m_timeout_occurred \u001b[38;5;241m=\u001b[39m \u001b[38;5;28;01mTrue\u001b[39;00m\n",
      "File \u001b[1;32m~\\AppData\\Local\\Programs\\Python\\Python312\\Lib\\ssl.py:1252\u001b[0m, in \u001b[0;36mSSLSocket.recv_into\u001b[1;34m(self, buffer, nbytes, flags)\u001b[0m\n\u001b[0;32m   1248\u001b[0m     \u001b[38;5;28;01mif\u001b[39;00m flags \u001b[38;5;241m!=\u001b[39m \u001b[38;5;241m0\u001b[39m:\n\u001b[0;32m   1249\u001b[0m         \u001b[38;5;28;01mraise\u001b[39;00m \u001b[38;5;167;01mValueError\u001b[39;00m(\n\u001b[0;32m   1250\u001b[0m           \u001b[38;5;124m\"\u001b[39m\u001b[38;5;124mnon-zero flags not allowed in calls to recv_into() on \u001b[39m\u001b[38;5;132;01m%s\u001b[39;00m\u001b[38;5;124m\"\u001b[39m \u001b[38;5;241m%\u001b[39m\n\u001b[0;32m   1251\u001b[0m           \u001b[38;5;28mself\u001b[39m\u001b[38;5;241m.\u001b[39m\u001b[38;5;18m__class__\u001b[39m)\n\u001b[1;32m-> 1252\u001b[0m     \u001b[38;5;28;01mreturn\u001b[39;00m \u001b[38;5;28;43mself\u001b[39;49m\u001b[38;5;241;43m.\u001b[39;49m\u001b[43mread\u001b[49m\u001b[43m(\u001b[49m\u001b[43mnbytes\u001b[49m\u001b[43m,\u001b[49m\u001b[43m \u001b[49m\u001b[43mbuffer\u001b[49m\u001b[43m)\u001b[49m\n\u001b[0;32m   1253\u001b[0m \u001b[38;5;28;01melse\u001b[39;00m:\n\u001b[0;32m   1254\u001b[0m     \u001b[38;5;28;01mreturn\u001b[39;00m \u001b[38;5;28msuper\u001b[39m()\u001b[38;5;241m.\u001b[39mrecv_into(buffer, nbytes, flags)\n",
      "File \u001b[1;32m~\\AppData\\Local\\Programs\\Python\\Python312\\Lib\\ssl.py:1104\u001b[0m, in \u001b[0;36mSSLSocket.read\u001b[1;34m(self, len, buffer)\u001b[0m\n\u001b[0;32m   1102\u001b[0m \u001b[38;5;28;01mtry\u001b[39;00m:\n\u001b[0;32m   1103\u001b[0m     \u001b[38;5;28;01mif\u001b[39;00m buffer \u001b[38;5;129;01mis\u001b[39;00m \u001b[38;5;129;01mnot\u001b[39;00m \u001b[38;5;28;01mNone\u001b[39;00m:\n\u001b[1;32m-> 1104\u001b[0m         \u001b[38;5;28;01mreturn\u001b[39;00m \u001b[38;5;28;43mself\u001b[39;49m\u001b[38;5;241;43m.\u001b[39;49m\u001b[43m_sslobj\u001b[49m\u001b[38;5;241;43m.\u001b[39;49m\u001b[43mread\u001b[49m\u001b[43m(\u001b[49m\u001b[38;5;28;43mlen\u001b[39;49m\u001b[43m,\u001b[49m\u001b[43m \u001b[49m\u001b[43mbuffer\u001b[49m\u001b[43m)\u001b[49m\n\u001b[0;32m   1105\u001b[0m     \u001b[38;5;28;01melse\u001b[39;00m:\n\u001b[0;32m   1106\u001b[0m         \u001b[38;5;28;01mreturn\u001b[39;00m \u001b[38;5;28mself\u001b[39m\u001b[38;5;241m.\u001b[39m_sslobj\u001b[38;5;241m.\u001b[39mread(\u001b[38;5;28mlen\u001b[39m)\n",
      "\u001b[1;31mKeyboardInterrupt\u001b[0m: "
     ]
    }
   ],
   "source": [
    "dfs = []\n",
    "for category in categorys:\n",
    "    print(category)\n",
    "    dfs.append(find_all_categorys_products(category))"
   ]
  },
  {
   "cell_type": "code",
   "execution_count": 56,
   "metadata": {},
   "outputs": [],
   "source": [
    "url_ = 'https://www.grupoalfatec.com.py/category/aro-led'\n",
    "response = requests.get(url_)\n",
    "soup = BeautifulSoup(response.content, 'html.parser')"
   ]
  },
  {
   "cell_type": "code",
   "execution_count": 57,
   "metadata": {},
   "outputs": [],
   "source": [
    "titles = soup.find_all('h1')"
   ]
  },
  {
   "cell_type": "code",
   "execution_count": 58,
   "metadata": {},
   "outputs": [
    {
     "name": "stdout",
     "output_type": "stream",
     "text": [
      "\n",
      " Encontrando os valores do produto\n",
      "{'Nome do Produto': 'Soporte de lámpara para iluminación Nicefoto FLH-01', 'Valor Em Dólar': 'U$ 18.00', 'Valor Em Real': 'R$ 104,22 /', 'Valor Em Peso': 'Gs 141.300'}\n"
     ]
    }
   ],
   "source": [
    "scrape_product(t,'suporte-de-lampada-para-iluminacao-nicefoto-flh-01')"
   ]
  },
  {
   "cell_type": "code",
   "execution_count": 59,
   "metadata": {},
   "outputs": [],
   "source": [
    "response = requests.get(t)\n",
    "soup = BeautifulSoup(response.content, 'html.parser')"
   ]
  },
  {
   "cell_type": "code",
   "execution_count": 60,
   "metadata": {},
   "outputs": [
    {
     "data": {
      "text/plain": [
       "[<img class=\"img-fluid\" src=\"/assets/img/logo.png\"/>,\n",
       " <img class=\"img-fluid\" src=\"/assets/img/logo.png\"/>,\n",
       " <img class=\"lazyload img-fluid\" data-original=\"https://cdn.grupoalfatec.com.py/upload/product/2864/bracket-nicefoto-flh-01-e27.jpeg\" src=\"/assets/img/loading.gif\"/>,\n",
       " <img class=\"lazyload img-fluid\" data-original=\"https://cdn.grupoalfatec.com.py/upload/product/2864/2864-suporte-de-lampada-de-iluminacao-nicefoto-flh-01-e7de9.jpeg\" src=\"/assets/img/loading-small.gif\"/>,\n",
       " <img class=\"img-fluid lazyload\" data-original=\"https://cdn.grupoalfatec.com.py/upload/brand/nicefoto.jpg\" src=\"/assets/img/loading-small.gif\"/>,\n",
       " <img class=\"lazyload img-fluid\" data-original=\"https://cdn.grupoalfatec.com.py/upload/product/5409/m-lampara-led-e-reise-led-120w.jpg\" src=\"/assets/img/loading.gif\"/>,\n",
       " <img class=\"lazyload img-fluid\" data-original=\"https://cdn.grupoalfatec.com.py/upload/product/3384/m-flash-e27-godox-a45s-1661174984.jpeg\" src=\"/assets/img/loading.gif\"/>,\n",
       " <img class=\"lazyload img-fluid\" data-original=\"https://cdn.grupoalfatec.com.py/upload/product/3546/m-lam-modelagen-halogen-jdd-buld-ac220v-150w.jpg\" src=\"/assets/img/loading.gif\"/>,\n",
       " <img class=\"lazyload img-fluid\" data-original=\"https://cdn.grupoalfatec.com.py/upload/product/6018/m-lampara-nicefoto-lt-s36w-110v.jpg\" src=\"/assets/img/loading.gif\"/>,\n",
       " <img src=\"/assets/img/whatsapp.png\"/>,\n",
       " <img src=\"/assets/img/whatsapp.png\"/>]"
      ]
     },
     "execution_count": 60,
     "metadata": {},
     "output_type": "execute_result"
    }
   ],
   "source": [
    "soup.find_all('img')"
   ]
  },
  {
   "cell_type": "code",
   "execution_count": 29,
   "metadata": {},
   "outputs": [],
   "source": [
    "# Função para salvar a imagem no caminho especificado\n",
    "def salvar_imagem(url_imagem, nome_arquivo):\n",
    "    response = requests.get(url_imagem)\n",
    "    if response.status_code == 200:\n",
    "        with open(nome_arquivo, 'wb') as f:\n",
    "            f.write(response.content)\n",
    "        print(f'Imagem salva em: {nome_arquivo}')\n",
    "    else:\n",
    "        print(f'Falha ao baixar a imagem: {url_imagem}')"
   ]
  },
  {
   "cell_type": "code",
   "execution_count": 62,
   "metadata": {},
   "outputs": [
    {
     "name": "stdout",
     "output_type": "stream",
     "text": [
      "Imagem salva em: ..\\data\\alfatech\\imgs\\suporte-de-lampada-para-iluminacao-nicefoto-flh-01_2024-10-23.jpeg\n"
     ]
    }
   ],
   "source": [
    "# Função principal para buscar e salvar a primeira imagem correta\n",
    "def baixar_primeira_imagem_produto(product_url):\n",
    "    response = requests.get(product_url)\n",
    "    soup = BeautifulSoup(response.content, 'html.parser')\n",
    "    \n",
    "    # Procurar a primeira tag <img> que contém o atributo 'data-original'\n",
    "    primeira_imagem = soup.find('img', {'data-original': True})\n",
    "    \n",
    "    if primeira_imagem:\n",
    "        # Extrair a URL da imagem do atributo 'data-original'\n",
    "        image_url = primeira_imagem['data-original']\n",
    "        hj = dt.date.today()\n",
    "        # Criar o caminho do arquivo onde a imagem será salva\n",
    "        nome_produto = product_url.split('/')[-1]\n",
    "        nome_arquivo = os.path.join('..', '..', 'data', 'alfatech', 'imgs', f'{nome_produto}_{hj}.jpeg')\n",
    "        \n",
    "        # Salvar a imagem\n",
    "        salvar_imagem(image_url, nome_arquivo)\n",
    "        \n",
    "    else:\n",
    "        print(\"Nenhuma imagem encontrada.\")\n",
    "\n",
    "# URL do produto que está sendo analisado\n",
    "url_produto = 'https://www.grupoalfatec.com.py/product/suporte-de-lampada-para-iluminacao-nicefoto-flh-01'\n",
    "\n",
    "# Chamar a função para baixar e salvar a primeira imagem\n",
    "baixar_primeira_imagem_produto(url_produto)\n"
   ]
  },
  {
   "cell_type": "markdown",
   "metadata": {},
   "source": [
    "### 3.0 - Transformação de Dados"
   ]
  },
  {
   "cell_type": "code",
   "execution_count": 63,
   "metadata": {},
   "outputs": [],
   "source": [
    "from glob import glob"
   ]
  },
  {
   "cell_type": "code",
   "execution_count": 64,
   "metadata": {},
   "outputs": [],
   "source": [
    "list_files = glob(r'../data/alfatech/parquet/*.parquet')"
   ]
  },
  {
   "cell_type": "code",
   "execution_count": 65,
   "metadata": {},
   "outputs": [],
   "source": [
    "df = []\n",
    "for file in list_files:\n",
    "    df.append(pd.read_parquet(file))\n",
    "    \n",
    "df_ = pd.concat(df, ignore_index=True)"
   ]
  },
  {
   "cell_type": "code",
   "execution_count": 66,
   "metadata": {},
   "outputs": [],
   "source": [
    "df_ = df_[df_['nome_produto'] != '¡Atención! No entregamos productos en Brasil.'].copy()"
   ]
  },
  {
   "cell_type": "code",
   "execution_count": 67,
   "metadata": {},
   "outputs": [],
   "source": [
    "df_['valor_real'] = df_['valor_real'].str.replace(' /','')"
   ]
  },
  {
   "cell_type": "code",
   "execution_count": 68,
   "metadata": {},
   "outputs": [],
   "source": [
    "df_['landing_date'] = dt.date.today()"
   ]
  },
  {
   "cell_type": "code",
   "execution_count": 69,
   "metadata": {},
   "outputs": [],
   "source": [
    "df_.to_parquet('../data/todos_os_produtos_alfatech.parquet')"
   ]
  },
  {
   "cell_type": "markdown",
   "metadata": {},
   "source": [
    "## Extracao Pro Digital"
   ]
  },
  {
   "cell_type": "code",
   "execution_count": 51,
   "metadata": {},
   "outputs": [],
   "source": [
    "url = ('https://www.prodigital.com.py/')\n",
    "response = requests.get(url)"
   ]
  },
  {
   "cell_type": "code",
   "execution_count": 52,
   "metadata": {},
   "outputs": [],
   "source": [
    "soup = BeautifulSoup(\n",
    "    response.content, 'html.parser'\n",
    ")"
   ]
  },
  {
   "cell_type": "code",
   "execution_count": 53,
   "metadata": {},
   "outputs": [],
   "source": [
    "categorias = soup.find_all(\n",
    "    'a', class_='father'\n",
    ")"
   ]
  },
  {
   "cell_type": "code",
   "execution_count": 54,
   "metadata": {},
   "outputs": [],
   "source": [
    "url_to_extract = []\n",
    "for link in categorias:\n",
    "    href = link['href']\n",
    "    href = href.strip('/')\n",
    "    url_to_extract.append(f'{url}{href}')"
   ]
  },
  {
   "cell_type": "code",
   "execution_count": 87,
   "metadata": {},
   "outputs": [],
   "source": [
    "import pickle"
   ]
  },
  {
   "cell_type": "code",
   "execution_count": 88,
   "metadata": {},
   "outputs": [],
   "source": [
    "with open('../data/prodigital/files/category.pickle','wb') as file:\n",
    "    pickle.dump(url_to_extract,file)"
   ]
  },
  {
   "cell_type": "code",
   "execution_count": 75,
   "metadata": {},
   "outputs": [],
   "source": [
    "url_product = 'https://www.prodigital.com.py/categoria/estabilizadores-e-suportes'"
   ]
  },
  {
   "cell_type": "code",
   "execution_count": 76,
   "metadata": {},
   "outputs": [],
   "source": [
    "response_1 = requests.get(url_product)\n",
    "\n",
    "soup = BeautifulSoup(response_1.content, 'html.parser')\n"
   ]
  },
  {
   "cell_type": "code",
   "execution_count": 77,
   "metadata": {},
   "outputs": [
    {
     "data": {
      "text/plain": [
       "<!DOCTYPE html>\n",
       "<html lang=\"en\"><head><meta charset=\"utf-8\"/><meta content=\"notranslate\" name=\"google\"/><meta content=\"width=device-width,initial-scale=1,maximum-scale=1,user-scalable=0\" name=\"viewport\"/><meta content=\"ie=edge\" http-equiv=\"X-UA-Compatible\"/><title>  Estabilizadores e Suportes   | PRO Digital</title><meta content=\"\" name=\"description\"/><meta content=\"\" name=\"keywords\"/><link href=\"/assets/img/favicon.ico\" rel=\"shortcut icon\" type=\"image/x-icon\"/><link href=\"https://fonts.googleapis.com/css?family=Open+Sans:400,700\" rel=\"stylesheet\"/><link href=\"/assets/css/main.min.css?v=dmmM5Nl8fyFyQtIfSJohurwIbJeQnAfw\" rel=\"stylesheet\"/></head><body><header class=\"d-none d-md-none d-lg-none d-xl-block\"><div class=\"container\"><div class=\"row\"><div class=\"col-12\"><a href=\"/\"><img class=\"logo\" src=\"/assets/img/logo.png\"/></a><div class=\"search\"><form action=\"/busca\" id=\"search\" method=\"post\"><input autocomplete=\"off\" class=\"term\" name=\"term\" placeholder=\"Escriba lo que está buscando\" type=\"search\"/> <button type=\"submit\"><i class=\"zmdi zmdi-search\"></i></button></form></div><div class=\"download\"><a href=\"/download\"><div class=\"icon\"><i class=\"zmdi zmdi-cloud-outline\"></i></div><div class=\"text\"><small>Baixe nossa</small><p><strong>Lista de Preços</strong></p></div></a></div><div class=\"quotation\"><div class=\"icon\"><i class=\"zmdi zmdi-money\"></i></div><div class=\"info\">Cambio del día<br/><span>U$ x R$ 5.76</span></div></div><div class=\"language\" data-action=\"/language\"><ul><li class=\"\" id=\"pt_BR\">PT</li><li class=\"active\" id=\"es_PY\">ES</li><ul></ul></ul></div></div></div></div></header><nav class=\"d-none d-md-none d-lg-none d-xl-block\"><div class=\"container\"><div class=\"row\"><div class=\"col-12\"><ul class=\"coffe-menu zm-full-width\"><li><a href=\"#\"><i class=\"zmdi zmdi-menu\"></i>Categorias</a><ul class=\"w-250\"><li><a href=\"/categoria/iluminacao\">  Iluminação    <i class=\"zm-caret zmdi zmdi-chevron-right\"></i> </a><ul class=\"w-250\"><li><a href=\"/categoria/acessorios-1\">  Acessórios   </a><ul class=\"w-250\"></ul></li><li><a href=\"/categoria/flash\">  Flash   </a><ul class=\"w-250\"></ul></li><li><a href=\"/categoria/led\">  LED   </a><ul class=\"w-250\"></ul></li><li><a href=\"/categoria/radio-flash\">  Rádio Flash   </a><ul class=\"w-250\"></ul></li><li><a href=\"/categoria/rebatedores\">  Rebatedores   </a><ul class=\"w-250\"></ul></li><li><a href=\"/categoria/softbox\">  Softbox   </a><ul class=\"w-250\"></ul></li></ul></li><li><a href=\"/categoria/lentes\">  Lentes    <i class=\"zm-caret zmdi zmdi-chevron-right\"></i> </a><ul class=\"w-250\"><li><a href=\"/categoria/canon\">  Canon   </a><ul class=\"w-250\"></ul></li><li><a href=\"/categoria/filtros\">  filtros   </a><ul class=\"w-250\"></ul></li><li><a href=\"/categoria/nikon\">  Nikon   </a><ul class=\"w-250\"></ul></li><li><a href=\"/categoria/rokinon\">  Rokinon   </a><ul class=\"w-250\"></ul></li><li><a href=\"/categoria/sigma\">  Sigma   </a><ul class=\"w-250\"></ul></li></ul></li><li><a href=\"/categoria/cameras-digitais\">  Câmeras Digitais    <i class=\"zm-caret zmdi zmdi-chevron-right\"></i> </a><ul class=\"w-250\"><li><a href=\"/categoria/acessorios\">  Acessórios   </a><ul class=\"w-250\"></ul></li><li><a href=\"/categoria/profissional\">  profissional   </a><ul class=\"w-250\"></ul></li><li><a href=\"/categoria/semi-profissional\">  Semi-profissional   </a><ul class=\"w-250\"></ul></li></ul></li><li><a href=\"/categoria/filmadoras\">  Filmadoras   </a><ul class=\"w-250\"></ul></li><li><a href=\"/categoria/tripes-profissionais\">  Tripés Profissionais    <i class=\"zm-caret zmdi zmdi-chevron-right\"></i> </a><ul class=\"w-250\"><li><a href=\"/categoria/monopes\">  Monopés   </a><ul class=\"w-250\"></ul></li></ul></li><li><a href=\"/categoria/maletas-e-mochilas\">  Maletas e Mochilas   </a><ul class=\"w-250\"></ul></li><li><a href=\"/categoria/blackmagic\">  Blackmagic   </a><ul class=\"w-250\"></ul></li><li><a href=\"/categoria/audio-profissional\">  Áudio Profissional    <i class=\"zm-caret zmdi zmdi-chevron-right\"></i> </a><ul class=\"w-250\"><li><a href=\"/categoria/fones\">  Fones   </a><ul class=\"w-250\"></ul></li><li><a href=\"/categoria/gravadores\">  Gravadores   </a><ul class=\"w-250\"></ul></li><li><a href=\"/categoria/microfones\">  Microfones   </a><ul class=\"w-250\"></ul></li></ul></li><li><a href=\"/categoria/video\">  Vídeo    <i class=\"zm-caret zmdi zmdi-chevron-right\"></i> </a><ul class=\"w-250\"><li><a href=\"/categoria/mixer\">  Mixer   </a><ul class=\"w-250\"></ul></li><li><a href=\"/categoria/monitores\">  Monitores   </a><ul class=\"w-250\"></ul></li></ul></li><li><a href=\"/categoria/midias-e-memorias\">  Mídias e Memórias   </a><ul class=\"w-250\"></ul></li><li><a href=\"/categoria/gopro-e-acessorios\">  GoPro e Acessórios   </a><ul class=\"w-250\"></ul></li><li><a href=\"/categoria/estabilizadores-e-suportes\">  Estabilizadores e Suportes   </a><ul class=\"w-250\"></ul></li><li><a href=\"/categoria/eletronicos\">  Eletrônicos   </a><ul class=\"w-250\"></ul></li><li><a href=\"/categoria/baterias-e-carregadores\">  Baterias e Carregadores   </a><ul class=\"w-250\"></ul></li><li><a href=\"/categoria/placa-de-captura\">  Placa de Captura   </a><ul class=\"w-250\"></ul></li><li><a href=\"/categoria/pedal\">  Pedal   </a><ul class=\"w-250\"></ul></li></ul></li><li><a href=\"/categoria/led\">  LED  </a></li><li><a href=\"/categoria/blackmagic\">  Blackmagic  </a></li><li><a href=\"/categoria/audio-profissional\">  Áudio Profissional  </a></li><li><a href=\"/categoria/video\">  Vídeo  </a></li> </ul></div></div></div></nav> <section class=\"container\"><div class=\"row mt-5 mb-5\"><div class=\"col-12 col-sm-12 col-md-12 col-lg-10 col-xl-10 mb-2 title\"><h1>  Estabilizadores e Suportes  </h1></div><div class=\"col-12 col-sm-12 col-md-12 col-lg-2 col-xl-2 order\"> <select class=\"form-control\" data-action=\"/sort\" onchange=\"sort(this)\"><option value=\"\">ordenar por:</option><option value=\"price-asc\">más barato</option><option value=\"price-desc\">más caro</option><option value=\"name-asc\">nombre A a Z</option><option value=\"name-desc\">nombre Z a A</option></select></div></div><div class=\"row mb-5\"> <div class=\"col-6 col-sm-6 col-md-4 col-lg-3 col-xl-3 mb-5\"><div class=\"product-card\"><a href=\"/produto/adaptador-ulanzi-st-29-p-tablet\"><figure> <img class=\"lazyload img-fluid\" data-original=\"https://cdn.prodigital.com.py/upload/product/89098/m-adaptador-ulanzi-st-29-tablet-p-tripe.jpg\" src=\"/assets/img/loading.gif\"/> </figure></a><footer><span class=\"code\">Código: 89098</span><h1> Adaptador Ulanzi ST-29 P/Tablet </h1> <div class=\"price\"><span class=\"currency\">U$</span> 22,00</div> </footer></div></div> <div class=\"col-6 col-sm-6 col-md-4 col-lg-3 col-xl-3 mb-5\"><div class=\"product-card\"><a href=\"/produto/soporte-super-mag-plate-2-encaixes\"><figure> <img class=\"lazyload img-fluid\" data-original=\"https://cdn.prodigital.com.py/upload/product/36276/36276-thumbnail.jpg\" src=\"/assets/img/loading.gif\"/> </figure></a><footer><span class=\"code\">Código: 36276</span><h1> SOPORTE SUPER MAG PLATE 2 ENCAIXES </h1> <div class=\"price\"><span class=\"currency\">U$</span> 20,00</div> </footer></div></div> <div class=\"col-6 col-sm-6 col-md-4 col-lg-3 col-xl-3 mb-5\"><div class=\"product-card\"><a href=\"/produto/soporte-p-hombro-beike-shoulder\"><figure> <img class=\"lazyload img-fluid\" data-original=\"https://cdn.prodigital.com.py/upload/product/28608/28608-thumbnail.jpg\" src=\"/assets/img/loading.gif\"/> </figure></a><footer><span class=\"code\">Código: 28608</span><h1> SOPORTE P/HOMBRO BEIKE SHOULDER </h1> <div class=\"price\"><span class=\"currency\">U$</span> 20,00</div> </footer></div></div> <div class=\"col-6 col-sm-6 col-md-4 col-lg-3 col-xl-3 mb-5\"><div class=\"product-card\"><a href=\"/produto/soporte-p-filmadora-livshi-cx-azul\"><figure> <img class=\"lazyload img-fluid\" data-original=\"https://cdn.prodigital.com.py/upload/product/36092/36092-thumbnail.jpg\" src=\"/assets/img/loading.gif\"/> </figure></a><footer><span class=\"code\">Código: 36092</span><h1> SOPORTE P/FILMADORA LIVSHI CX AZUL </h1> <div class=\"price\"><span class=\"currency\">U$</span> 15,00</div> </footer></div></div> <div class=\"col-6 col-sm-6 col-md-4 col-lg-3 col-xl-3 mb-5\"><div class=\"product-card\"><a href=\"/produto/soporte-p-cam-lw-c01-plastico-cx-branca\"><figure> <img class=\"lazyload img-fluid\" data-original=\"https://cdn.prodigital.com.py/upload/product/13888/13888-thumbnail.jpg\" src=\"/assets/img/loading.gif\"/> </figure></a><footer><span class=\"code\">Código: 13888</span><h1> SOPORTE P/CAM. LW-C01 PLASTICO CX/BRANCA </h1> <div class=\"price\"><span class=\"currency\">U$</span> 25,00</div> </footer></div></div> <div class=\"col-6 col-sm-6 col-md-4 col-lg-3 col-xl-3 mb-5\"><div class=\"product-card\"><a href=\"/produto/cabeca-para-tripe-girato-gimbal-head-beike\"><figure> <img class=\"lazyload img-fluid\" data-original=\"https://cdn.prodigital.com.py/upload/product/6033/6033-thumbnail.jpg\" src=\"/assets/img/loading.gif\"/> </figure></a><footer><span class=\"code\">Código: 6033</span><h1> Cabeça para Tripé Girato Gimbal Head Beike </h1> <div class=\"price\"><span class=\"currency\">U$</span> 30,00</div> </footer></div></div> <div class=\"col-6 col-sm-6 col-md-4 col-lg-3 col-xl-3 mb-5\"><div class=\"product-card\"><a href=\"/produto/soporte-anti-choque-p-microfone\"><figure> <img class=\"lazyload img-fluid\" data-original=\"https://cdn.prodigital.com.py/upload/product/18067/18067-thumbnail.jpg\" src=\"/assets/img/loading.gif\"/> </figure></a><footer><span class=\"code\">Código: 18067</span><h1> SOPORTE ANTI-CHOQUE P/MICROFONE </h1> <div class=\"price\"><span class=\"currency\">U$</span> 30,00</div> </footer></div></div> <div class=\"col-6 col-sm-6 col-md-4 col-lg-3 col-xl-3 mb-5\"><div class=\"product-card\"><a href=\"/produto/smallrig-4366-easy-loading-fast-clamp\"><figure> <img class=\"lazyload img-fluid\" data-original=\"https://cdn.prodigital.com.py/upload/product/91664/m-smallrig-4366-easy-londing-fast-clamp.jpg\" src=\"/assets/img/loading.gif\"/> </figure></a><footer><span class=\"code\">Código: 91664</span><h1> Smallrig 4366 Easy Loading Fast Clamp </h1> <div class=\"price\"><span class=\"currency\">U$</span> 22,00</div> </footer></div></div> <div class=\"col-6 col-sm-6 col-md-4 col-lg-3 col-xl-3 mb-5\"><div class=\"product-card\"><a href=\"/produto/glidecam-iglide-orange-c-adapt-p-iphone\"><figure> <img class=\"lazyload img-fluid\" data-original=\"https://cdn.prodigital.com.py/upload/product/22255/22255-thumbnail.jpg\" src=\"/assets/img/loading.gif\"/> </figure></a><footer><span class=\"code\">Código: 22255</span><h1> GLIDECAM IGLIDE ORANGE C/ADAPT P/IPHONE </h1> <div class=\"price\"><span class=\"currency\">U$</span> 40,00</div> </footer></div></div> <div class=\"col-6 col-sm-6 col-md-4 col-lg-3 col-xl-3 mb-5\"><div class=\"product-card\"><a href=\"/produto/glidecam-iglide-green-c-adapt-p-iphone\"><figure> <img class=\"lazyload img-fluid\" data-original=\"https://cdn.prodigital.com.py/upload/product/17305/17305-thumbnail.jpg\" src=\"/assets/img/loading.gif\"/> </figure></a><footer><span class=\"code\">Código: 17305</span><h1> GLIDECAM IGLIDE GREEN C/ADAPT. P/IPHONE </h1> <div class=\"price\"><span class=\"currency\">U$</span> 40,00</div> </footer></div></div> <div class=\"col-6 col-sm-6 col-md-4 col-lg-3 col-xl-3 mb-5\"><div class=\"product-card\"><a href=\"/produto/estabilizador-l7c-pro-3-axis-gimbal\"><figure> <img class=\"lazyload img-fluid\" data-original=\"https://cdn.prodigital.com.py/upload/product/92166/m-estabilizador-l7c-pro-3-axis-gimbal.jpg\" src=\"/assets/img/loading.gif\"/> </figure></a><footer><span class=\"code\">Código: 92166</span><h1> Estabilizador L7C Pro 3 Axis Gimbal  </h1> <div class=\"price\"><span class=\"currency\">U$</span> 79,00</div> </footer></div></div> <div class=\"col-6 col-sm-6 col-md-4 col-lg-3 col-xl-3 mb-5\"><div class=\"product-card\"><a href=\"/produto/braco-articulado-shure-sh-broadcast-1\"><figure> <img class=\"lazyload img-fluid\" data-original=\"https://cdn.prodigital.com.py/upload/product/91473/m-brazo-articulado-shure-sh-broadcast1.jpg\" src=\"/assets/img/loading.gif\"/> </figure></a><footer><span class=\"code\">Código: 91473</span><h1> Braço Articulado Shure SH-Broadcast 1 </h1> <div class=\"price\"><span class=\"currency\">U$</span> 150,00</div> </footer></div></div> <div class=\"col-6 col-sm-6 col-md-4 col-lg-3 col-xl-3 mb-5\"><div class=\"product-card\"><a href=\"/produto/estabilizador-zhiyun-weebill-3\"><figure> <img class=\"lazyload img-fluid\" data-original=\"https://cdn.prodigital.com.py/upload/product/91497/m-estabilizador-zhiyun-weebill-3.jpg\" src=\"/assets/img/loading.gif\"/> </figure></a><footer><span class=\"code\">Código: 91497</span><h1> Estabilizador Zhiyun Weebill 3 </h1> <div class=\"price\"><span class=\"currency\">U$</span> 369,00</div> </footer></div></div> <div class=\"col-6 col-sm-6 col-md-4 col-lg-3 col-xl-3 mb-5\"><div class=\"product-card\"><a href=\"/produto/soporte-vidpro-tt-4-grip-stand\"><figure> <img class=\"lazyload img-fluid\" data-original=\"https://cdn.prodigital.com.py/upload/product/2226/2226-thumbnail.jpg\" src=\"/assets/img/loading.gif\"/> </figure></a><footer><span class=\"code\">Código: 2226</span><h1> SOPORTE VIDPRO TT-4 GRIP STAND </h1> <div class=\"price\"><span class=\"currency\">U$</span> 12,00</div> </footer></div></div> <div class=\"col-6 col-sm-6 col-md-4 col-lg-3 col-xl-3 mb-5\"><div class=\"product-card\"><a href=\"/produto/cage-smallrig-4299-universal-celular\"><figure> <img class=\"lazyload img-fluid\" data-original=\"https://cdn.prodigital.com.py/upload/product/91022/m-cage-smallrig-4299-universal-celular.jpg\" src=\"/assets/img/loading.gif\"/> </figure></a><footer><span class=\"code\">Código: 91022</span><h1> Cage Smallrig 4299 Universal Celular </h1> <div class=\"price\"><span class=\"currency\">U$</span> 68,00</div> </footer></div></div> <div class=\"col-6 col-sm-6 col-md-4 col-lg-3 col-xl-3 mb-5\"><div class=\"product-card\"><a href=\"/produto/estabilizador-zhiyun-smooth-5\"><figure> <img class=\"lazyload img-fluid\" data-original=\"https://cdn.prodigital.com.py/upload/product/90025/m-estabilizador-zhiyun-smooth-5.jpg\" src=\"/assets/img/loading.gif\"/> </figure></a><footer><span class=\"code\">Código: 90025</span><h1> Estabilizador Zhiyun Smooth 5  </h1> <div class=\"price\"><span class=\"currency\">U$</span> 125,00</div> </footer></div></div> <div class=\"col-6 col-sm-6 col-md-4 col-lg-3 col-xl-3 mb-5\"><div class=\"product-card\"><a href=\"/produto/suporte-shock-mount-boya-by-c03\"><figure> <img class=\"lazyload img-fluid\" data-original=\"https://cdn.prodigital.com.py/upload/product/66594/m-soporte-shock-mount-boya-by-c03.jpg\" src=\"/assets/img/loading.gif\"/> </figure></a><footer><span class=\"code\">Código: 66594</span><h1> Suporte Shock Mount Boya BY-C03 </h1> <div class=\"price\"><span class=\"currency\">U$</span> 15,00</div> </footer></div></div> <div class=\"col-6 col-sm-6 col-md-4 col-lg-3 col-xl-3 mb-5\"><div class=\"product-card\"><a href=\"/produto/estabilizador-zhiyun-smooth-5-combo\"><figure> <img class=\"lazyload img-fluid\" data-original=\"https://cdn.prodigital.com.py/upload/product/90032/m-estabilizador-zhiyun-smooth-5-combo.jpg\" src=\"/assets/img/loading.gif\"/> </figure></a><footer><span class=\"code\">Código: 90032</span><h1> Estabilizador Zhiyun Smooth 5 Combo </h1> <div class=\"price\"><span class=\"currency\">U$</span> 165,00</div> </footer></div></div> <div class=\"col-6 col-sm-6 col-md-4 col-lg-3 col-xl-3 mb-5\"><div class=\"product-card\"><a href=\"/produto/haste-extensora-de-fibra-de-carbono-smallrig-870-15mm\"><figure> <img class=\"lazyload img-fluid\" data-original=\"https://cdn.prodigital.com.py/upload/product/37464/m-smallrig-870-haste-fibra-de-carbono-15mm.jpg\" src=\"/assets/img/loading.gif\"/> </figure></a><footer><span class=\"code\">Código: 37464</span><h1> Haste Extensora de Fibra de Carbono SmallRig 870 15mm  </h1> <div class=\"price\"><span class=\"currency\">U$</span> 30,00</div> </footer></div></div> <div class=\"col-6 col-sm-6 col-md-4 col-lg-3 col-xl-3 mb-5\"><div class=\"product-card\"><a href=\"/produto/suporte-para-microfone-e-celular-fm-st01\"><figure> <img class=\"lazyload img-fluid\" data-original=\"https://cdn.prodigital.com.py/upload/product/79365/m-soporte-p-microfone-e-celular-fm-st01.jpg\" src=\"/assets/img/loading.gif\"/> </figure></a><footer><span class=\"code\">Código: 79365</span><h1> Suporte para Microfone e Celular FM-ST01 </h1> <div class=\"price\"><span class=\"currency\">U$</span> 30,00</div> </footer></div></div> <div class=\"col-6 col-sm-6 col-md-4 col-lg-3 col-xl-3 mb-5\"><div class=\"product-card\"><a href=\"/produto/tripe-flexivel-magnus-tb-200go-para-gopro\"><figure> <img class=\"lazyload img-fluid\" data-original=\"https://cdn.prodigital.com.py/upload/product/83669/m-tripe-magnus-tb-200go-mini-flex-p-gopro.jpg\" src=\"/assets/img/loading.gif\"/> </figure></a><footer><span class=\"code\">Código: 83669</span><h1> Tripé Flexível Magnus TB-200Go para GoPro </h1> <div class=\"price\"><span class=\"currency\">U$</span> 20,00</div> </footer></div></div> <div class=\"col-6 col-sm-6 col-md-4 col-lg-3 col-xl-3 mb-5\"><div class=\"product-card\"><a href=\"/produto/tripe-flexivel-joby-jb1494-com-bluetooth-para-celular\"><figure> <img class=\"lazyload img-fluid\" data-original=\"https://cdn.prodigital.com.py/upload/product/83607/m-tripe-joby-jb01494-p-celular-bluetooth.jpg\" src=\"/assets/img/loading.gif\"/> </figure></a><footer><span class=\"code\">Código: 83607</span><h1> Tripé Flexível Joby JB1494 com Bluetooth para Celular </h1> <div class=\"price\"><span class=\"currency\">U$</span> 27,00</div> </footer></div></div> <div class=\"col-6 col-sm-6 col-md-4 col-lg-3 col-xl-3 mb-5\"><div class=\"product-card\"><a href=\"/produto/suporte-puluz-3-way-pu202-para-gopro\"><figure> <img class=\"lazyload img-fluid\" data-original=\"https://cdn.prodigital.com.py/upload/product/83331/m-soporte-puluz-3-way-p-gopro-pu202.jpg\" src=\"/assets/img/loading.gif\"/> </figure></a><footer><span class=\"code\">Código: 83331</span><h1> Suporte Puluz 3 Way PU202 para Gopro </h1> <div class=\"price\"><span class=\"currency\">U$</span> 15,00</div> </footer></div></div> <div class=\"col-6 col-sm-6 col-md-4 col-lg-3 col-xl-3 mb-5\"><div class=\"product-card\"><a href=\"/produto/adaptador-puluz-pu417-de-celular-para-tripe\"><figure> <img class=\"lazyload img-fluid\" data-original=\"https://cdn.prodigital.com.py/upload/product/83317/m-adaptador-puluz-pu417-celular-p-tripe.jpg\" src=\"/assets/img/loading.gif\"/> </figure></a><footer><span class=\"code\">Código: 83317</span><h1> Adaptador Puluz PU417 de Celular para Tripé </h1> <div class=\"price\"><span class=\"currency\">U$</span> 10,00</div> </footer></div></div> <div class=\"col-6 col-sm-6 col-md-4 col-lg-3 col-xl-3 mb-5\"><div class=\"product-card\"><a href=\"/produto/suporte-de-mao-para-camera-puluz-pu3208\"><figure> <img class=\"lazyload img-fluid\" data-original=\"https://cdn.prodigital.com.py/upload/product/83294/m-soporte-de-mao-puluz-pu3208-p-camera.jpg\" src=\"/assets/img/loading.gif\"/> </figure></a><footer><span class=\"code\">Código: 83294</span><h1> Suporte de mão para Câmera Puluz PU3208 </h1> <div class=\"price\"><span class=\"currency\">U$</span> 12,00</div> </footer></div></div> <div class=\"col-6 col-sm-6 col-md-4 col-lg-3 col-xl-3 mb-5\"><div class=\"product-card\"><a href=\"/produto/smallrig-baseplate-15mm-rod-clamp-1775\"><figure> <img class=\"lazyload img-fluid\" data-original=\"https://cdn.prodigital.com.py/upload/product/86721/m-smallrig-1775-baseplate-c-15mm-rod-clamp.jpg\" src=\"/assets/img/loading.gif\"/> </figure></a><footer><span class=\"code\">Código: 86721</span><h1> SmallRig Baseplate 15mm Rod Clamp 1775 </h1> <div class=\"price\"><span class=\"currency\">U$</span> 60,00</div> </footer></div></div> <div class=\"col-6 col-sm-6 col-md-4 col-lg-3 col-xl-3 mb-5\"><div class=\"product-card\"><a href=\"/produto/suporte-smallrig-lws-sm3652-15mm\"><figure> <img class=\"lazyload img-fluid\" data-original=\"https://cdn.prodigital.com.py/upload/product/82693/m-smallrig-sm3652-15mm-lws-support.jpg\" src=\"/assets/img/loading.gif\"/> </figure></a><footer><span class=\"code\">Código: 82693</span><h1> Suporte Smallrig LWS SM3652 15mm </h1> <div class=\"price\"><span class=\"currency\">U$</span> 60,00</div> </footer></div></div> <div class=\"col-6 col-sm-6 col-md-4 col-lg-3 col-xl-3 mb-5\"><div class=\"product-card\"><a href=\"/produto/e-image-quick-release-tripode-vct-14-type\"><figure> <img class=\"lazyload img-fluid\" data-original=\"https://cdn.prodigital.com.py/upload/product/80934/m-e-image-quick-release-tripod-vct-14-type.jpg\" src=\"/assets/img/loading.gif\"/> </figure></a><footer><span class=\"code\">Código: 80934</span><h1> E-IMAGE Quick Release Tripode VCT-14 Type </h1> <div class=\"price\"><span class=\"currency\">U$</span> 198,00</div> </footer></div></div> <div class=\"col-6 col-sm-6 col-md-4 col-lg-3 col-xl-3 mb-5\"><div class=\"product-card\"><a href=\"/produto/estabilizador-ikan-ele-recoil\"><figure> <img class=\"lazyload img-fluid\" data-original=\"https://cdn.prodigital.com.py/upload/product/57677/57677-thumbnail.jpg\" src=\"/assets/img/loading.gif\"/> </figure></a><footer><span class=\"code\">Código: 57677</span><h1> Estabilizador Ikan Ele-Recoil </h1> <div class=\"price\"><span class=\"currency\">U$</span> 110,00</div> </footer></div></div> <div class=\"col-6 col-sm-6 col-md-4 col-lg-3 col-xl-3 mb-5\"><div class=\"product-card\"><a href=\"/produto/smallrig-1798-kit-de-montagem-tripe-2-plate\"><figure> <img class=\"lazyload img-fluid\" data-original=\"https://cdn.prodigital.com.py/upload/product/67553/m-smallrig-1798-kit-montagem-tripe-2-plate.png\" src=\"/assets/img/loading.gif\"/> </figure></a><footer><span class=\"code\">Código: 67553</span><h1> Smallrig 1798 Kit de Montagem Tripé 2 Plate </h1> <div class=\"price\"><span class=\"currency\">U$</span> 80,00</div> </footer></div></div> <div class=\"col-6 col-sm-6 col-md-4 col-lg-3 col-xl-3 mb-5\"><div class=\"product-card\"><a href=\"/produto/mini-braco-lovefoto-magico-articulado-com-cabeca-ball-dupla\"><figure> <img class=\"lazyload img-fluid\" data-original=\"https://cdn.prodigital.com.py/upload/product/79211/m-lovefoto-bra-o-magico-cabe-a-dupla.jpg\" src=\"/assets/img/loading.gif\"/> </figure></a><footer><span class=\"code\">Código: 79211</span><h1> Mini Braço Lovefoto Mágico Articulado com Cabeça Ball Dupla </h1> <div class=\"price\"><span class=\"currency\">U$</span> 20,00</div> </footer></div></div> <div class=\"col-6 col-sm-6 col-md-4 col-lg-3 col-xl-3 mb-5\"><div class=\"product-card\"><a href=\"/produto/alca-lateral-smallrig-2916-lateral-mini-montagem-dupla\"><figure> <img class=\"lazyload img-fluid\" data-original=\"https://cdn.prodigital.com.py/upload/product/72960/m-smallrig-2916-al-a-lateral-mini-montagem.png\" src=\"/assets/img/loading.gif\"/> </figure></a><footer><span class=\"code\">Código: 72960</span><h1> Alça lateral SmallRig 2916 Lateral Mini Montagem Dupla </h1> <div class=\"price\"><span class=\"currency\">U$</span> 40,00</div> </footer></div></div> </div><div class=\"row\"><div class=\"col-12\"><div class=\"d-none d-md-none d-lg-none d-xl-block mb-5\"><ul class=\"pagination justify-content-end\"> <li class=\"page-item active\"><a class=\"page-link\" href=\"?page=1\">1</a></li> <li class=\"page-item\"><a class=\"page-link\" href=\"?page=2\">2</a></li> <li class=\"page-item\"><a class=\"page-link\" href=\"?page=3\">3</a></li> <li class=\"page-item\"><a class=\"page-link\" href=\"?page=4\">4</a></li> <li class=\"page-item\"><a class=\"page-link\" href=\"?page=5\">5</a></li> <li class=\"page-item\"><a class=\"page-link\" href=\"?page=2\"><i class=\"zmdi zmdi-chevron-right\"></i></a></li></ul></div><div class=\"d-block d-lg-block d-xl-none mb-5\"><ul class=\"pagination justify-content-center\"><li class=\"page-item disabled\"><a class=\"page-link\">1</a></li><li class=\"page-item\"><a class=\"page-link\" href=\"?page=2\"><i class=\"zmdi zmdi-chevron-right\"></i></a></li></ul><div class=\"text-center\"><small class=\"text-muted text-center\">Exibindo página <strong>1</strong> de <strong>5</strong> página(s).</small></div><div></div></div></div></div></section> <footer><div class=\"container\"><div class=\"row mb-5\"><div class=\"col-12 col-sm-12 col-md-12 col-lg-2 col-xl-2 mb-4\"><h1>Páginas</h1><ul><li><a href=\"/\">Página de Inicio</a> <a href=\"/marcas\">Marcas</a> <a href=\"/categorias\">Categorías</a> <a href=\"/lancamento\">Lanzamientos</a> <a href=\"/destaque\">Destacados</a> <a href=\"/promocao\">Promociones</a> <a href=\"/localizacao\">Ubicación</a></li></ul></div><div class=\"col-12 col-sm-12 col-md-12 col-lg-4 col-xl-4\"><div class=\"row\"><div class=\"col-12 col-sm-12 col-md-12 col-lg-6 col-xl-6 mb-4\"><h1>Categorías</h1><ul><li><a href=\"/categoria/led\">  LED  </a></li><li><a href=\"/categoria/blackmagic\">  Blackmagic  </a></li><li><a href=\"/categoria/audio-profissional\">  Áudio Profissional  </a></li><li><a href=\"/categoria/video\">  Vídeo  </a></li></ul></div><div class=\"col-12 col-sm-12 col-md-12 col-lg-6 col-xl-6 mb-4\"><h1>Marcas</h1><ul><li><a href=\"/marca/nikon\">NIKON</a></li><li><a href=\"/marca/gopro\">GOPRO</a></li><li><a href=\"/marca/sony\">SONY</a></li><li><a href=\"/marca/commlite\">COMMLITE</a></li><li><a href=\"/marca/fotodiox\">FOTODIOX</a></li><li><a href=\"/marca/panasonic\">PANASONIC</a></li><li><a href=\"/marca/nicefoto\">NICEFOTO</a></li><li><a href=\"/marca/canon\">CANON</a></li><li><a href=\"/marca/black-magic\">BLACKMAGIC</a></li><li><a href=\"/marca/manfrotto\">MANFROTTO</a></li></ul></div></div></div><div class=\"col-12 col-sm-12 col-md-12 col-lg-6 col-xl-6\"><h1 class=\"mb-4\">Hable con Nosotros</h1><div class=\"row\"><div class=\"col-6\"><div class=\"row\"><div class=\"col-12 mb-4\"><div class=\"seller-name mb-3\">Felipe Beserra</div><p><i class=\"zmdi zmdi-whatsapp\"></i><a class=\"wp\" href=\"https://api.whatsapp.com/send?phone=5545998297857&amp;text=Ol%C3%A1,%20estou%20entrando%20em%20contato%20diretamente%20pelo%20site%20https://www.prodigital.com.py.\" target=\"_blank\">+55 45 9 9829 7857</a></p><p><i class=\"zmdi zmdi-email\"></i> <a class=\"__cf_email__\" data-cfemail=\"4d2b282f283e283f3f2c0d22383921222226632e2220\" href=\"/cdn-cgi/l/email-protection\">[email protected]</a></p></div><div class=\"col-12 mb-4\"><div class=\"seller-name mb-3\">Silvio</div><p><i class=\"zmdi zmdi-whatsapp\"></i> <a class=\"wp\" href=\"https://api.whatsapp.com/send?phone=5545999479681&amp;text=Ol%C3%A1,%20estou%20entrando%20em%20contato%20diretamente%20pelo%20site%20https://www.prodigital.com.py.\" target=\"_blank\">+55 45 9 9947 9681</a></p><p><i class=\"zmdi zmdi-skype\"></i> prodigital4</p><p><i class=\"zmdi zmdi-email\"></i> <a class=\"__cf_email__\" data-cfemail=\"9ae9f3f6ecf3f5b7eae8f5fef3fdf3eefbf6daf2f5eef7fbf3f6b4f9f5f7\" href=\"/cdn-cgi/l/email-protection\">[email protected]</a></p></div><div class=\"col-12\"><div class=\"seller-name mb-3\">Mirta</div><p><i class=\"zmdi zmdi-whatsapp\"></i> <a class=\"wp\" href=\"https://api.whatsapp.com/send?phone=595984261239&amp;text=Ol%C3%A1,%20estou%20entrando%20em%20contato%20diretamente%20pelo%20site%20https://www.prodigital.com.py.\" target=\"_blank\">+595 984 261 239</a></p><p><i class=\"zmdi zmdi-skype\"></i> mirta.ramirez</p><p><i class=\"zmdi zmdi-email\"></i> <a class=\"__cf_email__\" data-cfemail=\"89e4fbe8e4e0fbecf3d6bec9e5e0ffeca7eae6e4\" href=\"/cdn-cgi/l/email-protection\">[email protected]</a></p></div></div></div><div class=\"col-6\"><div class=\"row\"><div class=\"col-12 mb-4\"><div class=\"seller-name mb-3\">Youssef Awali</div><p><i class=\"zmdi zmdi-whatsapp\"></i><a class=\"wp\" href=\"https://api.whatsapp.com/send?phone=5545999099889&amp;text=Ol%C3%A1,%20estou%20entrando%20em%20contato%20diretamente%20pelo%20site%20https://www.prodigital.com.py.\" target=\"_blank\">+55 45 9909 9889</a></p></div><div class=\"col-12 mb-4\"><div class=\"seller-name mb-3\">Ali Awali</div><p><i class=\"zmdi zmdi-whatsapp\"></i> <a class=\"wp\" href=\"https://api.whatsapp.com/send?phone=5511990112733&amp;text=Ol%C3%A1,%20estou%20entrando%20em%20contato%20diretamente%20pelo%20site%20https://www.prodigital.com.py.\" target=\"_blank\">+55 11 9 9011 2733</a></p></div><div class=\"col-12\"><div class=\"seller-name mb-3\">Hassib Awali</div><p><i class=\"zmdi zmdi-whatsapp\"></i> <a class=\"wp\" href=\"https://api.whatsapp.com/send?phone=5545999190004&amp;text=Ol%C3%A1,%20estou%20entrando%20em%20contato%20diretamente%20pelo%20site%20https://www.prodigital.com.py.\" target=\"_blank\">+55 45 9 9919 0004</a></p></div></div></div></div><div class=\"row mt-5\"><div class=\"col-12\"><h1>Onde Estamos</h1><p>Shopping Jebai Center, 3º piso, sala 2211/2212 (Ao lado do Centro Motorola em frente ao Fortuna Câmbio e Casa Glória).</p></div></div><div class=\"row mt-5\"><div class=\"col-12\"><h1>Sobre Nosotros</h1><p>En el mercado desde hace 8 años, estamos especializados en equipos para fotografía y filmación profesional. Ven a conocer nuestra línea completa de cámaras y accesorios de las principales marcas del mercado.</p></div></div></div></div><div class=\"row\"><div class=\"col-12\"><div class=\"social\"><ul><li><a href=\"https://www.instagram.com/prodigitalpy\" target=\"_blank\"><i class=\"zmdi zmdi-instagram\"></i> <span>Instagram <strong>/prodigitalpy</strong></span></a></li><li><a href=\"https://www.facebook.com/prodigitalpy\" target=\"_blank\"><i class=\"zmdi zmdi-facebook-box\"></i> <span>Facebook <strong>/prodigitalpy</strong></span></a></li></ul></div></div></div></div><div class=\"bottom\"><div class=\"container\"><div class=\"row\"><div class=\"col-12 rights\">© PRO Digital - Todos los derechos reservados.<br/>\n",
       "    El precio y la información de los productos pueden cambiar sin previo aviso.<div class=\"development\">Made in <a href=\"https://withyou.tech\" target=\"_blank\">WITH YOU</a></div></div></div></div></div></footer><div class=\"whatsapp pulse\"><a href=\"https://api.whatsapp.com/send?phone=5545999479681&amp;text=Olá,%20estou%20entrando%20em%20contato%20diretamente%20pelo%20site https://www.prodigital.com.py.\" target=\"_blank\"><img src=\"/assets/img/whatsapp.png\"/></a></div> <div class=\"mobile-header d-block d-lg-block d-xl-none\"><button class=\"button-menu\" onclick=\"openSidebar()\"><i class=\"zmdi zmdi-sort-amount-desc\"></i></button><div class=\"logo\"><a href=\"/\"><strong>PRO Digital</strong></a></div><button class=\"button-search\" onclick=\"openSearch()\"><i class=\"zmdi zmdi-search\"></i></button></div><div class=\"mobile-sidebar\"><div class=\"box\"><div class=\"title\"><h1>Menu</h1><button class=\"hide\" onclick=\"closeSidebar()\"><i class=\"zmdi zmdi-close\"></i></button></div><div class=\"content\"><div class=\"info\"><div class=\"quotation\">U$ <span>x</span> R$ 5.76</div><div class=\"language\" data-action=\"/language\"><ul><li class=\"\" id=\"pt_BR\">PT</li><li class=\"active\" id=\"es_PY\">ES</li><ul></ul></ul></div></div><ul><li><a href=\"/\">Página de Inicio</a></li><li><a href=\"/marcas\">Marcas</a></li><li><a href=\"/categorias\">Categorías</a></li><li><a href=\"/lancamento\">Lanzamientos</a></li><li><a href=\"/destaque\">Destacados</a></li><li><a href=\"/promocao\">Promociones</a></li><li><a href=\"/localizacao\">Ubicación</a></li></ul><h2>Marcas</h2><ul><li><a href=\"/marca/nikon\">NIKON</a></li><li><a href=\"/marca/gopro\">GOPRO</a></li><li><a href=\"/marca/sony\">SONY</a></li><li><a href=\"/marca/commlite\">COMMLITE</a></li><li><a href=\"/marca/fotodiox\">FOTODIOX</a></li><li><a href=\"/marca/panasonic\">PANASONIC</a></li><li><a href=\"/marca/godox\">GODOX</a></li><li><a href=\"/marca/nicefoto\">NICEFOTO</a></li><li><a href=\"/marca/canon\">CANON</a></li><li><a href=\"/marca/black-magic\">BLACKMAGIC</a></li><li><a href=\"/marca/manfrotto\">MANFROTTO</a></li><li><a href=\"/marca/rokinon\">ROKINON</a></li></ul><h2>Categorias</h2><ul><li><a class=\"father\" href=\"/categoria/iluminacao\">Iluminação</a></li><li><a class=\"father\" href=\"/categoria/acessorios-1\">— Acessórios</a></li> <li><a class=\"father\" href=\"/categoria/flash\">— Flash</a></li> <li><a class=\"father\" href=\"/categoria/led\">— LED</a></li> <li><a class=\"father\" href=\"/categoria/radio-flash\">— Rádio Flash</a></li> <li><a class=\"father\" href=\"/categoria/rebatedores\">— Rebatedores</a></li> <li><a class=\"father\" href=\"/categoria/softbox\">— Softbox</a></li> <li><a class=\"father\" href=\"/categoria/lentes\">Lentes</a></li><li><a class=\"father\" href=\"/categoria/canon\">— Canon</a></li> <li><a class=\"father\" href=\"/categoria/filtros\">— filtros</a></li> <li><a class=\"father\" href=\"/categoria/nikon\">— Nikon</a></li> <li><a class=\"father\" href=\"/categoria/rokinon\">— Rokinon</a></li> <li><a class=\"father\" href=\"/categoria/sigma\">— Sigma</a></li> <li><a class=\"father\" href=\"/categoria/cameras-digitais\">Câmeras Digitais</a></li><li><a class=\"father\" href=\"/categoria/acessorios\">— Acessórios</a></li> <li><a class=\"father\" href=\"/categoria/profissional\">— profissional</a></li> <li><a class=\"father\" href=\"/categoria/semi-profissional\">— Semi-profissional</a></li> <li><a class=\"father\" href=\"/categoria/filmadoras\">Filmadoras</a></li> <li><a class=\"father\" href=\"/categoria/tripes-profissionais\">Tripés Profissionais</a></li><li><a class=\"father\" href=\"/categoria/monopes\">— Monopés</a></li> <li><a class=\"father\" href=\"/categoria/maletas-e-mochilas\">Maletas e Mochilas</a></li> <li><a class=\"father\" href=\"/categoria/blackmagic\">Blackmagic</a></li> <li><a class=\"father\" href=\"/categoria/audio-profissional\">Áudio Profissional</a></li><li><a class=\"father\" href=\"/categoria/fones\">— Fones</a></li> <li><a class=\"father\" href=\"/categoria/gravadores\">— Gravadores</a></li> <li><a class=\"father\" href=\"/categoria/microfones\">— Microfones</a></li> <li><a class=\"father\" href=\"/categoria/video\">Vídeo</a></li><li><a class=\"father\" href=\"/categoria/mixer\">— Mixer</a></li> <li><a class=\"father\" href=\"/categoria/monitores\">— Monitores</a></li> <li><a class=\"father\" href=\"/categoria/midias-e-memorias\">Mídias e Memórias</a></li> <li><a class=\"father\" href=\"/categoria/gopro-e-acessorios\">GoPro e Acessórios</a></li> <li><a class=\"father\" href=\"/categoria/estabilizadores-e-suportes\">Estabilizadores e Suportes</a></li> <li><a class=\"father\" href=\"/categoria/eletronicos\">Eletrônicos</a></li> <li><a class=\"father\" href=\"/categoria/baterias-e-carregadores\">Baterias e Carregadores</a></li> <li><a class=\"father\" href=\"/categoria/placa-de-captura\">Placa de Captura</a></li> <li><a class=\"father\" href=\"/categoria/pedal\">Pedal</a></li> </ul></div><div class=\"option\"><div class=\"row text-center\"><div class=\"col-6\"><a href=\"/\"><i class=\"zmdi zmdi-home\"></i></a></div><div class=\"col-6\"><a href=\"/localizacao\"><i class=\"zmdi zmdi-pin\"></i></a></div></div></div></div><div class=\"overlay\" onclick=\"closeSidebar()\"></div></div><div class=\"mobile-search\"><form action=\"/busca\" class=\"form\" method=\"post\"><input autocomplete=\"off\" name=\"term\" placeholder=\"Escriba lo que está buscando\" type=\"search\" value=\"\"/></form><div class=\"overlay\" onclick=\"closeSearch()\"></div></div><script data-cfasync=\"false\" src=\"/cdn-cgi/scripts/5c5dd728/cloudflare-static/email-decode.min.js\"></script><script src=\"/assets/js/main.min.js?v=RuORiDW3QCwfj4QBTnXj9fd2TS0UStJj\"></script></body></html>"
      ]
     },
     "execution_count": 77,
     "metadata": {},
     "output_type": "execute_result"
    }
   ],
   "source": [
    "soup"
   ]
  },
  {
   "cell_type": "code",
   "execution_count": 78,
   "metadata": {},
   "outputs": [],
   "source": [
    "products = soup.find_all('h1')"
   ]
  },
  {
   "cell_type": "code",
   "execution_count": 80,
   "metadata": {},
   "outputs": [],
   "source": [
    "produtos_ = []\n",
    "for produto in products:\n",
    "    produtos_.append(produto.text.lower().lstrip(' ').rstrip(' ').replace(' ','-').replace('ã','a').replace(\n",
    "        'marcas','').replace('hable-con-nosotros','').replace(\n",
    "        'onde-estamos', '').replace('sobre-nosotros','').replace(\n",
    "        'menu','').replace( 'páginas','').replace('categorías','')\n",
    "        )"
   ]
  },
  {
   "cell_type": "code",
   "execution_count": 81,
   "metadata": {},
   "outputs": [
    {
     "data": {
      "text/plain": [
       "['estabilizadores-e-suportes',\n",
       " 'adaptador-ulanzi-st-29-p/tablet',\n",
       " 'soporte-super-mag-plate-2-encaixes',\n",
       " 'soporte-p/hombro-beike-shoulder',\n",
       " 'soporte-p/filmadora-livshi-cx-azul',\n",
       " 'soporte-p/cam.-lw-c01-plastico-cx/branca',\n",
       " 'cabeça-para-tripé-girato-gimbal-head-beike',\n",
       " 'soporte-anti-choque-p/microfone',\n",
       " 'smallrig-4366-easy-loading-fast-clamp',\n",
       " 'glidecam-iglide-orange-c/adapt-p/iphone',\n",
       " 'glidecam-iglide-green-c/adapt.-p/iphone',\n",
       " 'estabilizador-l7c-pro-3-axis-gimbal',\n",
       " 'braço-articulado-shure-sh-broadcast-1',\n",
       " 'estabilizador-zhiyun-weebill-3',\n",
       " 'soporte-vidpro-tt-4-grip-stand',\n",
       " 'cage-smallrig-4299-universal-celular',\n",
       " 'estabilizador-zhiyun-smooth-5',\n",
       " 'suporte-shock-mount-boya-by-c03',\n",
       " 'estabilizador-zhiyun-smooth-5-combo',\n",
       " 'haste-extensora-de-fibra-de-carbono-smallrig-870-15mm',\n",
       " 'suporte-para-microfone-e-celular-fm-st01',\n",
       " 'tripé-flexível-magnus-tb-200go-para-gopro',\n",
       " 'tripé-flexível-joby-jb1494-com-bluetooth-para-celular',\n",
       " 'suporte-puluz-3-way-pu202-para-gopro',\n",
       " 'adaptador-puluz-pu417-de-celular-para-tripé',\n",
       " 'suporte-de-mao-para-câmera-puluz-pu3208',\n",
       " 'smallrig-baseplate-15mm-rod-clamp-1775',\n",
       " 'suporte-smallrig-lws-sm3652-15mm',\n",
       " 'e-image-quick-release-tripode-vct-14-type',\n",
       " 'estabilizador-ikan-ele-recoil',\n",
       " 'smallrig-1798-kit-de-montagem-tripé-2-plate',\n",
       " 'mini-braço-lovefoto-mágico-articulado-com-cabeça-ball-dupla',\n",
       " 'alça-lateral-smallrig-2916-lateral-mini-montagem-dupla',\n",
       " '',\n",
       " '',\n",
       " '',\n",
       " '',\n",
       " '',\n",
       " '',\n",
       " '']"
      ]
     },
     "execution_count": 81,
     "metadata": {},
     "output_type": "execute_result"
    }
   ],
   "source": [
    "produtos_"
   ]
  },
  {
   "cell_type": "code",
   "execution_count": null,
   "metadata": {},
   "outputs": [],
   "source": [
    "def extract_product"
   ]
  },
  {
   "cell_type": "code",
   "execution_count": 82,
   "metadata": {},
   "outputs": [],
   "source": [
    "pdr_url = 'https://www.prodigital.com.py/produto/grid-nanlite-ec-ptii6c-para-pavo-tube-6c'"
   ]
  },
  {
   "cell_type": "code",
   "execution_count": 83,
   "metadata": {},
   "outputs": [],
   "source": [
    "response_2 = requests.get(pdr_url)"
   ]
  },
  {
   "cell_type": "code",
   "execution_count": 84,
   "metadata": {},
   "outputs": [],
   "source": [
    "soup_1 = BeautifulSoup(response_2.content, 'html.parser')"
   ]
  },
  {
   "cell_type": "code",
   "execution_count": null,
   "metadata": {},
   "outputs": [],
   "source": [
    "<div class=\"price convert\"><span class=\"currency convert-currency\">U$</span> <span class=\"convert-price\">18.00</span></div>"
   ]
  },
  {
   "cell_type": "code",
   "execution_count": null,
   "metadata": {},
   "outputs": [],
   "source": [
    "soup_1.find_all(\n",
    "    'div', attrs={'class':'price convert'}\n",
    ")"
   ]
  },
  {
   "cell_type": "code",
   "execution_count": 111,
   "metadata": {},
   "outputs": [
    {
     "data": {
      "text/plain": [
       "[<div class=\"container\"><div class=\"row\"><div class=\"col-12\"><a href=\"/\"><img class=\"logo\" src=\"/assets/img/logo.png\"/></a><div class=\"search\"><form action=\"/busca\" id=\"search\" method=\"post\"><input autocomplete=\"off\" class=\"term\" name=\"term\" placeholder=\"Escriba lo que está buscando\" type=\"search\"/> <button type=\"submit\"><i class=\"zmdi zmdi-search\"></i></button></form></div><div class=\"download\"><a href=\"/download\"><div class=\"icon\"><i class=\"zmdi zmdi-cloud-outline\"></i></div><div class=\"text\"><small>Baixe nossa</small><p><strong>Lista de Preços</strong></p></div></a></div><div class=\"quotation\"><div class=\"icon\"><i class=\"zmdi zmdi-money\"></i></div><div class=\"info\">Cambio del día<br/><span>U$ x R$ 5.76</span></div></div><div class=\"language\" data-action=\"/language\"><ul><li class=\"\" id=\"pt_BR\">PT</li><li class=\"active\" id=\"es_PY\">ES</li><ul></ul></ul></div></div></div></div>,\n",
       " <div class=\"row\"><div class=\"col-12\"><a href=\"/\"><img class=\"logo\" src=\"/assets/img/logo.png\"/></a><div class=\"search\"><form action=\"/busca\" id=\"search\" method=\"post\"><input autocomplete=\"off\" class=\"term\" name=\"term\" placeholder=\"Escriba lo que está buscando\" type=\"search\"/> <button type=\"submit\"><i class=\"zmdi zmdi-search\"></i></button></form></div><div class=\"download\"><a href=\"/download\"><div class=\"icon\"><i class=\"zmdi zmdi-cloud-outline\"></i></div><div class=\"text\"><small>Baixe nossa</small><p><strong>Lista de Preços</strong></p></div></a></div><div class=\"quotation\"><div class=\"icon\"><i class=\"zmdi zmdi-money\"></i></div><div class=\"info\">Cambio del día<br/><span>U$ x R$ 5.76</span></div></div><div class=\"language\" data-action=\"/language\"><ul><li class=\"\" id=\"pt_BR\">PT</li><li class=\"active\" id=\"es_PY\">ES</li><ul></ul></ul></div></div></div>,\n",
       " <div class=\"col-12\"><a href=\"/\"><img class=\"logo\" src=\"/assets/img/logo.png\"/></a><div class=\"search\"><form action=\"/busca\" id=\"search\" method=\"post\"><input autocomplete=\"off\" class=\"term\" name=\"term\" placeholder=\"Escriba lo que está buscando\" type=\"search\"/> <button type=\"submit\"><i class=\"zmdi zmdi-search\"></i></button></form></div><div class=\"download\"><a href=\"/download\"><div class=\"icon\"><i class=\"zmdi zmdi-cloud-outline\"></i></div><div class=\"text\"><small>Baixe nossa</small><p><strong>Lista de Preços</strong></p></div></a></div><div class=\"quotation\"><div class=\"icon\"><i class=\"zmdi zmdi-money\"></i></div><div class=\"info\">Cambio del día<br/><span>U$ x R$ 5.76</span></div></div><div class=\"language\" data-action=\"/language\"><ul><li class=\"\" id=\"pt_BR\">PT</li><li class=\"active\" id=\"es_PY\">ES</li><ul></ul></ul></div></div>,\n",
       " <div class=\"search\"><form action=\"/busca\" id=\"search\" method=\"post\"><input autocomplete=\"off\" class=\"term\" name=\"term\" placeholder=\"Escriba lo que está buscando\" type=\"search\"/> <button type=\"submit\"><i class=\"zmdi zmdi-search\"></i></button></form></div>,\n",
       " <div class=\"download\"><a href=\"/download\"><div class=\"icon\"><i class=\"zmdi zmdi-cloud-outline\"></i></div><div class=\"text\"><small>Baixe nossa</small><p><strong>Lista de Preços</strong></p></div></a></div>,\n",
       " <div class=\"icon\"><i class=\"zmdi zmdi-cloud-outline\"></i></div>,\n",
       " <div class=\"text\"><small>Baixe nossa</small><p><strong>Lista de Preços</strong></p></div>,\n",
       " <div class=\"quotation\"><div class=\"icon\"><i class=\"zmdi zmdi-money\"></i></div><div class=\"info\">Cambio del día<br/><span>U$ x R$ 5.76</span></div></div>,\n",
       " <div class=\"icon\"><i class=\"zmdi zmdi-money\"></i></div>,\n",
       " <div class=\"info\">Cambio del día<br/><span>U$ x R$ 5.76</span></div>,\n",
       " <div class=\"language\" data-action=\"/language\"><ul><li class=\"\" id=\"pt_BR\">PT</li><li class=\"active\" id=\"es_PY\">ES</li><ul></ul></ul></div>,\n",
       " <div class=\"container\"><div class=\"row\"><div class=\"col-12\"><ul class=\"coffe-menu zm-full-width\"><li><a href=\"#\"><i class=\"zmdi zmdi-menu\"></i>Categorias</a><ul class=\"w-250\"><li><a href=\"/categoria/iluminacao\">  Iluminação    <i class=\"zm-caret zmdi zmdi-chevron-right\"></i> </a><ul class=\"w-250\"><li><a href=\"/categoria/acessorios-1\">  Acessórios   </a><ul class=\"w-250\"></ul></li><li><a href=\"/categoria/flash\">  Flash   </a><ul class=\"w-250\"></ul></li><li><a href=\"/categoria/led\">  LED   </a><ul class=\"w-250\"></ul></li><li><a href=\"/categoria/radio-flash\">  Rádio Flash   </a><ul class=\"w-250\"></ul></li><li><a href=\"/categoria/rebatedores\">  Rebatedores   </a><ul class=\"w-250\"></ul></li><li><a href=\"/categoria/softbox\">  Softbox   </a><ul class=\"w-250\"></ul></li></ul></li><li><a href=\"/categoria/lentes\">  Lentes    <i class=\"zm-caret zmdi zmdi-chevron-right\"></i> </a><ul class=\"w-250\"><li><a href=\"/categoria/canon\">  Canon   </a><ul class=\"w-250\"></ul></li><li><a href=\"/categoria/filtros\">  filtros   </a><ul class=\"w-250\"></ul></li><li><a href=\"/categoria/nikon\">  Nikon   </a><ul class=\"w-250\"></ul></li><li><a href=\"/categoria/rokinon\">  Rokinon   </a><ul class=\"w-250\"></ul></li><li><a href=\"/categoria/sigma\">  Sigma   </a><ul class=\"w-250\"></ul></li></ul></li><li><a href=\"/categoria/cameras-digitais\">  Câmeras Digitais    <i class=\"zm-caret zmdi zmdi-chevron-right\"></i> </a><ul class=\"w-250\"><li><a href=\"/categoria/acessorios\">  Acessórios   </a><ul class=\"w-250\"></ul></li><li><a href=\"/categoria/profissional\">  profissional   </a><ul class=\"w-250\"></ul></li><li><a href=\"/categoria/semi-profissional\">  Semi-profissional   </a><ul class=\"w-250\"></ul></li></ul></li><li><a href=\"/categoria/filmadoras\">  Filmadoras   </a><ul class=\"w-250\"></ul></li><li><a href=\"/categoria/tripes-profissionais\">  Tripés Profissionais    <i class=\"zm-caret zmdi zmdi-chevron-right\"></i> </a><ul class=\"w-250\"><li><a href=\"/categoria/monopes\">  Monopés   </a><ul class=\"w-250\"></ul></li></ul></li><li><a href=\"/categoria/maletas-e-mochilas\">  Maletas e Mochilas   </a><ul class=\"w-250\"></ul></li><li><a href=\"/categoria/blackmagic\">  Blackmagic   </a><ul class=\"w-250\"></ul></li><li><a href=\"/categoria/audio-profissional\">  Áudio Profissional    <i class=\"zm-caret zmdi zmdi-chevron-right\"></i> </a><ul class=\"w-250\"><li><a href=\"/categoria/fones\">  Fones   </a><ul class=\"w-250\"></ul></li><li><a href=\"/categoria/gravadores\">  Gravadores   </a><ul class=\"w-250\"></ul></li><li><a href=\"/categoria/microfones\">  Microfones   </a><ul class=\"w-250\"></ul></li></ul></li><li><a href=\"/categoria/video\">  Vídeo    <i class=\"zm-caret zmdi zmdi-chevron-right\"></i> </a><ul class=\"w-250\"><li><a href=\"/categoria/mixer\">  Mixer   </a><ul class=\"w-250\"></ul></li><li><a href=\"/categoria/monitores\">  Monitores   </a><ul class=\"w-250\"></ul></li></ul></li><li><a href=\"/categoria/midias-e-memorias\">  Mídias e Memórias   </a><ul class=\"w-250\"></ul></li><li><a href=\"/categoria/gopro-e-acessorios\">  GoPro e Acessórios   </a><ul class=\"w-250\"></ul></li><li><a href=\"/categoria/estabilizadores-e-suportes\">  Estabilizadores e Suportes   </a><ul class=\"w-250\"></ul></li><li><a href=\"/categoria/eletronicos\">  Eletrônicos   </a><ul class=\"w-250\"></ul></li><li><a href=\"/categoria/baterias-e-carregadores\">  Baterias e Carregadores   </a><ul class=\"w-250\"></ul></li><li><a href=\"/categoria/placa-de-captura\">  Placa de Captura   </a><ul class=\"w-250\"></ul></li><li><a href=\"/categoria/pedal\">  Pedal   </a><ul class=\"w-250\"></ul></li></ul></li><li><a href=\"/categoria/led\">  LED  </a></li><li><a href=\"/categoria/blackmagic\">  Blackmagic  </a></li><li><a href=\"/categoria/audio-profissional\">  Áudio Profissional  </a></li><li><a href=\"/categoria/video\">  Vídeo  </a></li> </ul></div></div></div>,\n",
       " <div class=\"row\"><div class=\"col-12\"><ul class=\"coffe-menu zm-full-width\"><li><a href=\"#\"><i class=\"zmdi zmdi-menu\"></i>Categorias</a><ul class=\"w-250\"><li><a href=\"/categoria/iluminacao\">  Iluminação    <i class=\"zm-caret zmdi zmdi-chevron-right\"></i> </a><ul class=\"w-250\"><li><a href=\"/categoria/acessorios-1\">  Acessórios   </a><ul class=\"w-250\"></ul></li><li><a href=\"/categoria/flash\">  Flash   </a><ul class=\"w-250\"></ul></li><li><a href=\"/categoria/led\">  LED   </a><ul class=\"w-250\"></ul></li><li><a href=\"/categoria/radio-flash\">  Rádio Flash   </a><ul class=\"w-250\"></ul></li><li><a href=\"/categoria/rebatedores\">  Rebatedores   </a><ul class=\"w-250\"></ul></li><li><a href=\"/categoria/softbox\">  Softbox   </a><ul class=\"w-250\"></ul></li></ul></li><li><a href=\"/categoria/lentes\">  Lentes    <i class=\"zm-caret zmdi zmdi-chevron-right\"></i> </a><ul class=\"w-250\"><li><a href=\"/categoria/canon\">  Canon   </a><ul class=\"w-250\"></ul></li><li><a href=\"/categoria/filtros\">  filtros   </a><ul class=\"w-250\"></ul></li><li><a href=\"/categoria/nikon\">  Nikon   </a><ul class=\"w-250\"></ul></li><li><a href=\"/categoria/rokinon\">  Rokinon   </a><ul class=\"w-250\"></ul></li><li><a href=\"/categoria/sigma\">  Sigma   </a><ul class=\"w-250\"></ul></li></ul></li><li><a href=\"/categoria/cameras-digitais\">  Câmeras Digitais    <i class=\"zm-caret zmdi zmdi-chevron-right\"></i> </a><ul class=\"w-250\"><li><a href=\"/categoria/acessorios\">  Acessórios   </a><ul class=\"w-250\"></ul></li><li><a href=\"/categoria/profissional\">  profissional   </a><ul class=\"w-250\"></ul></li><li><a href=\"/categoria/semi-profissional\">  Semi-profissional   </a><ul class=\"w-250\"></ul></li></ul></li><li><a href=\"/categoria/filmadoras\">  Filmadoras   </a><ul class=\"w-250\"></ul></li><li><a href=\"/categoria/tripes-profissionais\">  Tripés Profissionais    <i class=\"zm-caret zmdi zmdi-chevron-right\"></i> </a><ul class=\"w-250\"><li><a href=\"/categoria/monopes\">  Monopés   </a><ul class=\"w-250\"></ul></li></ul></li><li><a href=\"/categoria/maletas-e-mochilas\">  Maletas e Mochilas   </a><ul class=\"w-250\"></ul></li><li><a href=\"/categoria/blackmagic\">  Blackmagic   </a><ul class=\"w-250\"></ul></li><li><a href=\"/categoria/audio-profissional\">  Áudio Profissional    <i class=\"zm-caret zmdi zmdi-chevron-right\"></i> </a><ul class=\"w-250\"><li><a href=\"/categoria/fones\">  Fones   </a><ul class=\"w-250\"></ul></li><li><a href=\"/categoria/gravadores\">  Gravadores   </a><ul class=\"w-250\"></ul></li><li><a href=\"/categoria/microfones\">  Microfones   </a><ul class=\"w-250\"></ul></li></ul></li><li><a href=\"/categoria/video\">  Vídeo    <i class=\"zm-caret zmdi zmdi-chevron-right\"></i> </a><ul class=\"w-250\"><li><a href=\"/categoria/mixer\">  Mixer   </a><ul class=\"w-250\"></ul></li><li><a href=\"/categoria/monitores\">  Monitores   </a><ul class=\"w-250\"></ul></li></ul></li><li><a href=\"/categoria/midias-e-memorias\">  Mídias e Memórias   </a><ul class=\"w-250\"></ul></li><li><a href=\"/categoria/gopro-e-acessorios\">  GoPro e Acessórios   </a><ul class=\"w-250\"></ul></li><li><a href=\"/categoria/estabilizadores-e-suportes\">  Estabilizadores e Suportes   </a><ul class=\"w-250\"></ul></li><li><a href=\"/categoria/eletronicos\">  Eletrônicos   </a><ul class=\"w-250\"></ul></li><li><a href=\"/categoria/baterias-e-carregadores\">  Baterias e Carregadores   </a><ul class=\"w-250\"></ul></li><li><a href=\"/categoria/placa-de-captura\">  Placa de Captura   </a><ul class=\"w-250\"></ul></li><li><a href=\"/categoria/pedal\">  Pedal   </a><ul class=\"w-250\"></ul></li></ul></li><li><a href=\"/categoria/led\">  LED  </a></li><li><a href=\"/categoria/blackmagic\">  Blackmagic  </a></li><li><a href=\"/categoria/audio-profissional\">  Áudio Profissional  </a></li><li><a href=\"/categoria/video\">  Vídeo  </a></li> </ul></div></div>,\n",
       " <div class=\"col-12\"><ul class=\"coffe-menu zm-full-width\"><li><a href=\"#\"><i class=\"zmdi zmdi-menu\"></i>Categorias</a><ul class=\"w-250\"><li><a href=\"/categoria/iluminacao\">  Iluminação    <i class=\"zm-caret zmdi zmdi-chevron-right\"></i> </a><ul class=\"w-250\"><li><a href=\"/categoria/acessorios-1\">  Acessórios   </a><ul class=\"w-250\"></ul></li><li><a href=\"/categoria/flash\">  Flash   </a><ul class=\"w-250\"></ul></li><li><a href=\"/categoria/led\">  LED   </a><ul class=\"w-250\"></ul></li><li><a href=\"/categoria/radio-flash\">  Rádio Flash   </a><ul class=\"w-250\"></ul></li><li><a href=\"/categoria/rebatedores\">  Rebatedores   </a><ul class=\"w-250\"></ul></li><li><a href=\"/categoria/softbox\">  Softbox   </a><ul class=\"w-250\"></ul></li></ul></li><li><a href=\"/categoria/lentes\">  Lentes    <i class=\"zm-caret zmdi zmdi-chevron-right\"></i> </a><ul class=\"w-250\"><li><a href=\"/categoria/canon\">  Canon   </a><ul class=\"w-250\"></ul></li><li><a href=\"/categoria/filtros\">  filtros   </a><ul class=\"w-250\"></ul></li><li><a href=\"/categoria/nikon\">  Nikon   </a><ul class=\"w-250\"></ul></li><li><a href=\"/categoria/rokinon\">  Rokinon   </a><ul class=\"w-250\"></ul></li><li><a href=\"/categoria/sigma\">  Sigma   </a><ul class=\"w-250\"></ul></li></ul></li><li><a href=\"/categoria/cameras-digitais\">  Câmeras Digitais    <i class=\"zm-caret zmdi zmdi-chevron-right\"></i> </a><ul class=\"w-250\"><li><a href=\"/categoria/acessorios\">  Acessórios   </a><ul class=\"w-250\"></ul></li><li><a href=\"/categoria/profissional\">  profissional   </a><ul class=\"w-250\"></ul></li><li><a href=\"/categoria/semi-profissional\">  Semi-profissional   </a><ul class=\"w-250\"></ul></li></ul></li><li><a href=\"/categoria/filmadoras\">  Filmadoras   </a><ul class=\"w-250\"></ul></li><li><a href=\"/categoria/tripes-profissionais\">  Tripés Profissionais    <i class=\"zm-caret zmdi zmdi-chevron-right\"></i> </a><ul class=\"w-250\"><li><a href=\"/categoria/monopes\">  Monopés   </a><ul class=\"w-250\"></ul></li></ul></li><li><a href=\"/categoria/maletas-e-mochilas\">  Maletas e Mochilas   </a><ul class=\"w-250\"></ul></li><li><a href=\"/categoria/blackmagic\">  Blackmagic   </a><ul class=\"w-250\"></ul></li><li><a href=\"/categoria/audio-profissional\">  Áudio Profissional    <i class=\"zm-caret zmdi zmdi-chevron-right\"></i> </a><ul class=\"w-250\"><li><a href=\"/categoria/fones\">  Fones   </a><ul class=\"w-250\"></ul></li><li><a href=\"/categoria/gravadores\">  Gravadores   </a><ul class=\"w-250\"></ul></li><li><a href=\"/categoria/microfones\">  Microfones   </a><ul class=\"w-250\"></ul></li></ul></li><li><a href=\"/categoria/video\">  Vídeo    <i class=\"zm-caret zmdi zmdi-chevron-right\"></i> </a><ul class=\"w-250\"><li><a href=\"/categoria/mixer\">  Mixer   </a><ul class=\"w-250\"></ul></li><li><a href=\"/categoria/monitores\">  Monitores   </a><ul class=\"w-250\"></ul></li></ul></li><li><a href=\"/categoria/midias-e-memorias\">  Mídias e Memórias   </a><ul class=\"w-250\"></ul></li><li><a href=\"/categoria/gopro-e-acessorios\">  GoPro e Acessórios   </a><ul class=\"w-250\"></ul></li><li><a href=\"/categoria/estabilizadores-e-suportes\">  Estabilizadores e Suportes   </a><ul class=\"w-250\"></ul></li><li><a href=\"/categoria/eletronicos\">  Eletrônicos   </a><ul class=\"w-250\"></ul></li><li><a href=\"/categoria/baterias-e-carregadores\">  Baterias e Carregadores   </a><ul class=\"w-250\"></ul></li><li><a href=\"/categoria/placa-de-captura\">  Placa de Captura   </a><ul class=\"w-250\"></ul></li><li><a href=\"/categoria/pedal\">  Pedal   </a><ul class=\"w-250\"></ul></li></ul></li><li><a href=\"/categoria/led\">  LED  </a></li><li><a href=\"/categoria/blackmagic\">  Blackmagic  </a></li><li><a href=\"/categoria/audio-profissional\">  Áudio Profissional  </a></li><li><a href=\"/categoria/video\">  Vídeo  </a></li> </ul></div>,\n",
       " <div class=\"row\"><div class=\"col-12\"><div class=\"where\"><ul><li>Usted esta en: </li><li><a href=\"/categoria/iluminacao\">  Iluminação  </a></li><li><a href=\"/categoria/acessorios-1\">  Acessórios  </a></li></ul></div></div><div class=\"col-12 col-sm-12 col-md-12 col-lg-6 col-xl-6 mb-5 images\"><div class=\"row\"><div class=\"col-12\"><div class=\"main\"> <a data-fancybox=\"images\" href=\"https://cdn.prodigital.com.py/upload/product/80798/grid-nanlite-ec-ptii6c-p-pavo-tube-6c.jpg\"><img class=\"lazyload img-fluid\" data-original=\"https://cdn.prodigital.com.py/upload/product/80798/grid-nanlite-ec-ptii6c-p-pavo-tube-6c.jpg\" src=\"/assets/img/loading.gif\"/> </a></div></div></div><div class=\"row mt-3\"></div></div><div class=\"col-12 col-sm-12 col-md-12 col-lg-6 col-xl-6 detail\"><div class=\"row\"><div class=\"col-12 mt-4 mb-2\"><ul class=\"tags\"> </ul></div><div class=\"col-12\"><h1>Grid Nanlite EC-PTII6C Para Pavo Tube 6C</h1></div><div class=\"col-12 mt-5\"><div class=\"row\"><div class=\"col-12 col-lg-6 col-xl-6 mb-3\"><div class=\"code\">Código: <span>80798</span></div><div class=\"reference\">Referencia: <span> </span></div></div><div class=\"col-12 col-lg-6 col-xl-6 brand\"></div></div></div><div class=\"col-12 mt-5\"><div class=\"row\"> <div class=\"col-6\"> <div class=\"price convert\"><span class=\"currency convert-currency\">U$</span> <span class=\"convert-price\">18.00</span></div> </div></div></div></div></div></div>,\n",
       " <div class=\"col-12\"><div class=\"where\"><ul><li>Usted esta en: </li><li><a href=\"/categoria/iluminacao\">  Iluminação  </a></li><li><a href=\"/categoria/acessorios-1\">  Acessórios  </a></li></ul></div></div>,\n",
       " <div class=\"where\"><ul><li>Usted esta en: </li><li><a href=\"/categoria/iluminacao\">  Iluminação  </a></li><li><a href=\"/categoria/acessorios-1\">  Acessórios  </a></li></ul></div>,\n",
       " <div class=\"col-12 col-sm-12 col-md-12 col-lg-6 col-xl-6 mb-5 images\"><div class=\"row\"><div class=\"col-12\"><div class=\"main\"> <a data-fancybox=\"images\" href=\"https://cdn.prodigital.com.py/upload/product/80798/grid-nanlite-ec-ptii6c-p-pavo-tube-6c.jpg\"><img class=\"lazyload img-fluid\" data-original=\"https://cdn.prodigital.com.py/upload/product/80798/grid-nanlite-ec-ptii6c-p-pavo-tube-6c.jpg\" src=\"/assets/img/loading.gif\"/> </a></div></div></div><div class=\"row mt-3\"></div></div>,\n",
       " <div class=\"row\"><div class=\"col-12\"><div class=\"main\"> <a data-fancybox=\"images\" href=\"https://cdn.prodigital.com.py/upload/product/80798/grid-nanlite-ec-ptii6c-p-pavo-tube-6c.jpg\"><img class=\"lazyload img-fluid\" data-original=\"https://cdn.prodigital.com.py/upload/product/80798/grid-nanlite-ec-ptii6c-p-pavo-tube-6c.jpg\" src=\"/assets/img/loading.gif\"/> </a></div></div></div>,\n",
       " <div class=\"col-12\"><div class=\"main\"> <a data-fancybox=\"images\" href=\"https://cdn.prodigital.com.py/upload/product/80798/grid-nanlite-ec-ptii6c-p-pavo-tube-6c.jpg\"><img class=\"lazyload img-fluid\" data-original=\"https://cdn.prodigital.com.py/upload/product/80798/grid-nanlite-ec-ptii6c-p-pavo-tube-6c.jpg\" src=\"/assets/img/loading.gif\"/> </a></div></div>,\n",
       " <div class=\"main\"> <a data-fancybox=\"images\" href=\"https://cdn.prodigital.com.py/upload/product/80798/grid-nanlite-ec-ptii6c-p-pavo-tube-6c.jpg\"><img class=\"lazyload img-fluid\" data-original=\"https://cdn.prodigital.com.py/upload/product/80798/grid-nanlite-ec-ptii6c-p-pavo-tube-6c.jpg\" src=\"/assets/img/loading.gif\"/> </a></div>,\n",
       " <div class=\"row mt-3\"></div>,\n",
       " <div class=\"col-12 col-sm-12 col-md-12 col-lg-6 col-xl-6 detail\"><div class=\"row\"><div class=\"col-12 mt-4 mb-2\"><ul class=\"tags\"> </ul></div><div class=\"col-12\"><h1>Grid Nanlite EC-PTII6C Para Pavo Tube 6C</h1></div><div class=\"col-12 mt-5\"><div class=\"row\"><div class=\"col-12 col-lg-6 col-xl-6 mb-3\"><div class=\"code\">Código: <span>80798</span></div><div class=\"reference\">Referencia: <span> </span></div></div><div class=\"col-12 col-lg-6 col-xl-6 brand\"></div></div></div><div class=\"col-12 mt-5\"><div class=\"row\"> <div class=\"col-6\"> <div class=\"price convert\"><span class=\"currency convert-currency\">U$</span> <span class=\"convert-price\">18.00</span></div> </div></div></div></div></div>,\n",
       " <div class=\"row\"><div class=\"col-12 mt-4 mb-2\"><ul class=\"tags\"> </ul></div><div class=\"col-12\"><h1>Grid Nanlite EC-PTII6C Para Pavo Tube 6C</h1></div><div class=\"col-12 mt-5\"><div class=\"row\"><div class=\"col-12 col-lg-6 col-xl-6 mb-3\"><div class=\"code\">Código: <span>80798</span></div><div class=\"reference\">Referencia: <span> </span></div></div><div class=\"col-12 col-lg-6 col-xl-6 brand\"></div></div></div><div class=\"col-12 mt-5\"><div class=\"row\"> <div class=\"col-6\"> <div class=\"price convert\"><span class=\"currency convert-currency\">U$</span> <span class=\"convert-price\">18.00</span></div> </div></div></div></div>,\n",
       " <div class=\"col-12 mt-4 mb-2\"><ul class=\"tags\"> </ul></div>,\n",
       " <div class=\"col-12\"><h1>Grid Nanlite EC-PTII6C Para Pavo Tube 6C</h1></div>,\n",
       " <div class=\"col-12 mt-5\"><div class=\"row\"><div class=\"col-12 col-lg-6 col-xl-6 mb-3\"><div class=\"code\">Código: <span>80798</span></div><div class=\"reference\">Referencia: <span> </span></div></div><div class=\"col-12 col-lg-6 col-xl-6 brand\"></div></div></div>,\n",
       " <div class=\"row\"><div class=\"col-12 col-lg-6 col-xl-6 mb-3\"><div class=\"code\">Código: <span>80798</span></div><div class=\"reference\">Referencia: <span> </span></div></div><div class=\"col-12 col-lg-6 col-xl-6 brand\"></div></div>,\n",
       " <div class=\"col-12 col-lg-6 col-xl-6 mb-3\"><div class=\"code\">Código: <span>80798</span></div><div class=\"reference\">Referencia: <span> </span></div></div>,\n",
       " <div class=\"code\">Código: <span>80798</span></div>,\n",
       " <div class=\"reference\">Referencia: <span> </span></div>,\n",
       " <div class=\"col-12 col-lg-6 col-xl-6 brand\"></div>,\n",
       " <div class=\"col-12 mt-5\"><div class=\"row\"> <div class=\"col-6\"> <div class=\"price convert\"><span class=\"currency convert-currency\">U$</span> <span class=\"convert-price\">18.00</span></div> </div></div></div>,\n",
       " <div class=\"row\"> <div class=\"col-6\"> <div class=\"price convert\"><span class=\"currency convert-currency\">U$</span> <span class=\"convert-price\">18.00</span></div> </div></div>,\n",
       " <div class=\"col-6\"> <div class=\"price convert\"><span class=\"currency convert-currency\">U$</span> <span class=\"convert-price\">18.00</span></div> </div>,\n",
       " <div class=\"price convert\"><span class=\"currency convert-currency\">U$</span> <span class=\"convert-price\">18.00</span></div>,\n",
       " <div class=\"row\"><div class=\"col-12 mt-5 mb-5 title\"><h1>Vea También</h1><div class=\"product-related-prev\"><i class=\"zmdi zmdi-chevron-left\"></i></div><div class=\"product-related-next\"><i class=\"zmdi zmdi-chevron-right\"></i></div></div></div>,\n",
       " <div class=\"col-12 mt-5 mb-5 title\"><h1>Vea También</h1><div class=\"product-related-prev\"><i class=\"zmdi zmdi-chevron-left\"></i></div><div class=\"product-related-next\"><i class=\"zmdi zmdi-chevron-right\"></i></div></div>,\n",
       " <div class=\"product-related-prev\"><i class=\"zmdi zmdi-chevron-left\"></i></div>,\n",
       " <div class=\"product-related-next\"><i class=\"zmdi zmdi-chevron-right\"></i></div>,\n",
       " <div class=\"row mb-5\"><div class=\"col-12\"><div class=\"swiper-container\"><div class=\"swiper-wrapper\"> <div class=\"swiper-slide\"><div class=\"product-card\"><a href=\"/produto/bateria-digital-en-el23-cartela\"><figure> <img class=\"img-fluid\" src=\"https://cdn.prodigital.com.py/upload/product/13208/13208-thumbnail.jpg\" style=\"filter: grayscale(100%) opacity(0.4)\"/> </figure></a><footer><span class=\"code\">Código: 13208</span><h1> BATERIA DIGITAL EN-EL23 CARTELA </h1><div class=\"unavailable\">Indisponible</div></footer></div></div> <div class=\"swiper-slide\"><div class=\"product-card\"><a href=\"/produto/lampada-halogena-tube-800ws-rdg-800-220v\"><figure> <img class=\"img-fluid\" src=\"https://cdn.prodigital.com.py/upload/product/33763/m-lampada-halogena-tube-800w-rdg-800-220v.jpg\"/> </figure></a><footer><span class=\"code\">Código: 33763</span><h1>  Lâmpada Halogena Tube 800WS RDG-800 220V </h1> <div class=\"price\"><span class=\"currency\">U$</span> 10,00</div> </footer></div></div> <div class=\"swiper-slide\"><div class=\"product-card\"><a href=\"/produto/rebatedor-7x1-120x180cm\"><figure> <img class=\"img-fluid\" src=\"https://cdn.prodigital.com.py/upload/product/3766/m-rebatedor-7x1-120x180cm.jpg\" style=\"filter: grayscale(100%) opacity(0.4)\"/> </figure></a><footer><span class=\"code\">Código: 3766</span><h1> Rebatedor 7X1 120X180cm </h1><div class=\"unavailable\">Indisponible</div></footer></div></div> <div class=\"swiper-slide\"><div class=\"product-card\"><a href=\"/produto/kit-de-acessorios-bt-para-visico-2-com-10-pecas\"><figure> <img class=\"img-fluid\" src=\"https://cdn.prodigital.com.py/upload/product/75053/m-kit-acessorios-p-visico-2-com-10pcs.jpg\" style=\"filter: grayscale(100%) opacity(0.4)\"/> </figure></a><footer><span class=\"code\">Código: 75053</span><h1> Kit de Acessórios BT para Visico 2 com 10 Peças </h1><div class=\"unavailable\">Indisponible</div></footer></div></div> <div class=\"swiper-slide\"><div class=\"product-card\"><a href=\"/produto/lampada-fluorescente-e27-135w-5500k-110v\"><figure> <img class=\"img-fluid\" src=\"https://cdn.prodigital.com.py/upload/product/72809/m-lampada-fluorescente-135w-5500k-110v.png\" style=\"filter: grayscale(100%) opacity(0.4)\"/> </figure></a><footer><span class=\"code\">Código: 72809</span><h1> Lâmpada Fluorescente E27 135W 5500K 110V </h1><div class=\"unavailable\">Indisponible</div></footer></div></div> <div class=\"swiper-slide\"><div class=\"product-card\"><a href=\"/produto/bateria-digital-dmw-blf19e-p-panasonic\"><figure> <img class=\"img-fluid\" src=\"https://cdn.prodigital.com.py/upload/product/41911/m-bateria-digital-dmw-blf19e.jpg\" style=\"filter: grayscale(100%) opacity(0.4)\"/> </figure></a><footer><span class=\"code\">Código: 41911</span><h1> Bateria Digital DMW-BLF19E p/ Panasonic </h1><div class=\"unavailable\">Indisponible</div></footer></div></div> <div class=\"swiper-slide\"><div class=\"product-card\"><a href=\"/produto/lampada-para-fresnel-1000w-220v-para-sp-1000\"><figure> <img class=\"img-fluid\" src=\"https://cdn.prodigital.com.py/upload/product/25591/m-lampada-p-fresnel-1000w-220v-p-sp-1000.jpg\"/> </figure></a><footer><span class=\"code\">Código: 25591</span><h1>  Lâmpada para Fresnel 1000w 220v para SP-1000 </h1> <div class=\"price\"><span class=\"currency\">U$</span> 20,00</div> </footer></div></div> <div class=\"swiper-slide\"><div class=\"product-card\"><a href=\"/produto/cage-smallrig-3384b-all-in-one-video-kit\"><figure> <img class=\"img-fluid\" src=\"https://cdn.prodigital.com.py/upload/product/93446/m-cage-smallrig-3384b-all-in-one-video-kit.jpg\"/> </figure></a><footer><span class=\"code\">Código: 93446</span><h1> Cage Smallrig 3384B All in One Video Kit </h1> <div class=\"price\"><span class=\"currency\">U$</span> 210,00</div> </footer></div></div> <div class=\"swiper-slide\"><div class=\"product-card\"><a href=\"/produto/bandeira-kit-bd04\"><figure> <img class=\"img-fluid\" src=\"https://cdn.prodigital.com.py/upload/product/32070/m-bandeira-kit-bd04.jpg\"/> </figure></a><footer><span class=\"code\">Código: 32070</span><h1>  Bandeira Kit BD04 </h1> <div class=\"price\"><span class=\"currency\">U$</span> 30,00</div> </footer></div></div> <div class=\"swiper-slide\"><div class=\"product-card\"><a href=\"/produto/spotlight-mount-aputure-com-lente-26-graus\"><figure> <img class=\"img-fluid\" src=\"https://cdn.prodigital.com.py/upload/product/71390/m-spotlight-aputure-c-lente-26-graus.png\" style=\"filter: grayscale(100%) opacity(0.4)\"/> </figure></a><footer><span class=\"code\">Código: 71390</span><h1> Spotlight Mount Aputure com Lente 26 Graus </h1><div class=\"unavailable\">Indisponible</div></footer></div></div> <div class=\"swiper-slide\"><div class=\"product-card\"><a href=\"/produto/bateria-bp-u65-14-8v-4400mah\"><figure> <img class=\"img-fluid\" src=\"https://cdn.prodigital.com.py/upload/product/5036/5036-thumbnail.jpg\" style=\"filter: grayscale(100%) opacity(0.4)\"/> </figure></a><footer><span class=\"code\">Código: 5036</span><h1> BATERIA BP-U65 14.8V 4400MAH </h1><div class=\"unavailable\">Indisponible</div></footer></div></div> <div class=\"swiper-slide\"><div class=\"product-card\"><a href=\"/produto/lampada-godox-a45s-ac-slave-220v\"><figure> <img class=\"img-fluid\" src=\"https://cdn.prodigital.com.py/upload/product/4466/4466-thumbnail.jpg\"/> </figure></a><footer><span class=\"code\">Código: 4466</span><h1> Lâmpada Godox A45S AC Slave 220v </h1> <div class=\"price\"><span class=\"currency\">U$</span> 17,00</div> </footer></div></div> <div class=\"swiper-slide\"><div class=\"product-card\"><a href=\"/produto/neewer-st-wm60-suporte-parede-teto-flash\"><figure> <img class=\"img-fluid\" src=\"https://cdn.prodigital.com.py/upload/product/92951/m-neewer-st-wm60-suporte-parede-teto-flash.jpg\"/> </figure></a><footer><span class=\"code\">Código: 92951</span><h1> Neewer ST-WM60 Suporte Parede/Teto - Flash </h1> <div class=\"price\"><span class=\"currency\">U$</span> 30,00</div> </footer></div></div> <div class=\"swiper-slide\"><div class=\"product-card\"><a href=\"/produto/softbox-godox-p-flash-sb2030\"><figure> <img class=\"img-fluid\" src=\"https://cdn.prodigital.com.py/upload/product/3575/3575-thumbnail.jpg\"/> </figure></a><footer><span class=\"code\">Código: 3575</span><h1> SOFTBOX GODOX P/FLASH SB2030 </h1> <div class=\"price\"><span class=\"currency\">U$</span> 12,00</div> </footer></div></div> <div class=\"swiper-slide\"><div class=\"product-card\"><a href=\"/produto/snoot-long-sn-08\"><figure> <img class=\"img-fluid\" src=\"https://cdn.prodigital.com.py/upload/product/8808/m-snoot-longo-sn-08.jpg\" style=\"filter: grayscale(100%) opacity(0.4)\"/> </figure></a><footer><span class=\"code\">Código: 8808</span><h1> Snoot Long SN-08 </h1><div class=\"unavailable\">Indisponible</div></footer></div></div> <div class=\"swiper-slide\"><div class=\"product-card\"><a href=\"/produto/maleta-para-tripe-1-25m-bs-04\"><figure> <img class=\"img-fluid\" src=\"https://cdn.prodigital.com.py/upload/product/35927/35927-thumbnail.jpg\" style=\"filter: grayscale(100%) opacity(0.4)\"/> </figure></a><footer><span class=\"code\">Código: 35927</span><h1> Maleta Para Tripé 1.25M BS-04 </h1><div class=\"unavailable\">Indisponible</div></footer></div></div> </div></div></div></div>,\n",
       " <div class=\"col-12\"><div class=\"swiper-container\"><div class=\"swiper-wrapper\"> <div class=\"swiper-slide\"><div class=\"product-card\"><a href=\"/produto/bateria-digital-en-el23-cartela\"><figure> <img class=\"img-fluid\" src=\"https://cdn.prodigital.com.py/upload/product/13208/13208-thumbnail.jpg\" style=\"filter: grayscale(100%) opacity(0.4)\"/> </figure></a><footer><span class=\"code\">Código: 13208</span><h1> BATERIA DIGITAL EN-EL23 CARTELA </h1><div class=\"unavailable\">Indisponible</div></footer></div></div> <div class=\"swiper-slide\"><div class=\"product-card\"><a href=\"/produto/lampada-halogena-tube-800ws-rdg-800-220v\"><figure> <img class=\"img-fluid\" src=\"https://cdn.prodigital.com.py/upload/product/33763/m-lampada-halogena-tube-800w-rdg-800-220v.jpg\"/> </figure></a><footer><span class=\"code\">Código: 33763</span><h1>  Lâmpada Halogena Tube 800WS RDG-800 220V </h1> <div class=\"price\"><span class=\"currency\">U$</span> 10,00</div> </footer></div></div> <div class=\"swiper-slide\"><div class=\"product-card\"><a href=\"/produto/rebatedor-7x1-120x180cm\"><figure> <img class=\"img-fluid\" src=\"https://cdn.prodigital.com.py/upload/product/3766/m-rebatedor-7x1-120x180cm.jpg\" style=\"filter: grayscale(100%) opacity(0.4)\"/> </figure></a><footer><span class=\"code\">Código: 3766</span><h1> Rebatedor 7X1 120X180cm </h1><div class=\"unavailable\">Indisponible</div></footer></div></div> <div class=\"swiper-slide\"><div class=\"product-card\"><a href=\"/produto/kit-de-acessorios-bt-para-visico-2-com-10-pecas\"><figure> <img class=\"img-fluid\" src=\"https://cdn.prodigital.com.py/upload/product/75053/m-kit-acessorios-p-visico-2-com-10pcs.jpg\" style=\"filter: grayscale(100%) opacity(0.4)\"/> </figure></a><footer><span class=\"code\">Código: 75053</span><h1> Kit de Acessórios BT para Visico 2 com 10 Peças </h1><div class=\"unavailable\">Indisponible</div></footer></div></div> <div class=\"swiper-slide\"><div class=\"product-card\"><a href=\"/produto/lampada-fluorescente-e27-135w-5500k-110v\"><figure> <img class=\"img-fluid\" src=\"https://cdn.prodigital.com.py/upload/product/72809/m-lampada-fluorescente-135w-5500k-110v.png\" style=\"filter: grayscale(100%) opacity(0.4)\"/> </figure></a><footer><span class=\"code\">Código: 72809</span><h1> Lâmpada Fluorescente E27 135W 5500K 110V </h1><div class=\"unavailable\">Indisponible</div></footer></div></div> <div class=\"swiper-slide\"><div class=\"product-card\"><a href=\"/produto/bateria-digital-dmw-blf19e-p-panasonic\"><figure> <img class=\"img-fluid\" src=\"https://cdn.prodigital.com.py/upload/product/41911/m-bateria-digital-dmw-blf19e.jpg\" style=\"filter: grayscale(100%) opacity(0.4)\"/> </figure></a><footer><span class=\"code\">Código: 41911</span><h1> Bateria Digital DMW-BLF19E p/ Panasonic </h1><div class=\"unavailable\">Indisponible</div></footer></div></div> <div class=\"swiper-slide\"><div class=\"product-card\"><a href=\"/produto/lampada-para-fresnel-1000w-220v-para-sp-1000\"><figure> <img class=\"img-fluid\" src=\"https://cdn.prodigital.com.py/upload/product/25591/m-lampada-p-fresnel-1000w-220v-p-sp-1000.jpg\"/> </figure></a><footer><span class=\"code\">Código: 25591</span><h1>  Lâmpada para Fresnel 1000w 220v para SP-1000 </h1> <div class=\"price\"><span class=\"currency\">U$</span> 20,00</div> </footer></div></div> <div class=\"swiper-slide\"><div class=\"product-card\"><a href=\"/produto/cage-smallrig-3384b-all-in-one-video-kit\"><figure> <img class=\"img-fluid\" src=\"https://cdn.prodigital.com.py/upload/product/93446/m-cage-smallrig-3384b-all-in-one-video-kit.jpg\"/> </figure></a><footer><span class=\"code\">Código: 93446</span><h1> Cage Smallrig 3384B All in One Video Kit </h1> <div class=\"price\"><span class=\"currency\">U$</span> 210,00</div> </footer></div></div> <div class=\"swiper-slide\"><div class=\"product-card\"><a href=\"/produto/bandeira-kit-bd04\"><figure> <img class=\"img-fluid\" src=\"https://cdn.prodigital.com.py/upload/product/32070/m-bandeira-kit-bd04.jpg\"/> </figure></a><footer><span class=\"code\">Código: 32070</span><h1>  Bandeira Kit BD04 </h1> <div class=\"price\"><span class=\"currency\">U$</span> 30,00</div> </footer></div></div> <div class=\"swiper-slide\"><div class=\"product-card\"><a href=\"/produto/spotlight-mount-aputure-com-lente-26-graus\"><figure> <img class=\"img-fluid\" src=\"https://cdn.prodigital.com.py/upload/product/71390/m-spotlight-aputure-c-lente-26-graus.png\" style=\"filter: grayscale(100%) opacity(0.4)\"/> </figure></a><footer><span class=\"code\">Código: 71390</span><h1> Spotlight Mount Aputure com Lente 26 Graus </h1><div class=\"unavailable\">Indisponible</div></footer></div></div> <div class=\"swiper-slide\"><div class=\"product-card\"><a href=\"/produto/bateria-bp-u65-14-8v-4400mah\"><figure> <img class=\"img-fluid\" src=\"https://cdn.prodigital.com.py/upload/product/5036/5036-thumbnail.jpg\" style=\"filter: grayscale(100%) opacity(0.4)\"/> </figure></a><footer><span class=\"code\">Código: 5036</span><h1> BATERIA BP-U65 14.8V 4400MAH </h1><div class=\"unavailable\">Indisponible</div></footer></div></div> <div class=\"swiper-slide\"><div class=\"product-card\"><a href=\"/produto/lampada-godox-a45s-ac-slave-220v\"><figure> <img class=\"img-fluid\" src=\"https://cdn.prodigital.com.py/upload/product/4466/4466-thumbnail.jpg\"/> </figure></a><footer><span class=\"code\">Código: 4466</span><h1> Lâmpada Godox A45S AC Slave 220v </h1> <div class=\"price\"><span class=\"currency\">U$</span> 17,00</div> </footer></div></div> <div class=\"swiper-slide\"><div class=\"product-card\"><a href=\"/produto/neewer-st-wm60-suporte-parede-teto-flash\"><figure> <img class=\"img-fluid\" src=\"https://cdn.prodigital.com.py/upload/product/92951/m-neewer-st-wm60-suporte-parede-teto-flash.jpg\"/> </figure></a><footer><span class=\"code\">Código: 92951</span><h1> Neewer ST-WM60 Suporte Parede/Teto - Flash </h1> <div class=\"price\"><span class=\"currency\">U$</span> 30,00</div> </footer></div></div> <div class=\"swiper-slide\"><div class=\"product-card\"><a href=\"/produto/softbox-godox-p-flash-sb2030\"><figure> <img class=\"img-fluid\" src=\"https://cdn.prodigital.com.py/upload/product/3575/3575-thumbnail.jpg\"/> </figure></a><footer><span class=\"code\">Código: 3575</span><h1> SOFTBOX GODOX P/FLASH SB2030 </h1> <div class=\"price\"><span class=\"currency\">U$</span> 12,00</div> </footer></div></div> <div class=\"swiper-slide\"><div class=\"product-card\"><a href=\"/produto/snoot-long-sn-08\"><figure> <img class=\"img-fluid\" src=\"https://cdn.prodigital.com.py/upload/product/8808/m-snoot-longo-sn-08.jpg\" style=\"filter: grayscale(100%) opacity(0.4)\"/> </figure></a><footer><span class=\"code\">Código: 8808</span><h1> Snoot Long SN-08 </h1><div class=\"unavailable\">Indisponible</div></footer></div></div> <div class=\"swiper-slide\"><div class=\"product-card\"><a href=\"/produto/maleta-para-tripe-1-25m-bs-04\"><figure> <img class=\"img-fluid\" src=\"https://cdn.prodigital.com.py/upload/product/35927/35927-thumbnail.jpg\" style=\"filter: grayscale(100%) opacity(0.4)\"/> </figure></a><footer><span class=\"code\">Código: 35927</span><h1> Maleta Para Tripé 1.25M BS-04 </h1><div class=\"unavailable\">Indisponible</div></footer></div></div> </div></div></div>,\n",
       " <div class=\"swiper-container\"><div class=\"swiper-wrapper\"> <div class=\"swiper-slide\"><div class=\"product-card\"><a href=\"/produto/bateria-digital-en-el23-cartela\"><figure> <img class=\"img-fluid\" src=\"https://cdn.prodigital.com.py/upload/product/13208/13208-thumbnail.jpg\" style=\"filter: grayscale(100%) opacity(0.4)\"/> </figure></a><footer><span class=\"code\">Código: 13208</span><h1> BATERIA DIGITAL EN-EL23 CARTELA </h1><div class=\"unavailable\">Indisponible</div></footer></div></div> <div class=\"swiper-slide\"><div class=\"product-card\"><a href=\"/produto/lampada-halogena-tube-800ws-rdg-800-220v\"><figure> <img class=\"img-fluid\" src=\"https://cdn.prodigital.com.py/upload/product/33763/m-lampada-halogena-tube-800w-rdg-800-220v.jpg\"/> </figure></a><footer><span class=\"code\">Código: 33763</span><h1>  Lâmpada Halogena Tube 800WS RDG-800 220V </h1> <div class=\"price\"><span class=\"currency\">U$</span> 10,00</div> </footer></div></div> <div class=\"swiper-slide\"><div class=\"product-card\"><a href=\"/produto/rebatedor-7x1-120x180cm\"><figure> <img class=\"img-fluid\" src=\"https://cdn.prodigital.com.py/upload/product/3766/m-rebatedor-7x1-120x180cm.jpg\" style=\"filter: grayscale(100%) opacity(0.4)\"/> </figure></a><footer><span class=\"code\">Código: 3766</span><h1> Rebatedor 7X1 120X180cm </h1><div class=\"unavailable\">Indisponible</div></footer></div></div> <div class=\"swiper-slide\"><div class=\"product-card\"><a href=\"/produto/kit-de-acessorios-bt-para-visico-2-com-10-pecas\"><figure> <img class=\"img-fluid\" src=\"https://cdn.prodigital.com.py/upload/product/75053/m-kit-acessorios-p-visico-2-com-10pcs.jpg\" style=\"filter: grayscale(100%) opacity(0.4)\"/> </figure></a><footer><span class=\"code\">Código: 75053</span><h1> Kit de Acessórios BT para Visico 2 com 10 Peças </h1><div class=\"unavailable\">Indisponible</div></footer></div></div> <div class=\"swiper-slide\"><div class=\"product-card\"><a href=\"/produto/lampada-fluorescente-e27-135w-5500k-110v\"><figure> <img class=\"img-fluid\" src=\"https://cdn.prodigital.com.py/upload/product/72809/m-lampada-fluorescente-135w-5500k-110v.png\" style=\"filter: grayscale(100%) opacity(0.4)\"/> </figure></a><footer><span class=\"code\">Código: 72809</span><h1> Lâmpada Fluorescente E27 135W 5500K 110V </h1><div class=\"unavailable\">Indisponible</div></footer></div></div> <div class=\"swiper-slide\"><div class=\"product-card\"><a href=\"/produto/bateria-digital-dmw-blf19e-p-panasonic\"><figure> <img class=\"img-fluid\" src=\"https://cdn.prodigital.com.py/upload/product/41911/m-bateria-digital-dmw-blf19e.jpg\" style=\"filter: grayscale(100%) opacity(0.4)\"/> </figure></a><footer><span class=\"code\">Código: 41911</span><h1> Bateria Digital DMW-BLF19E p/ Panasonic </h1><div class=\"unavailable\">Indisponible</div></footer></div></div> <div class=\"swiper-slide\"><div class=\"product-card\"><a href=\"/produto/lampada-para-fresnel-1000w-220v-para-sp-1000\"><figure> <img class=\"img-fluid\" src=\"https://cdn.prodigital.com.py/upload/product/25591/m-lampada-p-fresnel-1000w-220v-p-sp-1000.jpg\"/> </figure></a><footer><span class=\"code\">Código: 25591</span><h1>  Lâmpada para Fresnel 1000w 220v para SP-1000 </h1> <div class=\"price\"><span class=\"currency\">U$</span> 20,00</div> </footer></div></div> <div class=\"swiper-slide\"><div class=\"product-card\"><a href=\"/produto/cage-smallrig-3384b-all-in-one-video-kit\"><figure> <img class=\"img-fluid\" src=\"https://cdn.prodigital.com.py/upload/product/93446/m-cage-smallrig-3384b-all-in-one-video-kit.jpg\"/> </figure></a><footer><span class=\"code\">Código: 93446</span><h1> Cage Smallrig 3384B All in One Video Kit </h1> <div class=\"price\"><span class=\"currency\">U$</span> 210,00</div> </footer></div></div> <div class=\"swiper-slide\"><div class=\"product-card\"><a href=\"/produto/bandeira-kit-bd04\"><figure> <img class=\"img-fluid\" src=\"https://cdn.prodigital.com.py/upload/product/32070/m-bandeira-kit-bd04.jpg\"/> </figure></a><footer><span class=\"code\">Código: 32070</span><h1>  Bandeira Kit BD04 </h1> <div class=\"price\"><span class=\"currency\">U$</span> 30,00</div> </footer></div></div> <div class=\"swiper-slide\"><div class=\"product-card\"><a href=\"/produto/spotlight-mount-aputure-com-lente-26-graus\"><figure> <img class=\"img-fluid\" src=\"https://cdn.prodigital.com.py/upload/product/71390/m-spotlight-aputure-c-lente-26-graus.png\" style=\"filter: grayscale(100%) opacity(0.4)\"/> </figure></a><footer><span class=\"code\">Código: 71390</span><h1> Spotlight Mount Aputure com Lente 26 Graus </h1><div class=\"unavailable\">Indisponible</div></footer></div></div> <div class=\"swiper-slide\"><div class=\"product-card\"><a href=\"/produto/bateria-bp-u65-14-8v-4400mah\"><figure> <img class=\"img-fluid\" src=\"https://cdn.prodigital.com.py/upload/product/5036/5036-thumbnail.jpg\" style=\"filter: grayscale(100%) opacity(0.4)\"/> </figure></a><footer><span class=\"code\">Código: 5036</span><h1> BATERIA BP-U65 14.8V 4400MAH </h1><div class=\"unavailable\">Indisponible</div></footer></div></div> <div class=\"swiper-slide\"><div class=\"product-card\"><a href=\"/produto/lampada-godox-a45s-ac-slave-220v\"><figure> <img class=\"img-fluid\" src=\"https://cdn.prodigital.com.py/upload/product/4466/4466-thumbnail.jpg\"/> </figure></a><footer><span class=\"code\">Código: 4466</span><h1> Lâmpada Godox A45S AC Slave 220v </h1> <div class=\"price\"><span class=\"currency\">U$</span> 17,00</div> </footer></div></div> <div class=\"swiper-slide\"><div class=\"product-card\"><a href=\"/produto/neewer-st-wm60-suporte-parede-teto-flash\"><figure> <img class=\"img-fluid\" src=\"https://cdn.prodigital.com.py/upload/product/92951/m-neewer-st-wm60-suporte-parede-teto-flash.jpg\"/> </figure></a><footer><span class=\"code\">Código: 92951</span><h1> Neewer ST-WM60 Suporte Parede/Teto - Flash </h1> <div class=\"price\"><span class=\"currency\">U$</span> 30,00</div> </footer></div></div> <div class=\"swiper-slide\"><div class=\"product-card\"><a href=\"/produto/softbox-godox-p-flash-sb2030\"><figure> <img class=\"img-fluid\" src=\"https://cdn.prodigital.com.py/upload/product/3575/3575-thumbnail.jpg\"/> </figure></a><footer><span class=\"code\">Código: 3575</span><h1> SOFTBOX GODOX P/FLASH SB2030 </h1> <div class=\"price\"><span class=\"currency\">U$</span> 12,00</div> </footer></div></div> <div class=\"swiper-slide\"><div class=\"product-card\"><a href=\"/produto/snoot-long-sn-08\"><figure> <img class=\"img-fluid\" src=\"https://cdn.prodigital.com.py/upload/product/8808/m-snoot-longo-sn-08.jpg\" style=\"filter: grayscale(100%) opacity(0.4)\"/> </figure></a><footer><span class=\"code\">Código: 8808</span><h1> Snoot Long SN-08 </h1><div class=\"unavailable\">Indisponible</div></footer></div></div> <div class=\"swiper-slide\"><div class=\"product-card\"><a href=\"/produto/maleta-para-tripe-1-25m-bs-04\"><figure> <img class=\"img-fluid\" src=\"https://cdn.prodigital.com.py/upload/product/35927/35927-thumbnail.jpg\" style=\"filter: grayscale(100%) opacity(0.4)\"/> </figure></a><footer><span class=\"code\">Código: 35927</span><h1> Maleta Para Tripé 1.25M BS-04 </h1><div class=\"unavailable\">Indisponible</div></footer></div></div> </div></div>,\n",
       " <div class=\"swiper-wrapper\"> <div class=\"swiper-slide\"><div class=\"product-card\"><a href=\"/produto/bateria-digital-en-el23-cartela\"><figure> <img class=\"img-fluid\" src=\"https://cdn.prodigital.com.py/upload/product/13208/13208-thumbnail.jpg\" style=\"filter: grayscale(100%) opacity(0.4)\"/> </figure></a><footer><span class=\"code\">Código: 13208</span><h1> BATERIA DIGITAL EN-EL23 CARTELA </h1><div class=\"unavailable\">Indisponible</div></footer></div></div> <div class=\"swiper-slide\"><div class=\"product-card\"><a href=\"/produto/lampada-halogena-tube-800ws-rdg-800-220v\"><figure> <img class=\"img-fluid\" src=\"https://cdn.prodigital.com.py/upload/product/33763/m-lampada-halogena-tube-800w-rdg-800-220v.jpg\"/> </figure></a><footer><span class=\"code\">Código: 33763</span><h1>  Lâmpada Halogena Tube 800WS RDG-800 220V </h1> <div class=\"price\"><span class=\"currency\">U$</span> 10,00</div> </footer></div></div> <div class=\"swiper-slide\"><div class=\"product-card\"><a href=\"/produto/rebatedor-7x1-120x180cm\"><figure> <img class=\"img-fluid\" src=\"https://cdn.prodigital.com.py/upload/product/3766/m-rebatedor-7x1-120x180cm.jpg\" style=\"filter: grayscale(100%) opacity(0.4)\"/> </figure></a><footer><span class=\"code\">Código: 3766</span><h1> Rebatedor 7X1 120X180cm </h1><div class=\"unavailable\">Indisponible</div></footer></div></div> <div class=\"swiper-slide\"><div class=\"product-card\"><a href=\"/produto/kit-de-acessorios-bt-para-visico-2-com-10-pecas\"><figure> <img class=\"img-fluid\" src=\"https://cdn.prodigital.com.py/upload/product/75053/m-kit-acessorios-p-visico-2-com-10pcs.jpg\" style=\"filter: grayscale(100%) opacity(0.4)\"/> </figure></a><footer><span class=\"code\">Código: 75053</span><h1> Kit de Acessórios BT para Visico 2 com 10 Peças </h1><div class=\"unavailable\">Indisponible</div></footer></div></div> <div class=\"swiper-slide\"><div class=\"product-card\"><a href=\"/produto/lampada-fluorescente-e27-135w-5500k-110v\"><figure> <img class=\"img-fluid\" src=\"https://cdn.prodigital.com.py/upload/product/72809/m-lampada-fluorescente-135w-5500k-110v.png\" style=\"filter: grayscale(100%) opacity(0.4)\"/> </figure></a><footer><span class=\"code\">Código: 72809</span><h1> Lâmpada Fluorescente E27 135W 5500K 110V </h1><div class=\"unavailable\">Indisponible</div></footer></div></div> <div class=\"swiper-slide\"><div class=\"product-card\"><a href=\"/produto/bateria-digital-dmw-blf19e-p-panasonic\"><figure> <img class=\"img-fluid\" src=\"https://cdn.prodigital.com.py/upload/product/41911/m-bateria-digital-dmw-blf19e.jpg\" style=\"filter: grayscale(100%) opacity(0.4)\"/> </figure></a><footer><span class=\"code\">Código: 41911</span><h1> Bateria Digital DMW-BLF19E p/ Panasonic </h1><div class=\"unavailable\">Indisponible</div></footer></div></div> <div class=\"swiper-slide\"><div class=\"product-card\"><a href=\"/produto/lampada-para-fresnel-1000w-220v-para-sp-1000\"><figure> <img class=\"img-fluid\" src=\"https://cdn.prodigital.com.py/upload/product/25591/m-lampada-p-fresnel-1000w-220v-p-sp-1000.jpg\"/> </figure></a><footer><span class=\"code\">Código: 25591</span><h1>  Lâmpada para Fresnel 1000w 220v para SP-1000 </h1> <div class=\"price\"><span class=\"currency\">U$</span> 20,00</div> </footer></div></div> <div class=\"swiper-slide\"><div class=\"product-card\"><a href=\"/produto/cage-smallrig-3384b-all-in-one-video-kit\"><figure> <img class=\"img-fluid\" src=\"https://cdn.prodigital.com.py/upload/product/93446/m-cage-smallrig-3384b-all-in-one-video-kit.jpg\"/> </figure></a><footer><span class=\"code\">Código: 93446</span><h1> Cage Smallrig 3384B All in One Video Kit </h1> <div class=\"price\"><span class=\"currency\">U$</span> 210,00</div> </footer></div></div> <div class=\"swiper-slide\"><div class=\"product-card\"><a href=\"/produto/bandeira-kit-bd04\"><figure> <img class=\"img-fluid\" src=\"https://cdn.prodigital.com.py/upload/product/32070/m-bandeira-kit-bd04.jpg\"/> </figure></a><footer><span class=\"code\">Código: 32070</span><h1>  Bandeira Kit BD04 </h1> <div class=\"price\"><span class=\"currency\">U$</span> 30,00</div> </footer></div></div> <div class=\"swiper-slide\"><div class=\"product-card\"><a href=\"/produto/spotlight-mount-aputure-com-lente-26-graus\"><figure> <img class=\"img-fluid\" src=\"https://cdn.prodigital.com.py/upload/product/71390/m-spotlight-aputure-c-lente-26-graus.png\" style=\"filter: grayscale(100%) opacity(0.4)\"/> </figure></a><footer><span class=\"code\">Código: 71390</span><h1> Spotlight Mount Aputure com Lente 26 Graus </h1><div class=\"unavailable\">Indisponible</div></footer></div></div> <div class=\"swiper-slide\"><div class=\"product-card\"><a href=\"/produto/bateria-bp-u65-14-8v-4400mah\"><figure> <img class=\"img-fluid\" src=\"https://cdn.prodigital.com.py/upload/product/5036/5036-thumbnail.jpg\" style=\"filter: grayscale(100%) opacity(0.4)\"/> </figure></a><footer><span class=\"code\">Código: 5036</span><h1> BATERIA BP-U65 14.8V 4400MAH </h1><div class=\"unavailable\">Indisponible</div></footer></div></div> <div class=\"swiper-slide\"><div class=\"product-card\"><a href=\"/produto/lampada-godox-a45s-ac-slave-220v\"><figure> <img class=\"img-fluid\" src=\"https://cdn.prodigital.com.py/upload/product/4466/4466-thumbnail.jpg\"/> </figure></a><footer><span class=\"code\">Código: 4466</span><h1> Lâmpada Godox A45S AC Slave 220v </h1> <div class=\"price\"><span class=\"currency\">U$</span> 17,00</div> </footer></div></div> <div class=\"swiper-slide\"><div class=\"product-card\"><a href=\"/produto/neewer-st-wm60-suporte-parede-teto-flash\"><figure> <img class=\"img-fluid\" src=\"https://cdn.prodigital.com.py/upload/product/92951/m-neewer-st-wm60-suporte-parede-teto-flash.jpg\"/> </figure></a><footer><span class=\"code\">Código: 92951</span><h1> Neewer ST-WM60 Suporte Parede/Teto - Flash </h1> <div class=\"price\"><span class=\"currency\">U$</span> 30,00</div> </footer></div></div> <div class=\"swiper-slide\"><div class=\"product-card\"><a href=\"/produto/softbox-godox-p-flash-sb2030\"><figure> <img class=\"img-fluid\" src=\"https://cdn.prodigital.com.py/upload/product/3575/3575-thumbnail.jpg\"/> </figure></a><footer><span class=\"code\">Código: 3575</span><h1> SOFTBOX GODOX P/FLASH SB2030 </h1> <div class=\"price\"><span class=\"currency\">U$</span> 12,00</div> </footer></div></div> <div class=\"swiper-slide\"><div class=\"product-card\"><a href=\"/produto/snoot-long-sn-08\"><figure> <img class=\"img-fluid\" src=\"https://cdn.prodigital.com.py/upload/product/8808/m-snoot-longo-sn-08.jpg\" style=\"filter: grayscale(100%) opacity(0.4)\"/> </figure></a><footer><span class=\"code\">Código: 8808</span><h1> Snoot Long SN-08 </h1><div class=\"unavailable\">Indisponible</div></footer></div></div> <div class=\"swiper-slide\"><div class=\"product-card\"><a href=\"/produto/maleta-para-tripe-1-25m-bs-04\"><figure> <img class=\"img-fluid\" src=\"https://cdn.prodigital.com.py/upload/product/35927/35927-thumbnail.jpg\" style=\"filter: grayscale(100%) opacity(0.4)\"/> </figure></a><footer><span class=\"code\">Código: 35927</span><h1> Maleta Para Tripé 1.25M BS-04 </h1><div class=\"unavailable\">Indisponible</div></footer></div></div> </div>,\n",
       " <div class=\"swiper-slide\"><div class=\"product-card\"><a href=\"/produto/bateria-digital-en-el23-cartela\"><figure> <img class=\"img-fluid\" src=\"https://cdn.prodigital.com.py/upload/product/13208/13208-thumbnail.jpg\" style=\"filter: grayscale(100%) opacity(0.4)\"/> </figure></a><footer><span class=\"code\">Código: 13208</span><h1> BATERIA DIGITAL EN-EL23 CARTELA </h1><div class=\"unavailable\">Indisponible</div></footer></div></div>,\n",
       " <div class=\"product-card\"><a href=\"/produto/bateria-digital-en-el23-cartela\"><figure> <img class=\"img-fluid\" src=\"https://cdn.prodigital.com.py/upload/product/13208/13208-thumbnail.jpg\" style=\"filter: grayscale(100%) opacity(0.4)\"/> </figure></a><footer><span class=\"code\">Código: 13208</span><h1> BATERIA DIGITAL EN-EL23 CARTELA </h1><div class=\"unavailable\">Indisponible</div></footer></div>,\n",
       " <div class=\"unavailable\">Indisponible</div>,\n",
       " <div class=\"swiper-slide\"><div class=\"product-card\"><a href=\"/produto/lampada-halogena-tube-800ws-rdg-800-220v\"><figure> <img class=\"img-fluid\" src=\"https://cdn.prodigital.com.py/upload/product/33763/m-lampada-halogena-tube-800w-rdg-800-220v.jpg\"/> </figure></a><footer><span class=\"code\">Código: 33763</span><h1>  Lâmpada Halogena Tube 800WS RDG-800 220V </h1> <div class=\"price\"><span class=\"currency\">U$</span> 10,00</div> </footer></div></div>,\n",
       " <div class=\"product-card\"><a href=\"/produto/lampada-halogena-tube-800ws-rdg-800-220v\"><figure> <img class=\"img-fluid\" src=\"https://cdn.prodigital.com.py/upload/product/33763/m-lampada-halogena-tube-800w-rdg-800-220v.jpg\"/> </figure></a><footer><span class=\"code\">Código: 33763</span><h1>  Lâmpada Halogena Tube 800WS RDG-800 220V </h1> <div class=\"price\"><span class=\"currency\">U$</span> 10,00</div> </footer></div>,\n",
       " <div class=\"price\"><span class=\"currency\">U$</span> 10,00</div>,\n",
       " <div class=\"swiper-slide\"><div class=\"product-card\"><a href=\"/produto/rebatedor-7x1-120x180cm\"><figure> <img class=\"img-fluid\" src=\"https://cdn.prodigital.com.py/upload/product/3766/m-rebatedor-7x1-120x180cm.jpg\" style=\"filter: grayscale(100%) opacity(0.4)\"/> </figure></a><footer><span class=\"code\">Código: 3766</span><h1> Rebatedor 7X1 120X180cm </h1><div class=\"unavailable\">Indisponible</div></footer></div></div>,\n",
       " <div class=\"product-card\"><a href=\"/produto/rebatedor-7x1-120x180cm\"><figure> <img class=\"img-fluid\" src=\"https://cdn.prodigital.com.py/upload/product/3766/m-rebatedor-7x1-120x180cm.jpg\" style=\"filter: grayscale(100%) opacity(0.4)\"/> </figure></a><footer><span class=\"code\">Código: 3766</span><h1> Rebatedor 7X1 120X180cm </h1><div class=\"unavailable\">Indisponible</div></footer></div>,\n",
       " <div class=\"unavailable\">Indisponible</div>,\n",
       " <div class=\"swiper-slide\"><div class=\"product-card\"><a href=\"/produto/kit-de-acessorios-bt-para-visico-2-com-10-pecas\"><figure> <img class=\"img-fluid\" src=\"https://cdn.prodigital.com.py/upload/product/75053/m-kit-acessorios-p-visico-2-com-10pcs.jpg\" style=\"filter: grayscale(100%) opacity(0.4)\"/> </figure></a><footer><span class=\"code\">Código: 75053</span><h1> Kit de Acessórios BT para Visico 2 com 10 Peças </h1><div class=\"unavailable\">Indisponible</div></footer></div></div>,\n",
       " <div class=\"product-card\"><a href=\"/produto/kit-de-acessorios-bt-para-visico-2-com-10-pecas\"><figure> <img class=\"img-fluid\" src=\"https://cdn.prodigital.com.py/upload/product/75053/m-kit-acessorios-p-visico-2-com-10pcs.jpg\" style=\"filter: grayscale(100%) opacity(0.4)\"/> </figure></a><footer><span class=\"code\">Código: 75053</span><h1> Kit de Acessórios BT para Visico 2 com 10 Peças </h1><div class=\"unavailable\">Indisponible</div></footer></div>,\n",
       " <div class=\"unavailable\">Indisponible</div>,\n",
       " <div class=\"swiper-slide\"><div class=\"product-card\"><a href=\"/produto/lampada-fluorescente-e27-135w-5500k-110v\"><figure> <img class=\"img-fluid\" src=\"https://cdn.prodigital.com.py/upload/product/72809/m-lampada-fluorescente-135w-5500k-110v.png\" style=\"filter: grayscale(100%) opacity(0.4)\"/> </figure></a><footer><span class=\"code\">Código: 72809</span><h1> Lâmpada Fluorescente E27 135W 5500K 110V </h1><div class=\"unavailable\">Indisponible</div></footer></div></div>,\n",
       " <div class=\"product-card\"><a href=\"/produto/lampada-fluorescente-e27-135w-5500k-110v\"><figure> <img class=\"img-fluid\" src=\"https://cdn.prodigital.com.py/upload/product/72809/m-lampada-fluorescente-135w-5500k-110v.png\" style=\"filter: grayscale(100%) opacity(0.4)\"/> </figure></a><footer><span class=\"code\">Código: 72809</span><h1> Lâmpada Fluorescente E27 135W 5500K 110V </h1><div class=\"unavailable\">Indisponible</div></footer></div>,\n",
       " <div class=\"unavailable\">Indisponible</div>,\n",
       " <div class=\"swiper-slide\"><div class=\"product-card\"><a href=\"/produto/bateria-digital-dmw-blf19e-p-panasonic\"><figure> <img class=\"img-fluid\" src=\"https://cdn.prodigital.com.py/upload/product/41911/m-bateria-digital-dmw-blf19e.jpg\" style=\"filter: grayscale(100%) opacity(0.4)\"/> </figure></a><footer><span class=\"code\">Código: 41911</span><h1> Bateria Digital DMW-BLF19E p/ Panasonic </h1><div class=\"unavailable\">Indisponible</div></footer></div></div>,\n",
       " <div class=\"product-card\"><a href=\"/produto/bateria-digital-dmw-blf19e-p-panasonic\"><figure> <img class=\"img-fluid\" src=\"https://cdn.prodigital.com.py/upload/product/41911/m-bateria-digital-dmw-blf19e.jpg\" style=\"filter: grayscale(100%) opacity(0.4)\"/> </figure></a><footer><span class=\"code\">Código: 41911</span><h1> Bateria Digital DMW-BLF19E p/ Panasonic </h1><div class=\"unavailable\">Indisponible</div></footer></div>,\n",
       " <div class=\"unavailable\">Indisponible</div>,\n",
       " <div class=\"swiper-slide\"><div class=\"product-card\"><a href=\"/produto/lampada-para-fresnel-1000w-220v-para-sp-1000\"><figure> <img class=\"img-fluid\" src=\"https://cdn.prodigital.com.py/upload/product/25591/m-lampada-p-fresnel-1000w-220v-p-sp-1000.jpg\"/> </figure></a><footer><span class=\"code\">Código: 25591</span><h1>  Lâmpada para Fresnel 1000w 220v para SP-1000 </h1> <div class=\"price\"><span class=\"currency\">U$</span> 20,00</div> </footer></div></div>,\n",
       " <div class=\"product-card\"><a href=\"/produto/lampada-para-fresnel-1000w-220v-para-sp-1000\"><figure> <img class=\"img-fluid\" src=\"https://cdn.prodigital.com.py/upload/product/25591/m-lampada-p-fresnel-1000w-220v-p-sp-1000.jpg\"/> </figure></a><footer><span class=\"code\">Código: 25591</span><h1>  Lâmpada para Fresnel 1000w 220v para SP-1000 </h1> <div class=\"price\"><span class=\"currency\">U$</span> 20,00</div> </footer></div>,\n",
       " <div class=\"price\"><span class=\"currency\">U$</span> 20,00</div>,\n",
       " <div class=\"swiper-slide\"><div class=\"product-card\"><a href=\"/produto/cage-smallrig-3384b-all-in-one-video-kit\"><figure> <img class=\"img-fluid\" src=\"https://cdn.prodigital.com.py/upload/product/93446/m-cage-smallrig-3384b-all-in-one-video-kit.jpg\"/> </figure></a><footer><span class=\"code\">Código: 93446</span><h1> Cage Smallrig 3384B All in One Video Kit </h1> <div class=\"price\"><span class=\"currency\">U$</span> 210,00</div> </footer></div></div>,\n",
       " <div class=\"product-card\"><a href=\"/produto/cage-smallrig-3384b-all-in-one-video-kit\"><figure> <img class=\"img-fluid\" src=\"https://cdn.prodigital.com.py/upload/product/93446/m-cage-smallrig-3384b-all-in-one-video-kit.jpg\"/> </figure></a><footer><span class=\"code\">Código: 93446</span><h1> Cage Smallrig 3384B All in One Video Kit </h1> <div class=\"price\"><span class=\"currency\">U$</span> 210,00</div> </footer></div>,\n",
       " <div class=\"price\"><span class=\"currency\">U$</span> 210,00</div>,\n",
       " <div class=\"swiper-slide\"><div class=\"product-card\"><a href=\"/produto/bandeira-kit-bd04\"><figure> <img class=\"img-fluid\" src=\"https://cdn.prodigital.com.py/upload/product/32070/m-bandeira-kit-bd04.jpg\"/> </figure></a><footer><span class=\"code\">Código: 32070</span><h1>  Bandeira Kit BD04 </h1> <div class=\"price\"><span class=\"currency\">U$</span> 30,00</div> </footer></div></div>,\n",
       " <div class=\"product-card\"><a href=\"/produto/bandeira-kit-bd04\"><figure> <img class=\"img-fluid\" src=\"https://cdn.prodigital.com.py/upload/product/32070/m-bandeira-kit-bd04.jpg\"/> </figure></a><footer><span class=\"code\">Código: 32070</span><h1>  Bandeira Kit BD04 </h1> <div class=\"price\"><span class=\"currency\">U$</span> 30,00</div> </footer></div>,\n",
       " <div class=\"price\"><span class=\"currency\">U$</span> 30,00</div>,\n",
       " <div class=\"swiper-slide\"><div class=\"product-card\"><a href=\"/produto/spotlight-mount-aputure-com-lente-26-graus\"><figure> <img class=\"img-fluid\" src=\"https://cdn.prodigital.com.py/upload/product/71390/m-spotlight-aputure-c-lente-26-graus.png\" style=\"filter: grayscale(100%) opacity(0.4)\"/> </figure></a><footer><span class=\"code\">Código: 71390</span><h1> Spotlight Mount Aputure com Lente 26 Graus </h1><div class=\"unavailable\">Indisponible</div></footer></div></div>,\n",
       " <div class=\"product-card\"><a href=\"/produto/spotlight-mount-aputure-com-lente-26-graus\"><figure> <img class=\"img-fluid\" src=\"https://cdn.prodigital.com.py/upload/product/71390/m-spotlight-aputure-c-lente-26-graus.png\" style=\"filter: grayscale(100%) opacity(0.4)\"/> </figure></a><footer><span class=\"code\">Código: 71390</span><h1> Spotlight Mount Aputure com Lente 26 Graus </h1><div class=\"unavailable\">Indisponible</div></footer></div>,\n",
       " <div class=\"unavailable\">Indisponible</div>,\n",
       " <div class=\"swiper-slide\"><div class=\"product-card\"><a href=\"/produto/bateria-bp-u65-14-8v-4400mah\"><figure> <img class=\"img-fluid\" src=\"https://cdn.prodigital.com.py/upload/product/5036/5036-thumbnail.jpg\" style=\"filter: grayscale(100%) opacity(0.4)\"/> </figure></a><footer><span class=\"code\">Código: 5036</span><h1> BATERIA BP-U65 14.8V 4400MAH </h1><div class=\"unavailable\">Indisponible</div></footer></div></div>,\n",
       " <div class=\"product-card\"><a href=\"/produto/bateria-bp-u65-14-8v-4400mah\"><figure> <img class=\"img-fluid\" src=\"https://cdn.prodigital.com.py/upload/product/5036/5036-thumbnail.jpg\" style=\"filter: grayscale(100%) opacity(0.4)\"/> </figure></a><footer><span class=\"code\">Código: 5036</span><h1> BATERIA BP-U65 14.8V 4400MAH </h1><div class=\"unavailable\">Indisponible</div></footer></div>,\n",
       " <div class=\"unavailable\">Indisponible</div>,\n",
       " <div class=\"swiper-slide\"><div class=\"product-card\"><a href=\"/produto/lampada-godox-a45s-ac-slave-220v\"><figure> <img class=\"img-fluid\" src=\"https://cdn.prodigital.com.py/upload/product/4466/4466-thumbnail.jpg\"/> </figure></a><footer><span class=\"code\">Código: 4466</span><h1> Lâmpada Godox A45S AC Slave 220v </h1> <div class=\"price\"><span class=\"currency\">U$</span> 17,00</div> </footer></div></div>,\n",
       " <div class=\"product-card\"><a href=\"/produto/lampada-godox-a45s-ac-slave-220v\"><figure> <img class=\"img-fluid\" src=\"https://cdn.prodigital.com.py/upload/product/4466/4466-thumbnail.jpg\"/> </figure></a><footer><span class=\"code\">Código: 4466</span><h1> Lâmpada Godox A45S AC Slave 220v </h1> <div class=\"price\"><span class=\"currency\">U$</span> 17,00</div> </footer></div>,\n",
       " <div class=\"price\"><span class=\"currency\">U$</span> 17,00</div>,\n",
       " <div class=\"swiper-slide\"><div class=\"product-card\"><a href=\"/produto/neewer-st-wm60-suporte-parede-teto-flash\"><figure> <img class=\"img-fluid\" src=\"https://cdn.prodigital.com.py/upload/product/92951/m-neewer-st-wm60-suporte-parede-teto-flash.jpg\"/> </figure></a><footer><span class=\"code\">Código: 92951</span><h1> Neewer ST-WM60 Suporte Parede/Teto - Flash </h1> <div class=\"price\"><span class=\"currency\">U$</span> 30,00</div> </footer></div></div>,\n",
       " <div class=\"product-card\"><a href=\"/produto/neewer-st-wm60-suporte-parede-teto-flash\"><figure> <img class=\"img-fluid\" src=\"https://cdn.prodigital.com.py/upload/product/92951/m-neewer-st-wm60-suporte-parede-teto-flash.jpg\"/> </figure></a><footer><span class=\"code\">Código: 92951</span><h1> Neewer ST-WM60 Suporte Parede/Teto - Flash </h1> <div class=\"price\"><span class=\"currency\">U$</span> 30,00</div> </footer></div>,\n",
       " <div class=\"price\"><span class=\"currency\">U$</span> 30,00</div>,\n",
       " <div class=\"swiper-slide\"><div class=\"product-card\"><a href=\"/produto/softbox-godox-p-flash-sb2030\"><figure> <img class=\"img-fluid\" src=\"https://cdn.prodigital.com.py/upload/product/3575/3575-thumbnail.jpg\"/> </figure></a><footer><span class=\"code\">Código: 3575</span><h1> SOFTBOX GODOX P/FLASH SB2030 </h1> <div class=\"price\"><span class=\"currency\">U$</span> 12,00</div> </footer></div></div>,\n",
       " <div class=\"product-card\"><a href=\"/produto/softbox-godox-p-flash-sb2030\"><figure> <img class=\"img-fluid\" src=\"https://cdn.prodigital.com.py/upload/product/3575/3575-thumbnail.jpg\"/> </figure></a><footer><span class=\"code\">Código: 3575</span><h1> SOFTBOX GODOX P/FLASH SB2030 </h1> <div class=\"price\"><span class=\"currency\">U$</span> 12,00</div> </footer></div>,\n",
       " <div class=\"price\"><span class=\"currency\">U$</span> 12,00</div>,\n",
       " <div class=\"swiper-slide\"><div class=\"product-card\"><a href=\"/produto/snoot-long-sn-08\"><figure> <img class=\"img-fluid\" src=\"https://cdn.prodigital.com.py/upload/product/8808/m-snoot-longo-sn-08.jpg\" style=\"filter: grayscale(100%) opacity(0.4)\"/> </figure></a><footer><span class=\"code\">Código: 8808</span><h1> Snoot Long SN-08 </h1><div class=\"unavailable\">Indisponible</div></footer></div></div>,\n",
       " <div class=\"product-card\"><a href=\"/produto/snoot-long-sn-08\"><figure> <img class=\"img-fluid\" src=\"https://cdn.prodigital.com.py/upload/product/8808/m-snoot-longo-sn-08.jpg\" style=\"filter: grayscale(100%) opacity(0.4)\"/> </figure></a><footer><span class=\"code\">Código: 8808</span><h1> Snoot Long SN-08 </h1><div class=\"unavailable\">Indisponible</div></footer></div>,\n",
       " <div class=\"unavailable\">Indisponible</div>,\n",
       " <div class=\"swiper-slide\"><div class=\"product-card\"><a href=\"/produto/maleta-para-tripe-1-25m-bs-04\"><figure> <img class=\"img-fluid\" src=\"https://cdn.prodigital.com.py/upload/product/35927/35927-thumbnail.jpg\" style=\"filter: grayscale(100%) opacity(0.4)\"/> </figure></a><footer><span class=\"code\">Código: 35927</span><h1> Maleta Para Tripé 1.25M BS-04 </h1><div class=\"unavailable\">Indisponible</div></footer></div></div>,\n",
       " <div class=\"product-card\"><a href=\"/produto/maleta-para-tripe-1-25m-bs-04\"><figure> <img class=\"img-fluid\" src=\"https://cdn.prodigital.com.py/upload/product/35927/35927-thumbnail.jpg\" style=\"filter: grayscale(100%) opacity(0.4)\"/> </figure></a><footer><span class=\"code\">Código: 35927</span><h1> Maleta Para Tripé 1.25M BS-04 </h1><div class=\"unavailable\">Indisponible</div></footer></div>,\n",
       " <div class=\"unavailable\">Indisponible</div>,\n",
       " <div class=\"container\"><div class=\"row mb-5\"><div class=\"col-12 col-sm-12 col-md-12 col-lg-2 col-xl-2 mb-4\"><h1>Páginas</h1><ul><li><a href=\"/\">Página de Inicio</a> <a href=\"/marcas\">Marcas</a> <a href=\"/categorias\">Categorías</a> <a href=\"/lancamento\">Lanzamientos</a> <a href=\"/destaque\">Destacados</a> <a href=\"/promocao\">Promociones</a> <a href=\"/localizacao\">Ubicación</a></li></ul></div><div class=\"col-12 col-sm-12 col-md-12 col-lg-4 col-xl-4\"><div class=\"row\"><div class=\"col-12 col-sm-12 col-md-12 col-lg-6 col-xl-6 mb-4\"><h1>Categorías</h1><ul><li><a href=\"/categoria/led\">  LED  </a></li><li><a href=\"/categoria/blackmagic\">  Blackmagic  </a></li><li><a href=\"/categoria/audio-profissional\">  Áudio Profissional  </a></li><li><a href=\"/categoria/video\">  Vídeo  </a></li></ul></div><div class=\"col-12 col-sm-12 col-md-12 col-lg-6 col-xl-6 mb-4\"><h1>Marcas</h1><ul><li><a href=\"/marca/nikon\">NIKON</a></li><li><a href=\"/marca/gopro\">GOPRO</a></li><li><a href=\"/marca/sony\">SONY</a></li><li><a href=\"/marca/commlite\">COMMLITE</a></li><li><a href=\"/marca/fotodiox\">FOTODIOX</a></li><li><a href=\"/marca/panasonic\">PANASONIC</a></li><li><a href=\"/marca/nicefoto\">NICEFOTO</a></li><li><a href=\"/marca/canon\">CANON</a></li><li><a href=\"/marca/black-magic\">BLACKMAGIC</a></li><li><a href=\"/marca/manfrotto\">MANFROTTO</a></li></ul></div></div></div><div class=\"col-12 col-sm-12 col-md-12 col-lg-6 col-xl-6\"><h1 class=\"mb-4\">Hable con Nosotros</h1><div class=\"row\"><div class=\"col-6\"><div class=\"row\"><div class=\"col-12 mb-4\"><div class=\"seller-name mb-3\">Felipe Beserra</div><p><i class=\"zmdi zmdi-whatsapp\"></i><a class=\"wp\" href=\"https://api.whatsapp.com/send?phone=5545998297857&amp;text=Ol%C3%A1,%20estou%20entrando%20em%20contato%20diretamente%20pelo%20site%20https://www.prodigital.com.py.\" target=\"_blank\">+55 45 9 9829 7857</a></p><p><i class=\"zmdi zmdi-email\"></i> <a class=\"__cf_email__\" data-cfemail=\"73151611160016010112331c06071f1c1c185d101c1e\" href=\"/cdn-cgi/l/email-protection\">[email protected]</a></p></div><div class=\"col-12 mb-4\"><div class=\"seller-name mb-3\">Silvio</div><p><i class=\"zmdi zmdi-whatsapp\"></i> <a class=\"wp\" href=\"https://api.whatsapp.com/send?phone=5545999479681&amp;text=Ol%C3%A1,%20estou%20entrando%20em%20contato%20diretamente%20pelo%20site%20https://www.prodigital.com.py.\" target=\"_blank\">+55 45 9 9947 9681</a></p><p><i class=\"zmdi zmdi-skype\"></i> prodigital4</p><p><i class=\"zmdi zmdi-email\"></i> <a class=\"__cf_email__\" data-cfemail=\"46352f2a302f296b363429222f212f32272a062e29322b272f2a6825292b\" href=\"/cdn-cgi/l/email-protection\">[email protected]</a></p></div><div class=\"col-12\"><div class=\"seller-name mb-3\">Mirta</div><p><i class=\"zmdi zmdi-whatsapp\"></i> <a class=\"wp\" href=\"https://api.whatsapp.com/send?phone=595984261239&amp;text=Ol%C3%A1,%20estou%20entrando%20em%20contato%20diretamente%20pelo%20site%20https://www.prodigital.com.py.\" target=\"_blank\">+595 984 261 239</a></p><p><i class=\"zmdi zmdi-skype\"></i> mirta.ramirez</p><p><i class=\"zmdi zmdi-email\"></i> <a class=\"__cf_email__\" data-cfemail=\"e5889784888c97809fbad2a5898c9380cb868a88\" href=\"/cdn-cgi/l/email-protection\">[email protected]</a></p></div></div></div><div class=\"col-6\"><div class=\"row\"><div class=\"col-12 mb-4\"><div class=\"seller-name mb-3\">Youssef Awali</div><p><i class=\"zmdi zmdi-whatsapp\"></i><a class=\"wp\" href=\"https://api.whatsapp.com/send?phone=5545999099889&amp;text=Ol%C3%A1,%20estou%20entrando%20em%20contato%20diretamente%20pelo%20site%20https://www.prodigital.com.py.\" target=\"_blank\">+55 45 9909 9889</a></p></div><div class=\"col-12 mb-4\"><div class=\"seller-name mb-3\">Ali Awali</div><p><i class=\"zmdi zmdi-whatsapp\"></i> <a class=\"wp\" href=\"https://api.whatsapp.com/send?phone=5511990112733&amp;text=Ol%C3%A1,%20estou%20entrando%20em%20contato%20diretamente%20pelo%20site%20https://www.prodigital.com.py.\" target=\"_blank\">+55 11 9 9011 2733</a></p></div><div class=\"col-12\"><div class=\"seller-name mb-3\">Hassib Awali</div><p><i class=\"zmdi zmdi-whatsapp\"></i> <a class=\"wp\" href=\"https://api.whatsapp.com/send?phone=5545999190004&amp;text=Ol%C3%A1,%20estou%20entrando%20em%20contato%20diretamente%20pelo%20site%20https://www.prodigital.com.py.\" target=\"_blank\">+55 45 9 9919 0004</a></p></div></div></div></div><div class=\"row mt-5\"><div class=\"col-12\"><h1>Onde Estamos</h1><p>Shopping Jebai Center, 3º piso, sala 2211/2212 (Ao lado do Centro Motorola em frente ao Fortuna Câmbio e Casa Glória).</p></div></div><div class=\"row mt-5\"><div class=\"col-12\"><h1>Sobre Nosotros</h1><p>En el mercado desde hace 8 años, estamos especializados en equipos para fotografía y filmación profesional. Ven a conocer nuestra línea completa de cámaras y accesorios de las principales marcas del mercado.</p></div></div></div></div><div class=\"row\"><div class=\"col-12\"><div class=\"social\"><ul><li><a href=\"https://www.instagram.com/prodigitalpy\" target=\"_blank\"><i class=\"zmdi zmdi-instagram\"></i> <span>Instagram <strong>/prodigitalpy</strong></span></a></li><li><a href=\"https://www.facebook.com/prodigitalpy\" target=\"_blank\"><i class=\"zmdi zmdi-facebook-box\"></i> <span>Facebook <strong>/prodigitalpy</strong></span></a></li></ul></div></div></div></div>,\n",
       " <div class=\"row mb-5\"><div class=\"col-12 col-sm-12 col-md-12 col-lg-2 col-xl-2 mb-4\"><h1>Páginas</h1><ul><li><a href=\"/\">Página de Inicio</a> <a href=\"/marcas\">Marcas</a> <a href=\"/categorias\">Categorías</a> <a href=\"/lancamento\">Lanzamientos</a> <a href=\"/destaque\">Destacados</a> <a href=\"/promocao\">Promociones</a> <a href=\"/localizacao\">Ubicación</a></li></ul></div><div class=\"col-12 col-sm-12 col-md-12 col-lg-4 col-xl-4\"><div class=\"row\"><div class=\"col-12 col-sm-12 col-md-12 col-lg-6 col-xl-6 mb-4\"><h1>Categorías</h1><ul><li><a href=\"/categoria/led\">  LED  </a></li><li><a href=\"/categoria/blackmagic\">  Blackmagic  </a></li><li><a href=\"/categoria/audio-profissional\">  Áudio Profissional  </a></li><li><a href=\"/categoria/video\">  Vídeo  </a></li></ul></div><div class=\"col-12 col-sm-12 col-md-12 col-lg-6 col-xl-6 mb-4\"><h1>Marcas</h1><ul><li><a href=\"/marca/nikon\">NIKON</a></li><li><a href=\"/marca/gopro\">GOPRO</a></li><li><a href=\"/marca/sony\">SONY</a></li><li><a href=\"/marca/commlite\">COMMLITE</a></li><li><a href=\"/marca/fotodiox\">FOTODIOX</a></li><li><a href=\"/marca/panasonic\">PANASONIC</a></li><li><a href=\"/marca/nicefoto\">NICEFOTO</a></li><li><a href=\"/marca/canon\">CANON</a></li><li><a href=\"/marca/black-magic\">BLACKMAGIC</a></li><li><a href=\"/marca/manfrotto\">MANFROTTO</a></li></ul></div></div></div><div class=\"col-12 col-sm-12 col-md-12 col-lg-6 col-xl-6\"><h1 class=\"mb-4\">Hable con Nosotros</h1><div class=\"row\"><div class=\"col-6\"><div class=\"row\"><div class=\"col-12 mb-4\"><div class=\"seller-name mb-3\">Felipe Beserra</div><p><i class=\"zmdi zmdi-whatsapp\"></i><a class=\"wp\" href=\"https://api.whatsapp.com/send?phone=5545998297857&amp;text=Ol%C3%A1,%20estou%20entrando%20em%20contato%20diretamente%20pelo%20site%20https://www.prodigital.com.py.\" target=\"_blank\">+55 45 9 9829 7857</a></p><p><i class=\"zmdi zmdi-email\"></i> <a class=\"__cf_email__\" data-cfemail=\"73151611160016010112331c06071f1c1c185d101c1e\" href=\"/cdn-cgi/l/email-protection\">[email protected]</a></p></div><div class=\"col-12 mb-4\"><div class=\"seller-name mb-3\">Silvio</div><p><i class=\"zmdi zmdi-whatsapp\"></i> <a class=\"wp\" href=\"https://api.whatsapp.com/send?phone=5545999479681&amp;text=Ol%C3%A1,%20estou%20entrando%20em%20contato%20diretamente%20pelo%20site%20https://www.prodigital.com.py.\" target=\"_blank\">+55 45 9 9947 9681</a></p><p><i class=\"zmdi zmdi-skype\"></i> prodigital4</p><p><i class=\"zmdi zmdi-email\"></i> <a class=\"__cf_email__\" data-cfemail=\"46352f2a302f296b363429222f212f32272a062e29322b272f2a6825292b\" href=\"/cdn-cgi/l/email-protection\">[email protected]</a></p></div><div class=\"col-12\"><div class=\"seller-name mb-3\">Mirta</div><p><i class=\"zmdi zmdi-whatsapp\"></i> <a class=\"wp\" href=\"https://api.whatsapp.com/send?phone=595984261239&amp;text=Ol%C3%A1,%20estou%20entrando%20em%20contato%20diretamente%20pelo%20site%20https://www.prodigital.com.py.\" target=\"_blank\">+595 984 261 239</a></p><p><i class=\"zmdi zmdi-skype\"></i> mirta.ramirez</p><p><i class=\"zmdi zmdi-email\"></i> <a class=\"__cf_email__\" data-cfemail=\"e5889784888c97809fbad2a5898c9380cb868a88\" href=\"/cdn-cgi/l/email-protection\">[email protected]</a></p></div></div></div><div class=\"col-6\"><div class=\"row\"><div class=\"col-12 mb-4\"><div class=\"seller-name mb-3\">Youssef Awali</div><p><i class=\"zmdi zmdi-whatsapp\"></i><a class=\"wp\" href=\"https://api.whatsapp.com/send?phone=5545999099889&amp;text=Ol%C3%A1,%20estou%20entrando%20em%20contato%20diretamente%20pelo%20site%20https://www.prodigital.com.py.\" target=\"_blank\">+55 45 9909 9889</a></p></div><div class=\"col-12 mb-4\"><div class=\"seller-name mb-3\">Ali Awali</div><p><i class=\"zmdi zmdi-whatsapp\"></i> <a class=\"wp\" href=\"https://api.whatsapp.com/send?phone=5511990112733&amp;text=Ol%C3%A1,%20estou%20entrando%20em%20contato%20diretamente%20pelo%20site%20https://www.prodigital.com.py.\" target=\"_blank\">+55 11 9 9011 2733</a></p></div><div class=\"col-12\"><div class=\"seller-name mb-3\">Hassib Awali</div><p><i class=\"zmdi zmdi-whatsapp\"></i> <a class=\"wp\" href=\"https://api.whatsapp.com/send?phone=5545999190004&amp;text=Ol%C3%A1,%20estou%20entrando%20em%20contato%20diretamente%20pelo%20site%20https://www.prodigital.com.py.\" target=\"_blank\">+55 45 9 9919 0004</a></p></div></div></div></div><div class=\"row mt-5\"><div class=\"col-12\"><h1>Onde Estamos</h1><p>Shopping Jebai Center, 3º piso, sala 2211/2212 (Ao lado do Centro Motorola em frente ao Fortuna Câmbio e Casa Glória).</p></div></div><div class=\"row mt-5\"><div class=\"col-12\"><h1>Sobre Nosotros</h1><p>En el mercado desde hace 8 años, estamos especializados en equipos para fotografía y filmación profesional. Ven a conocer nuestra línea completa de cámaras y accesorios de las principales marcas del mercado.</p></div></div></div></div>,\n",
       " <div class=\"col-12 col-sm-12 col-md-12 col-lg-2 col-xl-2 mb-4\"><h1>Páginas</h1><ul><li><a href=\"/\">Página de Inicio</a> <a href=\"/marcas\">Marcas</a> <a href=\"/categorias\">Categorías</a> <a href=\"/lancamento\">Lanzamientos</a> <a href=\"/destaque\">Destacados</a> <a href=\"/promocao\">Promociones</a> <a href=\"/localizacao\">Ubicación</a></li></ul></div>,\n",
       " <div class=\"col-12 col-sm-12 col-md-12 col-lg-4 col-xl-4\"><div class=\"row\"><div class=\"col-12 col-sm-12 col-md-12 col-lg-6 col-xl-6 mb-4\"><h1>Categorías</h1><ul><li><a href=\"/categoria/led\">  LED  </a></li><li><a href=\"/categoria/blackmagic\">  Blackmagic  </a></li><li><a href=\"/categoria/audio-profissional\">  Áudio Profissional  </a></li><li><a href=\"/categoria/video\">  Vídeo  </a></li></ul></div><div class=\"col-12 col-sm-12 col-md-12 col-lg-6 col-xl-6 mb-4\"><h1>Marcas</h1><ul><li><a href=\"/marca/nikon\">NIKON</a></li><li><a href=\"/marca/gopro\">GOPRO</a></li><li><a href=\"/marca/sony\">SONY</a></li><li><a href=\"/marca/commlite\">COMMLITE</a></li><li><a href=\"/marca/fotodiox\">FOTODIOX</a></li><li><a href=\"/marca/panasonic\">PANASONIC</a></li><li><a href=\"/marca/nicefoto\">NICEFOTO</a></li><li><a href=\"/marca/canon\">CANON</a></li><li><a href=\"/marca/black-magic\">BLACKMAGIC</a></li><li><a href=\"/marca/manfrotto\">MANFROTTO</a></li></ul></div></div></div>,\n",
       " <div class=\"row\"><div class=\"col-12 col-sm-12 col-md-12 col-lg-6 col-xl-6 mb-4\"><h1>Categorías</h1><ul><li><a href=\"/categoria/led\">  LED  </a></li><li><a href=\"/categoria/blackmagic\">  Blackmagic  </a></li><li><a href=\"/categoria/audio-profissional\">  Áudio Profissional  </a></li><li><a href=\"/categoria/video\">  Vídeo  </a></li></ul></div><div class=\"col-12 col-sm-12 col-md-12 col-lg-6 col-xl-6 mb-4\"><h1>Marcas</h1><ul><li><a href=\"/marca/nikon\">NIKON</a></li><li><a href=\"/marca/gopro\">GOPRO</a></li><li><a href=\"/marca/sony\">SONY</a></li><li><a href=\"/marca/commlite\">COMMLITE</a></li><li><a href=\"/marca/fotodiox\">FOTODIOX</a></li><li><a href=\"/marca/panasonic\">PANASONIC</a></li><li><a href=\"/marca/nicefoto\">NICEFOTO</a></li><li><a href=\"/marca/canon\">CANON</a></li><li><a href=\"/marca/black-magic\">BLACKMAGIC</a></li><li><a href=\"/marca/manfrotto\">MANFROTTO</a></li></ul></div></div>,\n",
       " <div class=\"col-12 col-sm-12 col-md-12 col-lg-6 col-xl-6 mb-4\"><h1>Categorías</h1><ul><li><a href=\"/categoria/led\">  LED  </a></li><li><a href=\"/categoria/blackmagic\">  Blackmagic  </a></li><li><a href=\"/categoria/audio-profissional\">  Áudio Profissional  </a></li><li><a href=\"/categoria/video\">  Vídeo  </a></li></ul></div>,\n",
       " <div class=\"col-12 col-sm-12 col-md-12 col-lg-6 col-xl-6 mb-4\"><h1>Marcas</h1><ul><li><a href=\"/marca/nikon\">NIKON</a></li><li><a href=\"/marca/gopro\">GOPRO</a></li><li><a href=\"/marca/sony\">SONY</a></li><li><a href=\"/marca/commlite\">COMMLITE</a></li><li><a href=\"/marca/fotodiox\">FOTODIOX</a></li><li><a href=\"/marca/panasonic\">PANASONIC</a></li><li><a href=\"/marca/nicefoto\">NICEFOTO</a></li><li><a href=\"/marca/canon\">CANON</a></li><li><a href=\"/marca/black-magic\">BLACKMAGIC</a></li><li><a href=\"/marca/manfrotto\">MANFROTTO</a></li></ul></div>,\n",
       " <div class=\"col-12 col-sm-12 col-md-12 col-lg-6 col-xl-6\"><h1 class=\"mb-4\">Hable con Nosotros</h1><div class=\"row\"><div class=\"col-6\"><div class=\"row\"><div class=\"col-12 mb-4\"><div class=\"seller-name mb-3\">Felipe Beserra</div><p><i class=\"zmdi zmdi-whatsapp\"></i><a class=\"wp\" href=\"https://api.whatsapp.com/send?phone=5545998297857&amp;text=Ol%C3%A1,%20estou%20entrando%20em%20contato%20diretamente%20pelo%20site%20https://www.prodigital.com.py.\" target=\"_blank\">+55 45 9 9829 7857</a></p><p><i class=\"zmdi zmdi-email\"></i> <a class=\"__cf_email__\" data-cfemail=\"73151611160016010112331c06071f1c1c185d101c1e\" href=\"/cdn-cgi/l/email-protection\">[email protected]</a></p></div><div class=\"col-12 mb-4\"><div class=\"seller-name mb-3\">Silvio</div><p><i class=\"zmdi zmdi-whatsapp\"></i> <a class=\"wp\" href=\"https://api.whatsapp.com/send?phone=5545999479681&amp;text=Ol%C3%A1,%20estou%20entrando%20em%20contato%20diretamente%20pelo%20site%20https://www.prodigital.com.py.\" target=\"_blank\">+55 45 9 9947 9681</a></p><p><i class=\"zmdi zmdi-skype\"></i> prodigital4</p><p><i class=\"zmdi zmdi-email\"></i> <a class=\"__cf_email__\" data-cfemail=\"46352f2a302f296b363429222f212f32272a062e29322b272f2a6825292b\" href=\"/cdn-cgi/l/email-protection\">[email protected]</a></p></div><div class=\"col-12\"><div class=\"seller-name mb-3\">Mirta</div><p><i class=\"zmdi zmdi-whatsapp\"></i> <a class=\"wp\" href=\"https://api.whatsapp.com/send?phone=595984261239&amp;text=Ol%C3%A1,%20estou%20entrando%20em%20contato%20diretamente%20pelo%20site%20https://www.prodigital.com.py.\" target=\"_blank\">+595 984 261 239</a></p><p><i class=\"zmdi zmdi-skype\"></i> mirta.ramirez</p><p><i class=\"zmdi zmdi-email\"></i> <a class=\"__cf_email__\" data-cfemail=\"e5889784888c97809fbad2a5898c9380cb868a88\" href=\"/cdn-cgi/l/email-protection\">[email protected]</a></p></div></div></div><div class=\"col-6\"><div class=\"row\"><div class=\"col-12 mb-4\"><div class=\"seller-name mb-3\">Youssef Awali</div><p><i class=\"zmdi zmdi-whatsapp\"></i><a class=\"wp\" href=\"https://api.whatsapp.com/send?phone=5545999099889&amp;text=Ol%C3%A1,%20estou%20entrando%20em%20contato%20diretamente%20pelo%20site%20https://www.prodigital.com.py.\" target=\"_blank\">+55 45 9909 9889</a></p></div><div class=\"col-12 mb-4\"><div class=\"seller-name mb-3\">Ali Awali</div><p><i class=\"zmdi zmdi-whatsapp\"></i> <a class=\"wp\" href=\"https://api.whatsapp.com/send?phone=5511990112733&amp;text=Ol%C3%A1,%20estou%20entrando%20em%20contato%20diretamente%20pelo%20site%20https://www.prodigital.com.py.\" target=\"_blank\">+55 11 9 9011 2733</a></p></div><div class=\"col-12\"><div class=\"seller-name mb-3\">Hassib Awali</div><p><i class=\"zmdi zmdi-whatsapp\"></i> <a class=\"wp\" href=\"https://api.whatsapp.com/send?phone=5545999190004&amp;text=Ol%C3%A1,%20estou%20entrando%20em%20contato%20diretamente%20pelo%20site%20https://www.prodigital.com.py.\" target=\"_blank\">+55 45 9 9919 0004</a></p></div></div></div></div><div class=\"row mt-5\"><div class=\"col-12\"><h1>Onde Estamos</h1><p>Shopping Jebai Center, 3º piso, sala 2211/2212 (Ao lado do Centro Motorola em frente ao Fortuna Câmbio e Casa Glória).</p></div></div><div class=\"row mt-5\"><div class=\"col-12\"><h1>Sobre Nosotros</h1><p>En el mercado desde hace 8 años, estamos especializados en equipos para fotografía y filmación profesional. Ven a conocer nuestra línea completa de cámaras y accesorios de las principales marcas del mercado.</p></div></div></div>,\n",
       " <div class=\"row\"><div class=\"col-6\"><div class=\"row\"><div class=\"col-12 mb-4\"><div class=\"seller-name mb-3\">Felipe Beserra</div><p><i class=\"zmdi zmdi-whatsapp\"></i><a class=\"wp\" href=\"https://api.whatsapp.com/send?phone=5545998297857&amp;text=Ol%C3%A1,%20estou%20entrando%20em%20contato%20diretamente%20pelo%20site%20https://www.prodigital.com.py.\" target=\"_blank\">+55 45 9 9829 7857</a></p><p><i class=\"zmdi zmdi-email\"></i> <a class=\"__cf_email__\" data-cfemail=\"73151611160016010112331c06071f1c1c185d101c1e\" href=\"/cdn-cgi/l/email-protection\">[email protected]</a></p></div><div class=\"col-12 mb-4\"><div class=\"seller-name mb-3\">Silvio</div><p><i class=\"zmdi zmdi-whatsapp\"></i> <a class=\"wp\" href=\"https://api.whatsapp.com/send?phone=5545999479681&amp;text=Ol%C3%A1,%20estou%20entrando%20em%20contato%20diretamente%20pelo%20site%20https://www.prodigital.com.py.\" target=\"_blank\">+55 45 9 9947 9681</a></p><p><i class=\"zmdi zmdi-skype\"></i> prodigital4</p><p><i class=\"zmdi zmdi-email\"></i> <a class=\"__cf_email__\" data-cfemail=\"46352f2a302f296b363429222f212f32272a062e29322b272f2a6825292b\" href=\"/cdn-cgi/l/email-protection\">[email protected]</a></p></div><div class=\"col-12\"><div class=\"seller-name mb-3\">Mirta</div><p><i class=\"zmdi zmdi-whatsapp\"></i> <a class=\"wp\" href=\"https://api.whatsapp.com/send?phone=595984261239&amp;text=Ol%C3%A1,%20estou%20entrando%20em%20contato%20diretamente%20pelo%20site%20https://www.prodigital.com.py.\" target=\"_blank\">+595 984 261 239</a></p><p><i class=\"zmdi zmdi-skype\"></i> mirta.ramirez</p><p><i class=\"zmdi zmdi-email\"></i> <a class=\"__cf_email__\" data-cfemail=\"e5889784888c97809fbad2a5898c9380cb868a88\" href=\"/cdn-cgi/l/email-protection\">[email protected]</a></p></div></div></div><div class=\"col-6\"><div class=\"row\"><div class=\"col-12 mb-4\"><div class=\"seller-name mb-3\">Youssef Awali</div><p><i class=\"zmdi zmdi-whatsapp\"></i><a class=\"wp\" href=\"https://api.whatsapp.com/send?phone=5545999099889&amp;text=Ol%C3%A1,%20estou%20entrando%20em%20contato%20diretamente%20pelo%20site%20https://www.prodigital.com.py.\" target=\"_blank\">+55 45 9909 9889</a></p></div><div class=\"col-12 mb-4\"><div class=\"seller-name mb-3\">Ali Awali</div><p><i class=\"zmdi zmdi-whatsapp\"></i> <a class=\"wp\" href=\"https://api.whatsapp.com/send?phone=5511990112733&amp;text=Ol%C3%A1,%20estou%20entrando%20em%20contato%20diretamente%20pelo%20site%20https://www.prodigital.com.py.\" target=\"_blank\">+55 11 9 9011 2733</a></p></div><div class=\"col-12\"><div class=\"seller-name mb-3\">Hassib Awali</div><p><i class=\"zmdi zmdi-whatsapp\"></i> <a class=\"wp\" href=\"https://api.whatsapp.com/send?phone=5545999190004&amp;text=Ol%C3%A1,%20estou%20entrando%20em%20contato%20diretamente%20pelo%20site%20https://www.prodigital.com.py.\" target=\"_blank\">+55 45 9 9919 0004</a></p></div></div></div></div>,\n",
       " <div class=\"col-6\"><div class=\"row\"><div class=\"col-12 mb-4\"><div class=\"seller-name mb-3\">Felipe Beserra</div><p><i class=\"zmdi zmdi-whatsapp\"></i><a class=\"wp\" href=\"https://api.whatsapp.com/send?phone=5545998297857&amp;text=Ol%C3%A1,%20estou%20entrando%20em%20contato%20diretamente%20pelo%20site%20https://www.prodigital.com.py.\" target=\"_blank\">+55 45 9 9829 7857</a></p><p><i class=\"zmdi zmdi-email\"></i> <a class=\"__cf_email__\" data-cfemail=\"73151611160016010112331c06071f1c1c185d101c1e\" href=\"/cdn-cgi/l/email-protection\">[email protected]</a></p></div><div class=\"col-12 mb-4\"><div class=\"seller-name mb-3\">Silvio</div><p><i class=\"zmdi zmdi-whatsapp\"></i> <a class=\"wp\" href=\"https://api.whatsapp.com/send?phone=5545999479681&amp;text=Ol%C3%A1,%20estou%20entrando%20em%20contato%20diretamente%20pelo%20site%20https://www.prodigital.com.py.\" target=\"_blank\">+55 45 9 9947 9681</a></p><p><i class=\"zmdi zmdi-skype\"></i> prodigital4</p><p><i class=\"zmdi zmdi-email\"></i> <a class=\"__cf_email__\" data-cfemail=\"46352f2a302f296b363429222f212f32272a062e29322b272f2a6825292b\" href=\"/cdn-cgi/l/email-protection\">[email protected]</a></p></div><div class=\"col-12\"><div class=\"seller-name mb-3\">Mirta</div><p><i class=\"zmdi zmdi-whatsapp\"></i> <a class=\"wp\" href=\"https://api.whatsapp.com/send?phone=595984261239&amp;text=Ol%C3%A1,%20estou%20entrando%20em%20contato%20diretamente%20pelo%20site%20https://www.prodigital.com.py.\" target=\"_blank\">+595 984 261 239</a></p><p><i class=\"zmdi zmdi-skype\"></i> mirta.ramirez</p><p><i class=\"zmdi zmdi-email\"></i> <a class=\"__cf_email__\" data-cfemail=\"e5889784888c97809fbad2a5898c9380cb868a88\" href=\"/cdn-cgi/l/email-protection\">[email protected]</a></p></div></div></div>,\n",
       " <div class=\"row\"><div class=\"col-12 mb-4\"><div class=\"seller-name mb-3\">Felipe Beserra</div><p><i class=\"zmdi zmdi-whatsapp\"></i><a class=\"wp\" href=\"https://api.whatsapp.com/send?phone=5545998297857&amp;text=Ol%C3%A1,%20estou%20entrando%20em%20contato%20diretamente%20pelo%20site%20https://www.prodigital.com.py.\" target=\"_blank\">+55 45 9 9829 7857</a></p><p><i class=\"zmdi zmdi-email\"></i> <a class=\"__cf_email__\" data-cfemail=\"73151611160016010112331c06071f1c1c185d101c1e\" href=\"/cdn-cgi/l/email-protection\">[email protected]</a></p></div><div class=\"col-12 mb-4\"><div class=\"seller-name mb-3\">Silvio</div><p><i class=\"zmdi zmdi-whatsapp\"></i> <a class=\"wp\" href=\"https://api.whatsapp.com/send?phone=5545999479681&amp;text=Ol%C3%A1,%20estou%20entrando%20em%20contato%20diretamente%20pelo%20site%20https://www.prodigital.com.py.\" target=\"_blank\">+55 45 9 9947 9681</a></p><p><i class=\"zmdi zmdi-skype\"></i> prodigital4</p><p><i class=\"zmdi zmdi-email\"></i> <a class=\"__cf_email__\" data-cfemail=\"46352f2a302f296b363429222f212f32272a062e29322b272f2a6825292b\" href=\"/cdn-cgi/l/email-protection\">[email protected]</a></p></div><div class=\"col-12\"><div class=\"seller-name mb-3\">Mirta</div><p><i class=\"zmdi zmdi-whatsapp\"></i> <a class=\"wp\" href=\"https://api.whatsapp.com/send?phone=595984261239&amp;text=Ol%C3%A1,%20estou%20entrando%20em%20contato%20diretamente%20pelo%20site%20https://www.prodigital.com.py.\" target=\"_blank\">+595 984 261 239</a></p><p><i class=\"zmdi zmdi-skype\"></i> mirta.ramirez</p><p><i class=\"zmdi zmdi-email\"></i> <a class=\"__cf_email__\" data-cfemail=\"e5889784888c97809fbad2a5898c9380cb868a88\" href=\"/cdn-cgi/l/email-protection\">[email protected]</a></p></div></div>,\n",
       " <div class=\"col-12 mb-4\"><div class=\"seller-name mb-3\">Felipe Beserra</div><p><i class=\"zmdi zmdi-whatsapp\"></i><a class=\"wp\" href=\"https://api.whatsapp.com/send?phone=5545998297857&amp;text=Ol%C3%A1,%20estou%20entrando%20em%20contato%20diretamente%20pelo%20site%20https://www.prodigital.com.py.\" target=\"_blank\">+55 45 9 9829 7857</a></p><p><i class=\"zmdi zmdi-email\"></i> <a class=\"__cf_email__\" data-cfemail=\"73151611160016010112331c06071f1c1c185d101c1e\" href=\"/cdn-cgi/l/email-protection\">[email protected]</a></p></div>,\n",
       " <div class=\"seller-name mb-3\">Felipe Beserra</div>,\n",
       " <div class=\"col-12 mb-4\"><div class=\"seller-name mb-3\">Silvio</div><p><i class=\"zmdi zmdi-whatsapp\"></i> <a class=\"wp\" href=\"https://api.whatsapp.com/send?phone=5545999479681&amp;text=Ol%C3%A1,%20estou%20entrando%20em%20contato%20diretamente%20pelo%20site%20https://www.prodigital.com.py.\" target=\"_blank\">+55 45 9 9947 9681</a></p><p><i class=\"zmdi zmdi-skype\"></i> prodigital4</p><p><i class=\"zmdi zmdi-email\"></i> <a class=\"__cf_email__\" data-cfemail=\"46352f2a302f296b363429222f212f32272a062e29322b272f2a6825292b\" href=\"/cdn-cgi/l/email-protection\">[email protected]</a></p></div>,\n",
       " <div class=\"seller-name mb-3\">Silvio</div>,\n",
       " <div class=\"col-12\"><div class=\"seller-name mb-3\">Mirta</div><p><i class=\"zmdi zmdi-whatsapp\"></i> <a class=\"wp\" href=\"https://api.whatsapp.com/send?phone=595984261239&amp;text=Ol%C3%A1,%20estou%20entrando%20em%20contato%20diretamente%20pelo%20site%20https://www.prodigital.com.py.\" target=\"_blank\">+595 984 261 239</a></p><p><i class=\"zmdi zmdi-skype\"></i> mirta.ramirez</p><p><i class=\"zmdi zmdi-email\"></i> <a class=\"__cf_email__\" data-cfemail=\"e5889784888c97809fbad2a5898c9380cb868a88\" href=\"/cdn-cgi/l/email-protection\">[email protected]</a></p></div>,\n",
       " <div class=\"seller-name mb-3\">Mirta</div>,\n",
       " <div class=\"col-6\"><div class=\"row\"><div class=\"col-12 mb-4\"><div class=\"seller-name mb-3\">Youssef Awali</div><p><i class=\"zmdi zmdi-whatsapp\"></i><a class=\"wp\" href=\"https://api.whatsapp.com/send?phone=5545999099889&amp;text=Ol%C3%A1,%20estou%20entrando%20em%20contato%20diretamente%20pelo%20site%20https://www.prodigital.com.py.\" target=\"_blank\">+55 45 9909 9889</a></p></div><div class=\"col-12 mb-4\"><div class=\"seller-name mb-3\">Ali Awali</div><p><i class=\"zmdi zmdi-whatsapp\"></i> <a class=\"wp\" href=\"https://api.whatsapp.com/send?phone=5511990112733&amp;text=Ol%C3%A1,%20estou%20entrando%20em%20contato%20diretamente%20pelo%20site%20https://www.prodigital.com.py.\" target=\"_blank\">+55 11 9 9011 2733</a></p></div><div class=\"col-12\"><div class=\"seller-name mb-3\">Hassib Awali</div><p><i class=\"zmdi zmdi-whatsapp\"></i> <a class=\"wp\" href=\"https://api.whatsapp.com/send?phone=5545999190004&amp;text=Ol%C3%A1,%20estou%20entrando%20em%20contato%20diretamente%20pelo%20site%20https://www.prodigital.com.py.\" target=\"_blank\">+55 45 9 9919 0004</a></p></div></div></div>,\n",
       " <div class=\"row\"><div class=\"col-12 mb-4\"><div class=\"seller-name mb-3\">Youssef Awali</div><p><i class=\"zmdi zmdi-whatsapp\"></i><a class=\"wp\" href=\"https://api.whatsapp.com/send?phone=5545999099889&amp;text=Ol%C3%A1,%20estou%20entrando%20em%20contato%20diretamente%20pelo%20site%20https://www.prodigital.com.py.\" target=\"_blank\">+55 45 9909 9889</a></p></div><div class=\"col-12 mb-4\"><div class=\"seller-name mb-3\">Ali Awali</div><p><i class=\"zmdi zmdi-whatsapp\"></i> <a class=\"wp\" href=\"https://api.whatsapp.com/send?phone=5511990112733&amp;text=Ol%C3%A1,%20estou%20entrando%20em%20contato%20diretamente%20pelo%20site%20https://www.prodigital.com.py.\" target=\"_blank\">+55 11 9 9011 2733</a></p></div><div class=\"col-12\"><div class=\"seller-name mb-3\">Hassib Awali</div><p><i class=\"zmdi zmdi-whatsapp\"></i> <a class=\"wp\" href=\"https://api.whatsapp.com/send?phone=5545999190004&amp;text=Ol%C3%A1,%20estou%20entrando%20em%20contato%20diretamente%20pelo%20site%20https://www.prodigital.com.py.\" target=\"_blank\">+55 45 9 9919 0004</a></p></div></div>,\n",
       " <div class=\"col-12 mb-4\"><div class=\"seller-name mb-3\">Youssef Awali</div><p><i class=\"zmdi zmdi-whatsapp\"></i><a class=\"wp\" href=\"https://api.whatsapp.com/send?phone=5545999099889&amp;text=Ol%C3%A1,%20estou%20entrando%20em%20contato%20diretamente%20pelo%20site%20https://www.prodigital.com.py.\" target=\"_blank\">+55 45 9909 9889</a></p></div>,\n",
       " <div class=\"seller-name mb-3\">Youssef Awali</div>,\n",
       " <div class=\"col-12 mb-4\"><div class=\"seller-name mb-3\">Ali Awali</div><p><i class=\"zmdi zmdi-whatsapp\"></i> <a class=\"wp\" href=\"https://api.whatsapp.com/send?phone=5511990112733&amp;text=Ol%C3%A1,%20estou%20entrando%20em%20contato%20diretamente%20pelo%20site%20https://www.prodigital.com.py.\" target=\"_blank\">+55 11 9 9011 2733</a></p></div>,\n",
       " <div class=\"seller-name mb-3\">Ali Awali</div>,\n",
       " <div class=\"col-12\"><div class=\"seller-name mb-3\">Hassib Awali</div><p><i class=\"zmdi zmdi-whatsapp\"></i> <a class=\"wp\" href=\"https://api.whatsapp.com/send?phone=5545999190004&amp;text=Ol%C3%A1,%20estou%20entrando%20em%20contato%20diretamente%20pelo%20site%20https://www.prodigital.com.py.\" target=\"_blank\">+55 45 9 9919 0004</a></p></div>,\n",
       " <div class=\"seller-name mb-3\">Hassib Awali</div>,\n",
       " <div class=\"row mt-5\"><div class=\"col-12\"><h1>Onde Estamos</h1><p>Shopping Jebai Center, 3º piso, sala 2211/2212 (Ao lado do Centro Motorola em frente ao Fortuna Câmbio e Casa Glória).</p></div></div>,\n",
       " <div class=\"col-12\"><h1>Onde Estamos</h1><p>Shopping Jebai Center, 3º piso, sala 2211/2212 (Ao lado do Centro Motorola em frente ao Fortuna Câmbio e Casa Glória).</p></div>,\n",
       " <div class=\"row mt-5\"><div class=\"col-12\"><h1>Sobre Nosotros</h1><p>En el mercado desde hace 8 años, estamos especializados en equipos para fotografía y filmación profesional. Ven a conocer nuestra línea completa de cámaras y accesorios de las principales marcas del mercado.</p></div></div>,\n",
       " <div class=\"col-12\"><h1>Sobre Nosotros</h1><p>En el mercado desde hace 8 años, estamos especializados en equipos para fotografía y filmación profesional. Ven a conocer nuestra línea completa de cámaras y accesorios de las principales marcas del mercado.</p></div>,\n",
       " <div class=\"row\"><div class=\"col-12\"><div class=\"social\"><ul><li><a href=\"https://www.instagram.com/prodigitalpy\" target=\"_blank\"><i class=\"zmdi zmdi-instagram\"></i> <span>Instagram <strong>/prodigitalpy</strong></span></a></li><li><a href=\"https://www.facebook.com/prodigitalpy\" target=\"_blank\"><i class=\"zmdi zmdi-facebook-box\"></i> <span>Facebook <strong>/prodigitalpy</strong></span></a></li></ul></div></div></div>,\n",
       " <div class=\"col-12\"><div class=\"social\"><ul><li><a href=\"https://www.instagram.com/prodigitalpy\" target=\"_blank\"><i class=\"zmdi zmdi-instagram\"></i> <span>Instagram <strong>/prodigitalpy</strong></span></a></li><li><a href=\"https://www.facebook.com/prodigitalpy\" target=\"_blank\"><i class=\"zmdi zmdi-facebook-box\"></i> <span>Facebook <strong>/prodigitalpy</strong></span></a></li></ul></div></div>,\n",
       " <div class=\"social\"><ul><li><a href=\"https://www.instagram.com/prodigitalpy\" target=\"_blank\"><i class=\"zmdi zmdi-instagram\"></i> <span>Instagram <strong>/prodigitalpy</strong></span></a></li><li><a href=\"https://www.facebook.com/prodigitalpy\" target=\"_blank\"><i class=\"zmdi zmdi-facebook-box\"></i> <span>Facebook <strong>/prodigitalpy</strong></span></a></li></ul></div>,\n",
       " <div class=\"bottom\"><div class=\"container\"><div class=\"row\"><div class=\"col-12 rights\">© PRO Digital - Todos los derechos reservados.<br/>\n",
       "     El precio y la información de los productos pueden cambiar sin previo aviso.<div class=\"development\">Made in <a href=\"https://withyou.tech\" target=\"_blank\">WITH YOU</a></div></div></div></div></div>,\n",
       " <div class=\"container\"><div class=\"row\"><div class=\"col-12 rights\">© PRO Digital - Todos los derechos reservados.<br/>\n",
       "     El precio y la información de los productos pueden cambiar sin previo aviso.<div class=\"development\">Made in <a href=\"https://withyou.tech\" target=\"_blank\">WITH YOU</a></div></div></div></div>,\n",
       " <div class=\"row\"><div class=\"col-12 rights\">© PRO Digital - Todos los derechos reservados.<br/>\n",
       "     El precio y la información de los productos pueden cambiar sin previo aviso.<div class=\"development\">Made in <a href=\"https://withyou.tech\" target=\"_blank\">WITH YOU</a></div></div></div>,\n",
       " <div class=\"col-12 rights\">© PRO Digital - Todos los derechos reservados.<br/>\n",
       "     El precio y la información de los productos pueden cambiar sin previo aviso.<div class=\"development\">Made in <a href=\"https://withyou.tech\" target=\"_blank\">WITH YOU</a></div></div>,\n",
       " <div class=\"development\">Made in <a href=\"https://withyou.tech\" target=\"_blank\">WITH YOU</a></div>,\n",
       " <div class=\"whatsapp pulse\"><a href=\"https://api.whatsapp.com/send?phone=5545999479681&amp;text=Olá,%20estou%20entrando%20em%20contato%20diretamente%20pelo%20site https://www.prodigital.com.py.\" target=\"_blank\"><img src=\"/assets/img/whatsapp.png\"/></a></div>,\n",
       " <div class=\"mobile-header d-block d-lg-block d-xl-none\"><button class=\"button-menu\" onclick=\"openSidebar()\"><i class=\"zmdi zmdi-sort-amount-desc\"></i></button><div class=\"logo\"><a href=\"/\"><strong>PRO Digital</strong></a></div><button class=\"button-search\" onclick=\"openSearch()\"><i class=\"zmdi zmdi-search\"></i></button></div>,\n",
       " <div class=\"logo\"><a href=\"/\"><strong>PRO Digital</strong></a></div>,\n",
       " <div class=\"mobile-sidebar\"><div class=\"box\"><div class=\"title\"><h1>Menu</h1><button class=\"hide\" onclick=\"closeSidebar()\"><i class=\"zmdi zmdi-close\"></i></button></div><div class=\"content\"><div class=\"info\"><div class=\"quotation\">U$ <span>x</span> R$ 5.76</div><div class=\"language\" data-action=\"/language\"><ul><li class=\"\" id=\"pt_BR\">PT</li><li class=\"active\" id=\"es_PY\">ES</li><ul></ul></ul></div></div><ul><li><a href=\"/\">Página de Inicio</a></li><li><a href=\"/marcas\">Marcas</a></li><li><a href=\"/categorias\">Categorías</a></li><li><a href=\"/lancamento\">Lanzamientos</a></li><li><a href=\"/destaque\">Destacados</a></li><li><a href=\"/promocao\">Promociones</a></li><li><a href=\"/localizacao\">Ubicación</a></li></ul><h2>Marcas</h2><ul><li><a href=\"/marca/nikon\">NIKON</a></li><li><a href=\"/marca/gopro\">GOPRO</a></li><li><a href=\"/marca/sony\">SONY</a></li><li><a href=\"/marca/commlite\">COMMLITE</a></li><li><a href=\"/marca/fotodiox\">FOTODIOX</a></li><li><a href=\"/marca/panasonic\">PANASONIC</a></li><li><a href=\"/marca/godox\">GODOX</a></li><li><a href=\"/marca/nicefoto\">NICEFOTO</a></li><li><a href=\"/marca/canon\">CANON</a></li><li><a href=\"/marca/black-magic\">BLACKMAGIC</a></li><li><a href=\"/marca/manfrotto\">MANFROTTO</a></li><li><a href=\"/marca/rokinon\">ROKINON</a></li></ul><h2>Categorias</h2><ul><li><a class=\"father\" href=\"/categoria/iluminacao\">Iluminação</a></li><li><a class=\"father\" href=\"/categoria/acessorios-1\">— Acessórios</a></li> <li><a class=\"father\" href=\"/categoria/flash\">— Flash</a></li> <li><a class=\"father\" href=\"/categoria/led\">— LED</a></li> <li><a class=\"father\" href=\"/categoria/radio-flash\">— Rádio Flash</a></li> <li><a class=\"father\" href=\"/categoria/rebatedores\">— Rebatedores</a></li> <li><a class=\"father\" href=\"/categoria/softbox\">— Softbox</a></li> <li><a class=\"father\" href=\"/categoria/lentes\">Lentes</a></li><li><a class=\"father\" href=\"/categoria/canon\">— Canon</a></li> <li><a class=\"father\" href=\"/categoria/filtros\">— filtros</a></li> <li><a class=\"father\" href=\"/categoria/nikon\">— Nikon</a></li> <li><a class=\"father\" href=\"/categoria/rokinon\">— Rokinon</a></li> <li><a class=\"father\" href=\"/categoria/sigma\">— Sigma</a></li> <li><a class=\"father\" href=\"/categoria/cameras-digitais\">Câmeras Digitais</a></li><li><a class=\"father\" href=\"/categoria/acessorios\">— Acessórios</a></li> <li><a class=\"father\" href=\"/categoria/profissional\">— profissional</a></li> <li><a class=\"father\" href=\"/categoria/semi-profissional\">— Semi-profissional</a></li> <li><a class=\"father\" href=\"/categoria/filmadoras\">Filmadoras</a></li> <li><a class=\"father\" href=\"/categoria/tripes-profissionais\">Tripés Profissionais</a></li><li><a class=\"father\" href=\"/categoria/monopes\">— Monopés</a></li> <li><a class=\"father\" href=\"/categoria/maletas-e-mochilas\">Maletas e Mochilas</a></li> <li><a class=\"father\" href=\"/categoria/blackmagic\">Blackmagic</a></li> <li><a class=\"father\" href=\"/categoria/audio-profissional\">Áudio Profissional</a></li><li><a class=\"father\" href=\"/categoria/fones\">— Fones</a></li> <li><a class=\"father\" href=\"/categoria/gravadores\">— Gravadores</a></li> <li><a class=\"father\" href=\"/categoria/microfones\">— Microfones</a></li> <li><a class=\"father\" href=\"/categoria/video\">Vídeo</a></li><li><a class=\"father\" href=\"/categoria/mixer\">— Mixer</a></li> <li><a class=\"father\" href=\"/categoria/monitores\">— Monitores</a></li> <li><a class=\"father\" href=\"/categoria/midias-e-memorias\">Mídias e Memórias</a></li> <li><a class=\"father\" href=\"/categoria/gopro-e-acessorios\">GoPro e Acessórios</a></li> <li><a class=\"father\" href=\"/categoria/estabilizadores-e-suportes\">Estabilizadores e Suportes</a></li> <li><a class=\"father\" href=\"/categoria/eletronicos\">Eletrônicos</a></li> <li><a class=\"father\" href=\"/categoria/baterias-e-carregadores\">Baterias e Carregadores</a></li> <li><a class=\"father\" href=\"/categoria/placa-de-captura\">Placa de Captura</a></li> <li><a class=\"father\" href=\"/categoria/pedal\">Pedal</a></li> </ul></div><div class=\"option\"><div class=\"row text-center\"><div class=\"col-6\"><a href=\"/\"><i class=\"zmdi zmdi-home\"></i></a></div><div class=\"col-6\"><a href=\"/localizacao\"><i class=\"zmdi zmdi-pin\"></i></a></div></div></div></div><div class=\"overlay\" onclick=\"closeSidebar()\"></div></div>,\n",
       " <div class=\"box\"><div class=\"title\"><h1>Menu</h1><button class=\"hide\" onclick=\"closeSidebar()\"><i class=\"zmdi zmdi-close\"></i></button></div><div class=\"content\"><div class=\"info\"><div class=\"quotation\">U$ <span>x</span> R$ 5.76</div><div class=\"language\" data-action=\"/language\"><ul><li class=\"\" id=\"pt_BR\">PT</li><li class=\"active\" id=\"es_PY\">ES</li><ul></ul></ul></div></div><ul><li><a href=\"/\">Página de Inicio</a></li><li><a href=\"/marcas\">Marcas</a></li><li><a href=\"/categorias\">Categorías</a></li><li><a href=\"/lancamento\">Lanzamientos</a></li><li><a href=\"/destaque\">Destacados</a></li><li><a href=\"/promocao\">Promociones</a></li><li><a href=\"/localizacao\">Ubicación</a></li></ul><h2>Marcas</h2><ul><li><a href=\"/marca/nikon\">NIKON</a></li><li><a href=\"/marca/gopro\">GOPRO</a></li><li><a href=\"/marca/sony\">SONY</a></li><li><a href=\"/marca/commlite\">COMMLITE</a></li><li><a href=\"/marca/fotodiox\">FOTODIOX</a></li><li><a href=\"/marca/panasonic\">PANASONIC</a></li><li><a href=\"/marca/godox\">GODOX</a></li><li><a href=\"/marca/nicefoto\">NICEFOTO</a></li><li><a href=\"/marca/canon\">CANON</a></li><li><a href=\"/marca/black-magic\">BLACKMAGIC</a></li><li><a href=\"/marca/manfrotto\">MANFROTTO</a></li><li><a href=\"/marca/rokinon\">ROKINON</a></li></ul><h2>Categorias</h2><ul><li><a class=\"father\" href=\"/categoria/iluminacao\">Iluminação</a></li><li><a class=\"father\" href=\"/categoria/acessorios-1\">— Acessórios</a></li> <li><a class=\"father\" href=\"/categoria/flash\">— Flash</a></li> <li><a class=\"father\" href=\"/categoria/led\">— LED</a></li> <li><a class=\"father\" href=\"/categoria/radio-flash\">— Rádio Flash</a></li> <li><a class=\"father\" href=\"/categoria/rebatedores\">— Rebatedores</a></li> <li><a class=\"father\" href=\"/categoria/softbox\">— Softbox</a></li> <li><a class=\"father\" href=\"/categoria/lentes\">Lentes</a></li><li><a class=\"father\" href=\"/categoria/canon\">— Canon</a></li> <li><a class=\"father\" href=\"/categoria/filtros\">— filtros</a></li> <li><a class=\"father\" href=\"/categoria/nikon\">— Nikon</a></li> <li><a class=\"father\" href=\"/categoria/rokinon\">— Rokinon</a></li> <li><a class=\"father\" href=\"/categoria/sigma\">— Sigma</a></li> <li><a class=\"father\" href=\"/categoria/cameras-digitais\">Câmeras Digitais</a></li><li><a class=\"father\" href=\"/categoria/acessorios\">— Acessórios</a></li> <li><a class=\"father\" href=\"/categoria/profissional\">— profissional</a></li> <li><a class=\"father\" href=\"/categoria/semi-profissional\">— Semi-profissional</a></li> <li><a class=\"father\" href=\"/categoria/filmadoras\">Filmadoras</a></li> <li><a class=\"father\" href=\"/categoria/tripes-profissionais\">Tripés Profissionais</a></li><li><a class=\"father\" href=\"/categoria/monopes\">— Monopés</a></li> <li><a class=\"father\" href=\"/categoria/maletas-e-mochilas\">Maletas e Mochilas</a></li> <li><a class=\"father\" href=\"/categoria/blackmagic\">Blackmagic</a></li> <li><a class=\"father\" href=\"/categoria/audio-profissional\">Áudio Profissional</a></li><li><a class=\"father\" href=\"/categoria/fones\">— Fones</a></li> <li><a class=\"father\" href=\"/categoria/gravadores\">— Gravadores</a></li> <li><a class=\"father\" href=\"/categoria/microfones\">— Microfones</a></li> <li><a class=\"father\" href=\"/categoria/video\">Vídeo</a></li><li><a class=\"father\" href=\"/categoria/mixer\">— Mixer</a></li> <li><a class=\"father\" href=\"/categoria/monitores\">— Monitores</a></li> <li><a class=\"father\" href=\"/categoria/midias-e-memorias\">Mídias e Memórias</a></li> <li><a class=\"father\" href=\"/categoria/gopro-e-acessorios\">GoPro e Acessórios</a></li> <li><a class=\"father\" href=\"/categoria/estabilizadores-e-suportes\">Estabilizadores e Suportes</a></li> <li><a class=\"father\" href=\"/categoria/eletronicos\">Eletrônicos</a></li> <li><a class=\"father\" href=\"/categoria/baterias-e-carregadores\">Baterias e Carregadores</a></li> <li><a class=\"father\" href=\"/categoria/placa-de-captura\">Placa de Captura</a></li> <li><a class=\"father\" href=\"/categoria/pedal\">Pedal</a></li> </ul></div><div class=\"option\"><div class=\"row text-center\"><div class=\"col-6\"><a href=\"/\"><i class=\"zmdi zmdi-home\"></i></a></div><div class=\"col-6\"><a href=\"/localizacao\"><i class=\"zmdi zmdi-pin\"></i></a></div></div></div></div>,\n",
       " <div class=\"title\"><h1>Menu</h1><button class=\"hide\" onclick=\"closeSidebar()\"><i class=\"zmdi zmdi-close\"></i></button></div>,\n",
       " <div class=\"content\"><div class=\"info\"><div class=\"quotation\">U$ <span>x</span> R$ 5.76</div><div class=\"language\" data-action=\"/language\"><ul><li class=\"\" id=\"pt_BR\">PT</li><li class=\"active\" id=\"es_PY\">ES</li><ul></ul></ul></div></div><ul><li><a href=\"/\">Página de Inicio</a></li><li><a href=\"/marcas\">Marcas</a></li><li><a href=\"/categorias\">Categorías</a></li><li><a href=\"/lancamento\">Lanzamientos</a></li><li><a href=\"/destaque\">Destacados</a></li><li><a href=\"/promocao\">Promociones</a></li><li><a href=\"/localizacao\">Ubicación</a></li></ul><h2>Marcas</h2><ul><li><a href=\"/marca/nikon\">NIKON</a></li><li><a href=\"/marca/gopro\">GOPRO</a></li><li><a href=\"/marca/sony\">SONY</a></li><li><a href=\"/marca/commlite\">COMMLITE</a></li><li><a href=\"/marca/fotodiox\">FOTODIOX</a></li><li><a href=\"/marca/panasonic\">PANASONIC</a></li><li><a href=\"/marca/godox\">GODOX</a></li><li><a href=\"/marca/nicefoto\">NICEFOTO</a></li><li><a href=\"/marca/canon\">CANON</a></li><li><a href=\"/marca/black-magic\">BLACKMAGIC</a></li><li><a href=\"/marca/manfrotto\">MANFROTTO</a></li><li><a href=\"/marca/rokinon\">ROKINON</a></li></ul><h2>Categorias</h2><ul><li><a class=\"father\" href=\"/categoria/iluminacao\">Iluminação</a></li><li><a class=\"father\" href=\"/categoria/acessorios-1\">— Acessórios</a></li> <li><a class=\"father\" href=\"/categoria/flash\">— Flash</a></li> <li><a class=\"father\" href=\"/categoria/led\">— LED</a></li> <li><a class=\"father\" href=\"/categoria/radio-flash\">— Rádio Flash</a></li> <li><a class=\"father\" href=\"/categoria/rebatedores\">— Rebatedores</a></li> <li><a class=\"father\" href=\"/categoria/softbox\">— Softbox</a></li> <li><a class=\"father\" href=\"/categoria/lentes\">Lentes</a></li><li><a class=\"father\" href=\"/categoria/canon\">— Canon</a></li> <li><a class=\"father\" href=\"/categoria/filtros\">— filtros</a></li> <li><a class=\"father\" href=\"/categoria/nikon\">— Nikon</a></li> <li><a class=\"father\" href=\"/categoria/rokinon\">— Rokinon</a></li> <li><a class=\"father\" href=\"/categoria/sigma\">— Sigma</a></li> <li><a class=\"father\" href=\"/categoria/cameras-digitais\">Câmeras Digitais</a></li><li><a class=\"father\" href=\"/categoria/acessorios\">— Acessórios</a></li> <li><a class=\"father\" href=\"/categoria/profissional\">— profissional</a></li> <li><a class=\"father\" href=\"/categoria/semi-profissional\">— Semi-profissional</a></li> <li><a class=\"father\" href=\"/categoria/filmadoras\">Filmadoras</a></li> <li><a class=\"father\" href=\"/categoria/tripes-profissionais\">Tripés Profissionais</a></li><li><a class=\"father\" href=\"/categoria/monopes\">— Monopés</a></li> <li><a class=\"father\" href=\"/categoria/maletas-e-mochilas\">Maletas e Mochilas</a></li> <li><a class=\"father\" href=\"/categoria/blackmagic\">Blackmagic</a></li> <li><a class=\"father\" href=\"/categoria/audio-profissional\">Áudio Profissional</a></li><li><a class=\"father\" href=\"/categoria/fones\">— Fones</a></li> <li><a class=\"father\" href=\"/categoria/gravadores\">— Gravadores</a></li> <li><a class=\"father\" href=\"/categoria/microfones\">— Microfones</a></li> <li><a class=\"father\" href=\"/categoria/video\">Vídeo</a></li><li><a class=\"father\" href=\"/categoria/mixer\">— Mixer</a></li> <li><a class=\"father\" href=\"/categoria/monitores\">— Monitores</a></li> <li><a class=\"father\" href=\"/categoria/midias-e-memorias\">Mídias e Memórias</a></li> <li><a class=\"father\" href=\"/categoria/gopro-e-acessorios\">GoPro e Acessórios</a></li> <li><a class=\"father\" href=\"/categoria/estabilizadores-e-suportes\">Estabilizadores e Suportes</a></li> <li><a class=\"father\" href=\"/categoria/eletronicos\">Eletrônicos</a></li> <li><a class=\"father\" href=\"/categoria/baterias-e-carregadores\">Baterias e Carregadores</a></li> <li><a class=\"father\" href=\"/categoria/placa-de-captura\">Placa de Captura</a></li> <li><a class=\"father\" href=\"/categoria/pedal\">Pedal</a></li> </ul></div>,\n",
       " <div class=\"info\"><div class=\"quotation\">U$ <span>x</span> R$ 5.76</div><div class=\"language\" data-action=\"/language\"><ul><li class=\"\" id=\"pt_BR\">PT</li><li class=\"active\" id=\"es_PY\">ES</li><ul></ul></ul></div></div>,\n",
       " <div class=\"quotation\">U$ <span>x</span> R$ 5.76</div>,\n",
       " <div class=\"language\" data-action=\"/language\"><ul><li class=\"\" id=\"pt_BR\">PT</li><li class=\"active\" id=\"es_PY\">ES</li><ul></ul></ul></div>,\n",
       " <div class=\"option\"><div class=\"row text-center\"><div class=\"col-6\"><a href=\"/\"><i class=\"zmdi zmdi-home\"></i></a></div><div class=\"col-6\"><a href=\"/localizacao\"><i class=\"zmdi zmdi-pin\"></i></a></div></div></div>,\n",
       " <div class=\"row text-center\"><div class=\"col-6\"><a href=\"/\"><i class=\"zmdi zmdi-home\"></i></a></div><div class=\"col-6\"><a href=\"/localizacao\"><i class=\"zmdi zmdi-pin\"></i></a></div></div>,\n",
       " <div class=\"col-6\"><a href=\"/\"><i class=\"zmdi zmdi-home\"></i></a></div>,\n",
       " <div class=\"col-6\"><a href=\"/localizacao\"><i class=\"zmdi zmdi-pin\"></i></a></div>,\n",
       " <div class=\"overlay\" onclick=\"closeSidebar()\"></div>,\n",
       " <div class=\"mobile-search\"><form action=\"/busca\" class=\"form\" method=\"post\"><input autocomplete=\"off\" name=\"term\" placeholder=\"Escriba lo que está buscando\" type=\"search\" value=\"\"/></form><div class=\"overlay\" onclick=\"closeSearch()\"></div></div>,\n",
       " <div class=\"overlay\" onclick=\"closeSearch()\"></div>]"
      ]
     },
     "execution_count": 111,
     "metadata": {},
     "output_type": "execute_result"
    }
   ],
   "source": [
    "soup_1.find_all(\n",
    "    'div')"
   ]
  },
  {
   "cell_type": "code",
   "execution_count": 85,
   "metadata": {},
   "outputs": [],
   "source": [
    "price = soup_1.find_all(\n",
    "    'div', attrs={'class':'price convert'}\n",
    ")\n",
    "\n",
    "produto = soup_1.find_all('h1')[0]\n",
    "\n",
    "url_imagem = soup_1.find_all('img')[1]"
   ]
  },
  {
   "cell_type": "code",
   "execution_count": 108,
   "metadata": {},
   "outputs": [
    {
     "data": {
      "text/plain": [
       "<h1>Grid Nanlite EC-PTII6C Para Pavo Tube 6C</h1>"
      ]
     },
     "execution_count": 108,
     "metadata": {},
     "output_type": "execute_result"
    }
   ],
   "source": [
    "produto"
   ]
  },
  {
   "cell_type": "code",
   "execution_count": 50,
   "metadata": {},
   "outputs": [],
   "source": [
    "url_imagem_ = url_imagem['data-original']"
   ]
  },
  {
   "cell_type": "code",
   "execution_count": 53,
   "metadata": {},
   "outputs": [],
   "source": [
    "hj = dt.date.today()"
   ]
  },
  {
   "cell_type": "code",
   "execution_count": 55,
   "metadata": {},
   "outputs": [],
   "source": [
    "nome_arquivo = os.path.join('..', 'data', 'prodigital', 'imgs', f'{produto.text}_{hj}.jpg')"
   ]
  },
  {
   "cell_type": "code",
   "execution_count": 56,
   "metadata": {},
   "outputs": [
    {
     "name": "stdout",
     "output_type": "stream",
     "text": [
      "Imagem salva em: ..\\data\\prodigital\\imgs\\Grid Nanlite EC-PTII6C Para Pavo Tube 6C_2024-10-26.jpg\n"
     ]
    }
   ],
   "source": [
    "salvar_imagem(url_imagem=url_imagem_, nome_arquivo=nome_arquivo)"
   ]
  },
  {
   "cell_type": "code",
   "execution_count": 93,
   "metadata": {},
   "outputs": [],
   "source": [
    "info = soup_1.find_all('div')"
   ]
  },
  {
   "cell_type": "code",
   "execution_count": 107,
   "metadata": {},
   "outputs": [],
   "source": [
    "cambio = info[9].text.replace('Cambio del díaU$ x R$ ','')\n",
    "brl_price = float(usd_price) * float(cambio)"
   ]
  },
  {
   "cell_type": "code",
   "execution_count": 90,
   "metadata": {},
   "outputs": [
    {
     "name": "stdout",
     "output_type": "stream",
     "text": [
      "18.00\n"
     ]
    }
   ],
   "source": [
    "for preco in price:\n",
    "    usd_price = preco.text.replace('U$ ','')\n",
    "    print(usd_price)"
   ]
  },
  {
   "cell_type": "code",
   "execution_count": 8,
   "metadata": {},
   "outputs": [],
   "source": [
    "main_url = requests.get('https://www.grupoalfatec.com.py/')"
   ]
  },
  {
   "cell_type": "code",
   "execution_count": 9,
   "metadata": {},
   "outputs": [],
   "source": [
    "sp = BeautifulSoup(main_url.content,'html.parser')"
   ]
  },
  {
   "cell_type": "code",
   "execution_count": 10,
   "metadata": {},
   "outputs": [],
   "source": [
    "main_url_ = sp.find_all('a')"
   ]
  },
  {
   "cell_type": "code",
   "execution_count": 11,
   "metadata": {},
   "outputs": [],
   "source": [
    "to_category = []\n",
    "for url in main_url_:\n",
    "    to_category.append(url['href'].lstrip('/'))"
   ]
  },
  {
   "cell_type": "code",
   "execution_count": 12,
   "metadata": {},
   "outputs": [],
   "source": [
    "df_t = pd.DataFrame(to_category)"
   ]
  },
  {
   "cell_type": "code",
   "execution_count": 14,
   "metadata": {},
   "outputs": [
    {
     "data": {
      "text/plain": [
       "['',\n",
       " '',\n",
       " '#category-1',\n",
       " 'category/adaptadores',\n",
       " 'category/adaptadores',\n",
       " 'category/filtros',\n",
       " 'category/filtros',\n",
       " 'category/follow-focus',\n",
       " 'category/follow-focus',\n",
       " 'category/kit-limpeza',\n",
       " 'category/kit-limpeza',\n",
       " 'category/matte-box',\n",
       " 'category/matte-box',\n",
       " 'category/parasoles',\n",
       " 'category/parasoles',\n",
       " 'category/suporte-de-lente',\n",
       " 'category/suporte-de-lente',\n",
       " 'category/tampas',\n",
       " 'category/tampas',\n",
       " 'category/lentes',\n",
       " '#category-2',\n",
       " 'category/aro-led',\n",
       " 'category/aro-led',\n",
       " 'category/bastao-led',\n",
       " 'category/bastao-led',\n",
       " '#category-3',\n",
       " 'category/accesorios-para-flash-led',\n",
       " 'category/flash',\n",
       " 'category/kit-de-iluminacao',\n",
       " 'category/kit-de-iluminacao',\n",
       " 'category/lampada-suporte',\n",
       " 'category/lampada-suporte',\n",
       " 'category/leds',\n",
       " 'category/leds',\n",
       " 'category/projector',\n",
       " 'category/projector',\n",
       " 'category/radio-flash',\n",
       " 'category/radio-flash',\n",
       " 'category/suporte',\n",
       " 'category/suporte',\n",
       " '#category-25',\n",
       " 'category/bolsa-para-tripe',\n",
       " 'category/rodas-pernas-para-tripe',\n",
       " 'category/tripe-para-iluminacao',\n",
       " 'category/iluminacao',\n",
       " '#category-4',\n",
       " '#category-40',\n",
       " 'category/mesa-de-edicao',\n",
       " 'category/switcher',\n",
       " 'category/console-de-audio',\n",
       " 'category/console-de-audio',\n",
       " 'category/drones',\n",
       " 'category/drones',\n",
       " '#category-18',\n",
       " 'category/acessorios-p-estabilizadores',\n",
       " 'category/estabilizadores',\n",
       " '#category-19',\n",
       " 'category/accesorios-zoom',\n",
       " 'category/gravador-de-audio',\n",
       " 'category/micro-conversor',\n",
       " 'category/micro-conversor',\n",
       " '#category-21',\n",
       " 'category/boompole',\n",
       " 'category/suporte-p-microfone',\n",
       " 'category/microfones',\n",
       " 'category/monitores',\n",
       " 'category/monitores',\n",
       " 'category/notebook',\n",
       " 'category/notebook',\n",
       " 'category/placa-de-captura',\n",
       " 'category/placa-de-captura',\n",
       " 'category/sistema-de-intercomunicacao',\n",
       " 'category/sistema-de-intercomunicacao',\n",
       " 'category/teleprompter',\n",
       " 'category/teleprompter',\n",
       " 'category/transmissor-de-video',\n",
       " 'category/transmissor-de-video',\n",
       " 'category/audio-video',\n",
       " '#category-5',\n",
       " 'category/mini-plataforma-giratoria-360',\n",
       " 'category/mini-plataforma-giratoria-360',\n",
       " 'category/plataforma-360',\n",
       " '',\n",
       " 'location',\n",
       " '',\n",
       " 'category/iluminacao',\n",
       " 'category/aro-led',\n",
       " 'category/bastao-led',\n",
       " 'category/flash',\n",
       " 'category/accesorios-para-flash-led',\n",
       " 'category/kit-de-iluminacao',\n",
       " 'category/lampada-suporte',\n",
       " 'category/leds',\n",
       " 'category/projector',\n",
       " 'category/radio-flash',\n",
       " 'category/suporte',\n",
       " 'category/tripe-para-iluminacao',\n",
       " 'category/bolsa-para-tripe',\n",
       " 'category/rodas-pernas-para-tripe',\n",
       " 'category/audio-video',\n",
       " 'category/switcher',\n",
       " 'category/mesa-de-edicao',\n",
       " 'category/console-de-audio',\n",
       " 'category/drones',\n",
       " 'category/estabilizadores',\n",
       " 'category/acessorios-p-estabilizadores',\n",
       " 'category/gravador-de-audio',\n",
       " 'category/accesorios-zoom',\n",
       " 'category/micro-conversor',\n",
       " 'category/microfones',\n",
       " 'category/boompole',\n",
       " 'category/suporte-p-microfone',\n",
       " 'category/monitores',\n",
       " 'category/notebook',\n",
       " 'category/placa-de-captura',\n",
       " 'category/sistema-de-intercomunicacao',\n",
       " 'category/teleprompter',\n",
       " 'category/transmissor-de-video',\n",
       " 'category/plataforma-360',\n",
       " 'category/mini-plataforma-giratoria-360',\n",
       " 'category/cameras',\n",
       " 'category/montura-horiz-vert',\n",
       " 'category/acessorios-para-cameras',\n",
       " 'category/alca-para-cameras',\n",
       " 'category/cage',\n",
       " 'category/capa-para-camera',\n",
       " 'category/clip-para-camera',\n",
       " 'category/filmadoras',\n",
       " 'category/monope',\n",
       " 'category/placa-de-liberacao',\n",
       " 'category/slider',\n",
       " 'category/tripes',\n",
       " 'category/dolly',\n",
       " 'category/mini-tripe',\n",
       " 'category/acessorios',\n",
       " 'category/acessorios-p-telefone',\n",
       " 'category/capa',\n",
       " 'category/baterias',\n",
       " 'category/carregadores',\n",
       " 'category/fonte-adaptador',\n",
       " 'category/cabo-hdmi-usb',\n",
       " 'category/claquete-de-cinema',\n",
       " 'category/memorias-hd-sdd',\n",
       " 'category/estojo-para-memoria',\n",
       " 'category/leitor-de-memoria',\n",
       " 'category/mochilas-bolsas',\n",
       " 'category/maleta',\n",
       " 'category/pilhas',\n",
       " 'category/estojo',\n",
       " 'category/relogio-smartwatch',\n",
       " 'category/suporte-para-mesa',\n",
       " 'category/trocador-portatil',\n",
       " 'category/ventilador-de-estudio',\n",
       " 'category/fotografia',\n",
       " 'category/accesorios-newborn',\n",
       " 'category/caixa-de-luz-para-fotografia',\n",
       " 'category/impressora',\n",
       " 'category/papel-fotografico',\n",
       " 'category/kit-refletor',\n",
       " 'category/lantern-softbox',\n",
       " 'category/octabox',\n",
       " 'category/rebatedor',\n",
       " 'category/softbox',\n",
       " 'category/sombrinha',\n",
       " 'category/fundo-fotograficos',\n",
       " 'category/acessorios-para-fondo',\n",
       " 'category/placa-acrilica',\n",
       " 'category/suporte-de-fundo-fotografico',\n",
       " 'category/lentes',\n",
       " 'category/adaptadores',\n",
       " 'category/filtros',\n",
       " 'category/follow-focus',\n",
       " 'category/kit-limpeza',\n",
       " 'category/matte-box',\n",
       " 'category/parasoles',\n",
       " 'category/suporte-de-lente',\n",
       " 'category/tampas',\n",
       " 'sellers',\n",
       " 'location',\n",
       " 'https://www.grupoalfatec.com.py/search/zoom',\n",
       " '#',\n",
       " 'https://www.grupoalfatec.com.py/product/flash-godox-ad200-pro',\n",
       " 'https://www.grupoalfatec.com.py/search/zv-e10',\n",
       " 'https://www.grupoalfatec.com.py/product/camera-blackmagic-design-pocket-cinema-6k-pro-corpo-2-anos-de-garantia-em-brasil',\n",
       " 'https://www.grupoalfatec.com.py/search/OSMO%20ACTION%205%20PRO',\n",
       " 'https://www.grupoalfatec.com.py/search/dji%20neo',\n",
       " 'https://www.grupoalfatec.com.py/product/drone-dji-air-3s-fly-more-combo-dji-rc-2',\n",
       " 'https://www.grupoalfatec.com.py/search/e10%20ii',\n",
       " 'brand/tamron',\n",
       " 'brand/eneloop',\n",
       " 'brand/insta-360',\n",
       " 'brand/yongnuo',\n",
       " 'brand/bd',\n",
       " 'brand/hp',\n",
       " 'brand/phillips',\n",
       " 'brand/gopro',\n",
       " 'brand/puluz',\n",
       " 'brand/fotga',\n",
       " 'brand/seagate',\n",
       " 'brand/sokani',\n",
       " 'brand/fujifilm',\n",
       " 'brand/sony',\n",
       " 'brand/boya',\n",
       " 'brand/benro',\n",
       " 'brand/zomei',\n",
       " 'brand/kingjoy',\n",
       " 'brand/zgcine',\n",
       " 'brand/amaran',\n",
       " 'brand/commlite',\n",
       " 'product/switch-live-streaming-yololiv-yolobox-pro',\n",
       " 'product/drone-dji-mini-4k',\n",
       " 'product/tilta-mirage-vnd-kite-box-mb-t16-a',\n",
       " 'product/camera-de-acao-gopro-hero-13-black-chdhx-131-rw',\n",
       " 'https://www.grupoalfatec.com.py/search/lark%20m2',\n",
       " 'https://www.grupoalfatec.com.py/search/dji%20neo',\n",
       " 'https://www.grupoalfatec.com.py/search/e10%20ii',\n",
       " 'product/flash-de-estudio-godox-ms300v-220v',\n",
       " 'product/tilta-tiltaing-pocket-follow-focus-ff-t07',\n",
       " 'product/controlador-yololiv-yolodeck',\n",
       " 'product/kit-de-limpeza-vsgo-vs-a3e-para-cameras',\n",
       " 'product/bastao-led-beston-sla-024r-10w-rgb-30cm',\n",
       " 'product/adaptador-canon-ef-m-para-lentes-ef-ef-s',\n",
       " 'product/lente-sigma-16mm-f-1-4-dc-dn-contemporary-p-sony',\n",
       " 'product/lente-tamron-28-200mm-f-2-8-5-6-di-iii-rxd-para-sony',\n",
       " 'product/filtro-de-lente-k-f-uv-67mm-serie-c-kf01-1426',\n",
       " 'product/flash-canon-speedlite-el-5-canon-r-r50-r6',\n",
       " 'product/mochila-beta-zip-22l-kf13-104v1',\n",
       " 'product/lente-viltrox-af-16mm-f-1-8-z-nikon-z-fullframe',\n",
       " 'product/ulanzi-ma35-magsafe-bluetooth-smartphone-grip',\n",
       " 'product/lente-sigma-35mm-f-1-4-dg-dn-hsm-art-p-sony',\n",
       " 'product/estabilizador-zhiyun-crane-m3s-combo',\n",
       " 'product/kit-de-limpeza-vsgovs-a2e-para-cameras',\n",
       " '',\n",
       " 'brands',\n",
       " 'releases',\n",
       " 'featured',\n",
       " 'location',\n",
       " 'sellers',\n",
       " 'category/lentes',\n",
       " 'category/iluminacao',\n",
       " 'category/audio-video',\n",
       " 'category/cameras',\n",
       " 'category/acessorios',\n",
       " 'category/fotografia',\n",
       " 'category/amaran',\n",
       " 'category/baofeng',\n",
       " 'category/bd',\n",
       " 'category/benro',\n",
       " 'category/boya',\n",
       " 'category/canon',\n",
       " 'category/commlite',\n",
       " 'category/dji',\n",
       " 'category/eneloop',\n",
       " 'category/fotga',\n",
       " 'category/fujifilm',\n",
       " 'category/fxlion',\n",
       " 'category/godox',\n",
       " 'category/gopro',\n",
       " 'category/greika',\n",
       " 'category/hp',\n",
       " 'category/incoflash',\n",
       " 'category/insta-360',\n",
       " 'category/jbl',\n",
       " 'category/jvc',\n",
       " 'category/kingjoy',\n",
       " 'category/kingston',\n",
       " 'category/nicefoto',\n",
       " 'category/nikon',\n",
       " 'category/panasonic',\n",
       " 'category/phillips',\n",
       " 'category/puluz',\n",
       " 'category/rode',\n",
       " 'category/sandisk',\n",
       " 'category/seagate',\n",
       " 'category/sigma',\n",
       " 'category/smallrig',\n",
       " 'category/sokani',\n",
       " 'category/sony',\n",
       " 'category/tamron',\n",
       " 'category/tascam',\n",
       " 'category/yongnuo',\n",
       " 'category/zgcine',\n",
       " 'category/zomei',\n",
       " 'category/zoom',\n",
       " 'https://telegram.me/alfatecpy',\n",
       " 'cdn-cgi/l/email-protection',\n",
       " 'https://www.instagram.com/alfatecpy/?hl=es',\n",
       " 'https://www.facebook.com/alfatecpy',\n",
       " 'https://www.youtube.com/channel/UC074owzlVivZWtmo-JBzz7Q/featured',\n",
       " '',\n",
       " 'brands',\n",
       " 'releases',\n",
       " 'featured',\n",
       " 'location',\n",
       " 'sellers',\n",
       " 'category/lentes',\n",
       " 'category/iluminacao',\n",
       " 'category/audio-video',\n",
       " 'category/cameras',\n",
       " 'category/acessorios',\n",
       " 'category/fotografia',\n",
       " 'category/amaran',\n",
       " 'category/baofeng',\n",
       " 'category/bd',\n",
       " 'category/benro',\n",
       " 'category/boya',\n",
       " 'category/canon',\n",
       " 'category/commlite',\n",
       " 'category/dji',\n",
       " 'category/eneloop',\n",
       " 'category/fotga',\n",
       " 'category/fujifilm',\n",
       " 'category/fxlion',\n",
       " 'category/godox',\n",
       " 'category/gopro',\n",
       " 'category/greika',\n",
       " 'category/hp',\n",
       " 'category/incoflash',\n",
       " 'category/insta-360',\n",
       " 'category/jbl',\n",
       " 'category/jvc',\n",
       " 'category/kingjoy',\n",
       " 'category/kingston',\n",
       " 'category/nicefoto',\n",
       " 'category/nikon',\n",
       " 'category/panasonic',\n",
       " 'category/phillips',\n",
       " 'category/puluz',\n",
       " 'category/rode',\n",
       " 'category/sandisk',\n",
       " 'category/seagate',\n",
       " 'category/sigma',\n",
       " 'category/smallrig',\n",
       " 'category/sokani',\n",
       " 'category/sony',\n",
       " 'category/tamron',\n",
       " 'category/tascam',\n",
       " 'category/yongnuo',\n",
       " 'category/zgcine',\n",
       " 'category/zomei',\n",
       " 'category/zoom',\n",
       " 'https://telegram.me/alfatecpy',\n",
       " 'cdn-cgi/l/email-protection',\n",
       " 'https://withyou.tech',\n",
       " 'javascript:void(0);',\n",
       " 'https://api.whatsapp.com/send?phone=595992765967&text= Hola, me comunico con usted directamente a través del sitio web https://www.grupoalfatec.com.py y quisiera ser atendido por el vendedor(a) Junior Cañete (Silvino).']"
      ]
     },
     "execution_count": 14,
     "metadata": {},
     "output_type": "execute_result"
    }
   ],
   "source": [
    "to_category"
   ]
  },
  {
   "cell_type": "code",
   "execution_count": 102,
   "metadata": {},
   "outputs": [],
   "source": [
    "file_path = os.path.join(os.getcwd(),'..','data','alfatech','files')\n",
    "cate = pd.read_pickle(fr'{file_path}/categorys_alfatech.pickle')"
   ]
  },
  {
   "cell_type": "code",
   "execution_count": 108,
   "metadata": {},
   "outputs": [
    {
     "data": {
      "text/plain": [
       "0                                                       \n",
       "3                                   category/adaptadores\n",
       "5                                       category/filtros\n",
       "7                                  category/follow-focus\n",
       "9                                   category/kit-limpeza\n",
       "                             ...                        \n",
       "280                                     category/yongnuo\n",
       "281                                      category/zgcine\n",
       "282                                       category/zomei\n",
       "283                                        category/zoom\n",
       "345    https://api.whatsapp.com/send?phone=5959927659...\n",
       "Name: 0, Length: 149, dtype: object"
      ]
     },
     "execution_count": 108,
     "metadata": {},
     "output_type": "execute_result"
    }
   ],
   "source": [
    "cate.replace(\"https://api.whatsapp.com/send?phone=595992765967&text= Hola, me comunico con usted directamente a través del sitio web https://www.grupoalfatec.com.py y quisiera ser atendido por el vendedor(a) Junior Cañete (Silvino).']\",'')"
   ]
  },
  {
   "cell_type": "code",
   "execution_count": 111,
   "metadata": {},
   "outputs": [],
   "source": [
    "cate.to_excel(r'tratar_lista.xlsx',index=False)"
   ]
  },
  {
   "cell_type": "code",
   "execution_count": 16,
   "metadata": {},
   "outputs": [],
   "source": [
    "df_t[0] = df_t[0].replace(\n",
    "['sellers',\n",
    " 'location',\n",
    " 'https://www.grupoalfatec.com.py/search/zoom',\n",
    " 'https://www.grupoalfatec.com.py/search/e10%20ii',\n",
    " '#',\n",
    " 'https://www.grupoalfatec.com.py/product/flash-godox-ad200-pro',\n",
    " 'https://www.grupoalfatec.com.py/product/camera-blackmagic-design-pocket-cinema-6k-pro-corpo-2-anos-de-garantia-em-brasil',\n",
    " 'https://www.grupoalfatec.com.py/product/drone-dji-air-3s-fly-more-combo-dji-rc-2',\n",
    " 'https://www.grupoalfatec.com.py/search/OSMO%20ACTION%205%20PRO',\n",
    " 'https://www.grupoalfatec.com.py/search/dji%20neo',\n",
    " 'https://www.grupoalfatec.com.py/search/zv-e10',\n",
    " 'brand/baofeng', 'https://www.grupoalfatec.com.py/search/zoom',\n",
    " 'https://www.grupoalfatec.com.py/search/e10%20ii',\n",
    " '#',\n",
    " 'https://www.grupoalfatec.com.py/product/flash-godox-ad200-pro',\n",
    " 'https://www.grupoalfatec.com.py/product/camera-blackmagic-design-pocket-cinema-6k-pro-corpo-2-anos-de-garantia-em-brasil',\n",
    " 'https://www.grupoalfatec.com.py/product/drone-dji-air-3s-fly-more-combo-dji-rc-2',\n",
    " 'https://www.grupoalfatec.com.py/search/OSMO%20ACTION%205%20PRO',\n",
    " 'https://www.grupoalfatec.com.py/search/dji%20neo',\n",
    " 'https://www.grupoalfatec.com.py/search/zv-e10',\n",
    " 'brand/baofeng',\n",
    " 'brand/sandisk',\n",
    " 'brand/canon',\n",
    " 'brand/kingston',\n",
    " 'brand/kingjoy',\n",
    " 'brand/jbl',\n",
    " 'brand/boya',\n",
    " 'brand/nikon',\n",
    " 'brand/seagate',\n",
    " 'brand/sony',\n",
    " 'brand/zomei',\n",
    " 'brand/tascam',\n",
    " 'brand/dji',\n",
    " 'brand/puluz',\n",
    " 'brand/jvc',\n",
    " 'brand/insta-360',\n",
    " 'brand/incoflash',\n",
    " 'brand/sokani',\n",
    " 'brand/hp',\n",
    " 'brand/phillips',\n",
    " 'brand/zoom',\n",
    " 'product/switch-live-streaming-yololiv-yolobox-pro',\n",
    " 'product/drone-dji-mini-4k',\n",
    " 'product/camera-de-acao-gopro-hero-13-black-chdhx-131-rw',\n",
    " 'product/tilta-mirage-vnd-kite-box-mb-t16-a',\n",
    " 'https://www.grupoalfatec.com.py/search/lark%20m2',\n",
    " 'https://www.grupoalfatec.com.py/search/dji%20neo',\n",
    " 'https://www.grupoalfatec.com.py/search/e10%20ii',\n",
    " 'product/flash-de-estudio-godox-ms300v-220v',\n",
    " 'product/mochila-beta-20l-kf13-119',\n",
    " 'product/lente-tamron-28-200mm-f-2-8-5-6-di-iii-rxd-para-sony',\n",
    " 'product/kit-de-limpeza-vsgo-vs-a3e-para-cameras',\n",
    " 'product/controlador-yololiv-yolodeck',\n",
    " 'product/lente-viltrox-af-16mm-f-1-8-z-nikon-z-fullframe',\n",
    " 'product/ulanzi-ma35-magsafe-bluetooth-smartphone-grip',\n",
    " 'product/mochila-beta-zip-22l-kf13-104v1',\n",
    " 'product/bastao-led-beston-sla-024r-10w-rgb-30cm',\n",
    " 'product/lente-sigma-35mm-f-1-4-dg-dn-hsm-art-p-sony',\n",
    " 'product/filtro-de-lente-k-f-uv-67mm-serie-c-kf01-1426',\n",
    " 'product/lente-tamron-28-75mm-f-2-8-di-iii-p-sony',\n",
    " 'product/kit-de-limpeza-vsgovs-a2e-para-cameras',\n",
    " 'product/estabilizador-zhiyun-crane-m3s-combo',\n",
    " 'product/tilta-tiltaing-pocket-follow-focus-ff-t07',\n",
    " 'product/adaptador-canon-ef-m-para-lentes-ef-ef-s',\n",
    "  'https://telegram.me/alfatecpy',\n",
    "    '#category-18',\n",
    "    '#category-19',\n",
    "    '#category-2',\n",
    "'#category-21',\n",
    "'#category-25',\n",
    "'#category-3',\n",
    "'#category-4',\n",
    "'#category-40',    \n",
    "'#category-5',\n",
    "'brands',\n",
    " 'cdn-cgi/l/email-protection',\n",
    "'https://withyou.tech',\n",
    " 'https://www.instagram.com/alfatecpy/?hl=es',\n",
    " 'https://www.facebook.com/alfatecpy',\n",
    " 'https://www.youtube.com/channel/UC074owzlVivZWtmo-JBzz7Q/featured',\n",
    " 'https://telegram.me/alfatecpy',\n",
    " 'cdn-cgi/l/email-protection',\n",
    " 'https://withyou.tech',\n",
    " 'javascript:void(0);',\n",
    " '#category-1',\n",
    " 'https://api.whatsapp.com/send?phone=595994990686&text= Hola, me comunico con usted directamente a través del sitio web https://www.grupoalfatec.com.py y quisiera ser atendido por el vendedor(a) Carlos Franco.'\n",
    " ],''\n",
    ")"
   ]
  },
  {
   "cell_type": "code",
   "execution_count": 21,
   "metadata": {},
   "outputs": [
    {
     "data": {
      "text/html": [
       "<div>\n",
       "<style scoped>\n",
       "    .dataframe tbody tr th:only-of-type {\n",
       "        vertical-align: middle;\n",
       "    }\n",
       "\n",
       "    .dataframe tbody tr th {\n",
       "        vertical-align: top;\n",
       "    }\n",
       "\n",
       "    .dataframe thead th {\n",
       "        text-align: right;\n",
       "    }\n",
       "</style>\n",
       "<table border=\"1\" class=\"dataframe\">\n",
       "  <thead>\n",
       "    <tr style=\"text-align: right;\">\n",
       "      <th></th>\n",
       "      <th>0</th>\n",
       "    </tr>\n",
       "  </thead>\n",
       "  <tbody>\n",
       "    <tr>\n",
       "      <th>0</th>\n",
       "      <td></td>\n",
       "    </tr>\n",
       "    <tr>\n",
       "      <th>3</th>\n",
       "      <td>category/adaptadores</td>\n",
       "    </tr>\n",
       "    <tr>\n",
       "      <th>5</th>\n",
       "      <td>category/filtros</td>\n",
       "    </tr>\n",
       "    <tr>\n",
       "      <th>7</th>\n",
       "      <td>category/follow-focus</td>\n",
       "    </tr>\n",
       "    <tr>\n",
       "      <th>9</th>\n",
       "      <td>category/kit-limpeza</td>\n",
       "    </tr>\n",
       "    <tr>\n",
       "      <th>...</th>\n",
       "      <td>...</td>\n",
       "    </tr>\n",
       "    <tr>\n",
       "      <th>280</th>\n",
       "      <td>category/yongnuo</td>\n",
       "    </tr>\n",
       "    <tr>\n",
       "      <th>281</th>\n",
       "      <td>category/zgcine</td>\n",
       "    </tr>\n",
       "    <tr>\n",
       "      <th>282</th>\n",
       "      <td>category/zomei</td>\n",
       "    </tr>\n",
       "    <tr>\n",
       "      <th>283</th>\n",
       "      <td>category/zoom</td>\n",
       "    </tr>\n",
       "    <tr>\n",
       "      <th>345</th>\n",
       "      <td>https://api.whatsapp.com/send?phone=5959927659...</td>\n",
       "    </tr>\n",
       "  </tbody>\n",
       "</table>\n",
       "<p>149 rows × 1 columns</p>\n",
       "</div>"
      ],
      "text/plain": [
       "                                                     0\n",
       "0                                                     \n",
       "3                                 category/adaptadores\n",
       "5                                     category/filtros\n",
       "7                                category/follow-focus\n",
       "9                                 category/kit-limpeza\n",
       "..                                                 ...\n",
       "280                                   category/yongnuo\n",
       "281                                    category/zgcine\n",
       "282                                     category/zomei\n",
       "283                                      category/zoom\n",
       "345  https://api.whatsapp.com/send?phone=5959927659...\n",
       "\n",
       "[149 rows x 1 columns]"
      ]
     },
     "execution_count": 21,
     "metadata": {},
     "output_type": "execute_result"
    }
   ],
   "source": [
    "df_t"
   ]
  },
  {
   "cell_type": "code",
   "execution_count": 17,
   "metadata": {},
   "outputs": [],
   "source": [
    "df_t = df_t.drop_duplicates()"
   ]
  },
  {
   "cell_type": "code",
   "execution_count": 22,
   "metadata": {},
   "outputs": [],
   "source": [
    "df_t[0].to_pickle(r'categorys_alfatech.pickle')"
   ]
  },
  {
   "cell_type": "code",
   "execution_count": null,
   "metadata": {},
   "outputs": [],
   "source": []
  }
 ],
 "metadata": {
  "kernelspec": {
   "display_name": "eco-venv",
   "language": "python",
   "name": "python3"
  },
  "language_info": {
   "codemirror_mode": {
    "name": "ipython",
    "version": 3
   },
   "file_extension": ".py",
   "mimetype": "text/x-python",
   "name": "python",
   "nbconvert_exporter": "python",
   "pygments_lexer": "ipython3",
   "version": "3.12.5"
  }
 },
 "nbformat": 4,
 "nbformat_minor": 2
}
